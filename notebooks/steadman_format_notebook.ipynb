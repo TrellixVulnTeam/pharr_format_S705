{
 "cells": [
  {
   "cell_type": "code",
   "execution_count": 2,
   "metadata": {},
   "outputs": [
    {
     "data": {
      "text/plain": [
       "'/Users/aleedom/cltk'"
      ]
     },
     "execution_count": 2,
     "metadata": {},
     "output_type": "execute_result"
    }
   ],
   "source": [
    "import os \n",
    "os.getcwd()"
   ]
  },
  {
   "cell_type": "code",
   "execution_count": 1,
   "metadata": {},
   "outputs": [],
   "source": [
    "from cltk.corpus.utils.formatter import assemble_phi5_author_filepaths\n",
    "from cltk.corpus.utils.formatter import phi5_plaintext_cleanup\n",
    "from cltk.stem.latin.j_v import JVReplacer\n",
    "from collections import Counter\n",
    "from nltk.tokenize.punkt import PunktLanguageVars\n",
    "import os\n",
    "from cltk.lemmatize.latin.backoff import BackoffLatinLemmatizer\n",
    "lemmatizer = BackoffLatinLemmatizer()\n",
    "\n",
    "path = 'lexica/Lewis_Short_XML/lat.ls.perseus-eng1.xml'\n",
    "path2 = 'lexica/Lewis_Short_XML/lat.ls.perseus-eng2.xml'"
   ]
  },
  {
   "cell_type": "markdown",
   "metadata": {},
   "source": [
    "## Now that we've messed around a bit, why not create a filter list?"
   ]
  },
  {
   "cell_type": "code",
   "execution_count": 2,
   "metadata": {},
   "outputs": [
    {
     "data": {
      "text/plain": [
       "['latin_text_perseus',\n",
       " 'latin_treebank_perseus',\n",
       " 'latin_text_latin_library',\n",
       " 'phi5',\n",
       " 'phi7',\n",
       " 'latin_proper_names_cltk',\n",
       " 'latin_models_cltk',\n",
       " 'latin_pos_lemmata_cltk',\n",
       " 'latin_treebank_index_thomisticus',\n",
       " 'latin_lexica_perseus',\n",
       " 'latin_training_set_sentence_cltk',\n",
       " 'latin_word2vec_cltk',\n",
       " 'latin_text_antique_digiliblt',\n",
       " 'latin_text_corpus_grammaticorum_latinorum',\n",
       " 'latin_text_poeti_ditalia',\n",
       " 'latin_text_tesserae']"
      ]
     },
     "execution_count": 2,
     "metadata": {},
     "output_type": "execute_result"
    }
   ],
   "source": [
    "from collections import Counter\n",
    "from cltk.corpus.utils.importer import CorpusImporter\n",
    "corpus_importer = CorpusImporter('latin')\n",
    "corpus_importer.list_corpora"
   ]
  },
  {
   "cell_type": "code",
   "execution_count": 4,
   "metadata": {},
   "outputs": [
    {
     "ename": "ModuleNotFoundError",
     "evalue": "No module named 'docx'",
     "output_type": "error",
     "traceback": [
      "\u001b[0;31m---------------------------------------------------------------------------\u001b[0m",
      "\u001b[0;31mModuleNotFoundError\u001b[0m                       Traceback (most recent call last)",
      "\u001b[0;32m<ipython-input-4-2d9be6399393>\u001b[0m in \u001b[0;36m<module>\u001b[0;34m\u001b[0m\n\u001b[1;32m      1\u001b[0m \u001b[0mget_ipython\u001b[0m\u001b[0;34m(\u001b[0m\u001b[0;34m)\u001b[0m\u001b[0;34m.\u001b[0m\u001b[0mrun_line_magic\u001b[0m\u001b[0;34m(\u001b[0m\u001b[0;34m'load_ext'\u001b[0m\u001b[0;34m,\u001b[0m \u001b[0;34m'autoreload'\u001b[0m\u001b[0;34m)\u001b[0m\u001b[0;34m\u001b[0m\u001b[0;34m\u001b[0m\u001b[0m\n\u001b[1;32m      2\u001b[0m \u001b[0mget_ipython\u001b[0m\u001b[0;34m(\u001b[0m\u001b[0;34m)\u001b[0m\u001b[0;34m.\u001b[0m\u001b[0mrun_line_magic\u001b[0m\u001b[0;34m(\u001b[0m\u001b[0;34m'autoreload'\u001b[0m\u001b[0;34m,\u001b[0m \u001b[0;34m'2'\u001b[0m\u001b[0;34m)\u001b[0m\u001b[0;34m\u001b[0m\u001b[0;34m\u001b[0m\u001b[0m\n\u001b[0;32m----> 3\u001b[0;31m \u001b[0;32mimport\u001b[0m \u001b[0msteadman\u001b[0m\u001b[0;34m\u001b[0m\u001b[0;34m\u001b[0m\u001b[0m\n\u001b[0m",
      "\u001b[0;32m~/cltk/steadman.py\u001b[0m in \u001b[0;36m<module>\u001b[0;34m\u001b[0m\n\u001b[1;32m     14\u001b[0m \u001b[0;32mfrom\u001b[0m \u001b[0mcltk\u001b[0m\u001b[0;34m.\u001b[0m\u001b[0mstop\u001b[0m\u001b[0;34m.\u001b[0m\u001b[0mlatin\u001b[0m \u001b[0;32mimport\u001b[0m \u001b[0mSTOPS_LIST\u001b[0m\u001b[0;34m\u001b[0m\u001b[0;34m\u001b[0m\u001b[0m\n\u001b[1;32m     15\u001b[0m \u001b[0;34m\u001b[0m\u001b[0m\n\u001b[0;32m---> 16\u001b[0;31m \u001b[0;32mfrom\u001b[0m \u001b[0mdocx\u001b[0m \u001b[0;32mimport\u001b[0m \u001b[0mDocument\u001b[0m\u001b[0;34m\u001b[0m\u001b[0;34m\u001b[0m\u001b[0m\n\u001b[0m\u001b[1;32m     17\u001b[0m \u001b[0;34m\u001b[0m\u001b[0m\n\u001b[1;32m     18\u001b[0m \u001b[0mlemmatizer\u001b[0m \u001b[0;34m=\u001b[0m \u001b[0mBackoffLatinLemmatizer\u001b[0m\u001b[0;34m(\u001b[0m\u001b[0;34m)\u001b[0m\u001b[0;34m\u001b[0m\u001b[0;34m\u001b[0m\u001b[0m\n",
      "\u001b[0;31mModuleNotFoundError\u001b[0m: No module named 'docx'"
     ]
    }
   ],
   "source": [
    "%load_ext autoreload\n",
    "%autoreload 2\n",
    "import steadman"
   ]
  },
  {
   "cell_type": "code",
   "execution_count": 5,
   "metadata": {},
   "outputs": [
    {
     "ename": "ModuleNotFoundError",
     "evalue": "No module named 'docx'",
     "output_type": "error",
     "traceback": [
      "\u001b[0;31m---------------------------------------------------------------------------\u001b[0m",
      "\u001b[0;31mModuleNotFoundError\u001b[0m                       Traceback (most recent call last)",
      "\u001b[0;32m<ipython-input-5-6d471520889f>\u001b[0m in \u001b[0;36m<module>\u001b[0;34m\u001b[0m\n\u001b[0;32m----> 1\u001b[0;31m \u001b[0;32mfrom\u001b[0m \u001b[0mdocx\u001b[0m \u001b[0;32mimport\u001b[0m \u001b[0mDocument\u001b[0m\u001b[0;34m\u001b[0m\u001b[0;34m\u001b[0m\u001b[0m\n\u001b[0m",
      "\u001b[0;31mModuleNotFoundError\u001b[0m: No module named 'docx'"
     ]
    }
   ],
   "source": [
    "from docx import Document"
   ]
  },
  {
   "cell_type": "code",
   "execution_count": 7,
   "metadata": {},
   "outputs": [],
   "source": [
    "from cltk.corpus.readers import get_corpus_reader\n",
    "corpus_importer.import_corpus('latin_text_perseus')\n",
    "reader = get_corpus_reader(language='latin', corpus_name='latin_text_latin_library')\n"
   ]
  },
  {
   "cell_type": "markdown",
   "metadata": {},
   "source": [
    "## We choose a sample document..."
   ]
  },
  {
   "cell_type": "code",
   "execution_count": 556,
   "metadata": {},
   "outputs": [
    {
     "data": {
      "text/plain": [
       "['.', ',', ';', '\"', \"'\", '-que', '-ne', '-ve']"
      ]
     },
     "execution_count": 556,
     "metadata": {},
     "output_type": "execute_result"
    }
   ],
   "source": [
    "punc"
   ]
  },
  {
   "cell_type": "code",
   "execution_count": 355,
   "metadata": {},
   "outputs": [],
   "source": [
    "S = CorpusStoplist()"
   ]
  },
  {
   "cell_type": "code",
   "execution_count": 361,
   "metadata": {
    "collapsed": true,
    "jupyter": {
     "outputs_hidden": true
    }
   },
   "outputs": [
    {
     "data": {
      "text/plain": [
       "['accurro',\n",
       " 'agito',\n",
       " 'addo',\n",
       " 'citer',\n",
       " 'aethiopia',\n",
       " 'adeo1',\n",
       " 'admisceo',\n",
       " 'adprehendo',\n",
       " 'dum',\n",
       " 'absolvo',\n",
       " 'assuesco',\n",
       " 'agilis',\n",
       " 'homo',\n",
       " 'affluo',\n",
       " 'sum',\n",
       " 'haud',\n",
       " 'adolesco',\n",
       " 'gradus',\n",
       " 'caesar',\n",
       " 'aestimo',\n",
       " 'aereus1',\n",
       " 'aevum',\n",
       " 'aliter',\n",
       " 'doceo',\n",
       " 'administro',\n",
       " 'eques',\n",
       " 'acerbus',\n",
       " 'communio1',\n",
       " 'aliquoties',\n",
       " 'adfabilitas',\n",
       " 'alius',\n",
       " 'ad-luo1',\n",
       " 'apodemio',\n",
       " 'ad-sequor',\n",
       " 'actito',\n",
       " 'adnecto',\n",
       " 'antiochiam',\n",
       " 'fortuna',\n",
       " 'ad-scisco',\n",
       " 'gallus',\n",
       " 'audacia',\n",
       " 'cognosco',\n",
       " 'amplus',\n",
       " 'cogito',\n",
       " 'contemplo',\n",
       " 'ab',\n",
       " 'bene',\n",
       " 'abdo',\n",
       " 'gravis',\n",
       " 'adeo',\n",
       " 'constantina',\n",
       " 'defero',\n",
       " 'incertus',\n",
       " 'imperator',\n",
       " 'deinde',\n",
       " 'ideo',\n",
       " 'armenia',\n",
       " 'duco',\n",
       " 'epigonus',\n",
       " 'ambo',\n",
       " 'adduco',\n",
       " 'adverso',\n",
       " 'collaticius',\n",
       " 'confine',\n",
       " 'ascitus2',\n",
       " 'dignitas',\n",
       " 'adigentibus',\n",
       " 'consortes',\n",
       " 'administratio',\n",
       " 'alter',\n",
       " 'aditibus',\n",
       " 'affatim',\n",
       " 'aurigaris',\n",
       " 'aboleo',\n",
       " 'adepturi',\n",
       " 'cunctus',\n",
       " 'aeger',\n",
       " 'crus',\n",
       " 'fero',\n",
       " 'aedifico',\n",
       " 'ex',\n",
       " 'carnifex',\n",
       " 'admitto',\n",
       " 'cum2',\n",
       " 'adimo',\n",
       " 'adulabilis',\n",
       " 'appello',\n",
       " 'gnarus',\n",
       " 'cubiculum',\n",
       " 'affligo',\n",
       " 'antehac',\n",
       " 'ammianus',\n",
       " 'artus2',\n",
       " 'emetior',\n",
       " 'aedilitas',\n",
       " 'hic',\n",
       " 'adrasteo',\n",
       " 'confidenter',\n",
       " 'acervus',\n",
       " 'adulescens',\n",
       " 'denique',\n",
       " 'domitianus',\n",
       " 'adveho',\n",
       " 'in',\n",
       " 'ardor',\n",
       " 'adventicius',\n",
       " 'celer1',\n",
       " 'aetas',\n",
       " 'accolo',\n",
       " 'caveo',\n",
       " 'alpes',\n",
       " 'actus2',\n",
       " 'inde',\n",
       " 'igitur',\n",
       " 'flumen',\n",
       " 'assisto',\n",
       " 'abunde',\n",
       " 'abstractas',\n",
       " 'alimentum',\n",
       " 'blandus',\n",
       " 'aliqui',\n",
       " 'agitaris',\n",
       " 'appareo',\n",
       " 'adhuc',\n",
       " 'adorio',\n",
       " 'adsiduitas',\n",
       " 'aggredior',\n",
       " 'accipio',\n",
       " 'barbatio',\n",
       " 'gens',\n",
       " 'creber',\n",
       " 'conpage',\n",
       " 'ambitiosus',\n",
       " 'domitianum',\n",
       " 'admovente',\n",
       " 'absumo',\n",
       " 'duo',\n",
       " 'atque',\n",
       " 'agrestis',\n",
       " 'cassus',\n",
       " 'audeo',\n",
       " 'comes',\n",
       " 'appono',\n",
       " 'agrarius',\n",
       " 'advenio',\n",
       " 'accio',\n",
       " 'adminiculis',\n",
       " 'commentus',\n",
       " 'ago',\n",
       " 'asto',\n",
       " 'discrimen',\n",
       " 'augustus',\n",
       " 'acilio',\n",
       " 'aemulis',\n",
       " 'adigo',\n",
       " 'ad-rogo',\n",
       " 'exitium',\n",
       " 'adsistendo',\n",
       " 'inter',\n",
       " 'consto',\n",
       " 'alloquor',\n",
       " 'accendente',\n",
       " 'bellator',\n",
       " 'do',\n",
       " 'ad-simulo',\n",
       " 'adhibeo',\n",
       " 'acies',\n",
       " 'apud',\n",
       " 'ille',\n",
       " 'advoco',\n",
       " 'erigo',\n",
       " 'aeternus',\n",
       " 'conpertis',\n",
       " 'discedo',\n",
       " 'diverto',\n",
       " 'amnis',\n",
       " 'admodum',\n",
       " 'abstraho',\n",
       " 'altus',\n",
       " 'cautela',\n",
       " 'abutor',\n",
       " 'absentia',\n",
       " 'excogitas',\n",
       " 'adflictabantur',\n",
       " 'consilium',\n",
       " 'aufero',\n",
       " 'diu',\n",
       " 'actique',\n",
       " 'constantini',\n",
       " 'auris',\n",
       " 'agnitus',\n",
       " 'antiochiae',\n",
       " 'clam',\n",
       " 'dico',\n",
       " 'animus',\n",
       " 'advecticiis',\n",
       " 'constantio',\n",
       " 'ad',\n",
       " 'imperium',\n",
       " 'abnuo',\n",
       " 'abscedo',\n",
       " 'abundo',\n",
       " 'agathoclem',\n",
       " 'aegypto',\n",
       " 'fere',\n",
       " 'alo',\n",
       " 'ars',\n",
       " 'abicio',\n",
       " 'alimentor',\n",
       " 'antiochia',\n",
       " 'civitas',\n",
       " 'alacriter',\n",
       " 'absque',\n",
       " 'addensque',\n",
       " 'adoleo1',\n",
       " 'effero2',\n",
       " 'causa',\n",
       " 'aerumna',\n",
       " 'diffundo',\n",
       " 'iam',\n",
       " 'abrumpo',\n",
       " 'accido1',\n",
       " 'eusebius',\n",
       " 'existimo',\n",
       " 'arduus',\n",
       " 'aboraeque',\n",
       " 'aerarius',\n",
       " 'adfectant',\n",
       " 'an',\n",
       " 'aeternitas',\n",
       " 'excedo',\n",
       " 'advena',\n",
       " 'is',\n",
       " 'licet',\n",
       " 'accendo2',\n",
       " 'adjumentum',\n",
       " 'exsilium',\n",
       " 'adorior',\n",
       " 'adfectas',\n",
       " 'domicilium',\n",
       " 'acerbitas',\n",
       " 'quidam',\n",
       " 'abstergeo',\n",
       " 'armatus',\n",
       " 'bellum',\n",
       " 'etiam',\n",
       " 'alea',\n",
       " 'accedo',\n",
       " 'elogium',\n",
       " 'alius2',\n",
       " 'cervix',\n",
       " 'conperto',\n",
       " 'domina',\n",
       " 'acciverunt',\n",
       " 'aemulo',\n",
       " 'capio',\n",
       " 'auspicium',\n",
       " 'constantii',\n",
       " 'cura',\n",
       " 'abscido',\n",
       " 'admoueo',\n",
       " 'bonus',\n",
       " 'arma',\n",
       " 'constantinopolim',\n",
       " 'domus',\n",
       " 'certamen',\n",
       " 'accursus',\n",
       " 'adminiculo',\n",
       " 'culpa',\n",
       " 'adseclae',\n",
       " 'adfectans',\n",
       " 'apollinaris',\n",
       " 'cunctor',\n",
       " 'acer',\n",
       " 'impetus',\n",
       " 'artus1',\n",
       " 'alexander',\n",
       " 'causaris',\n",
       " 'appetitus2',\n",
       " 'adrastia',\n",
       " 'adulator',\n",
       " 'decet',\n",
       " 'adclivitas',\n",
       " 'enim',\n",
       " 'casus',\n",
       " 'antea',\n",
       " 'adverro',\n",
       " 'aio',\n",
       " 'adtributo',\n",
       " 'abeo',\n",
       " 'fido',\n",
       " 'celsus1',\n",
       " 'autem',\n",
       " 'accusator',\n",
       " 'adclinis',\n",
       " 'emitto',\n",
       " 'alienus',\n",
       " 'addico',\n",
       " 'aequitas',\n",
       " 'edo2',\n",
       " 'aliquis',\n",
       " 'et',\n",
       " 'aliquando',\n",
       " 'crimen',\n",
       " 'corpus',\n",
       " 'adsum',\n",
       " 'cognomentum',\n",
       " 'ita',\n",
       " 'de',\n",
       " 'agilitatemque',\n",
       " 'considero',\n",
       " 'aut',\n",
       " 'admissusque',\n",
       " 'dives',\n",
       " 'agitatio',\n",
       " 'aegritudo',\n",
       " 'alexandrini',\n",
       " 'anxius',\n",
       " 'exitial',\n",
       " 'qui',\n",
       " 'caput',\n",
       " 'assurgo',\n",
       " 'copia',\n",
       " 'convenio',\n",
       " 'assiduus2',\n",
       " 'africae',\n",
       " 'ante',\n",
       " 'dies',\n",
       " 'alibi',\n",
       " 'agmen',\n",
       " 'adfectabat',\n",
       " 'flagro',\n",
       " 'alexandrum',\n",
       " 'inquam',\n",
       " 'idem',\n",
       " 'adramyttenum',\n",
       " 'coepio',\n",
       " 'concordi']"
      ]
     },
     "execution_count": 361,
     "metadata": {},
     "output_type": "execute_result"
    }
   ],
   "source": [
    "stops = S.build_stoplist(str([[x] for x in reader.docs()]), size=500)\n",
    "\n",
    "stops = list(set([lemmatizer.lemmatize([x])[0][1] for x in stops]))\n",
    "\n",
    "stops"
   ]
  },
  {
   "cell_type": "code",
   "execution_count": 9,
   "metadata": {},
   "outputs": [],
   "source": [
    "reader._fileids = ['ammianus/14.txt'] # ammianus book 14"
   ]
  },
  {
   "cell_type": "code",
   "execution_count": 27,
   "metadata": {},
   "outputs": [],
   "source": [
    "paras = list(reader.paras())\n",
    "numbers = [str(n) for n in range(11)]"
   ]
  },
  {
   "cell_type": "code",
   "execution_count": 33,
   "metadata": {},
   "outputs": [],
   "source": [
    "paragraph = []\n",
    "for subsection in paras[3]:\n",
    "    if subsection[0].strip('.') not in numbers: \n",
    "        paragraph.append(\" \".join(subsection))"
   ]
  },
  {
   "cell_type": "markdown",
   "metadata": {},
   "source": [
    "## ... And clean it up a bit "
   ]
  },
  {
   "cell_type": "code",
   "execution_count": 52,
   "metadata": {
    "collapsed": true,
    "jupyter": {
     "outputs_hidden": true
    }
   },
   "outputs": [
    {
     "name": "stdout",
     "output_type": "stream",
     "text": [
      "1\n",
      "1\n",
      "1\n",
      "23\n",
      "30\n",
      "9\n",
      "10\n",
      "21\n",
      "45\n",
      "34\n",
      "30\n",
      "15\n",
      "27\n",
      "58\n"
     ]
    }
   ],
   "source": [
    "for p in paras: \n",
    "    if len(p) >1: \n",
    "        for chunk in p: \n",
    "            if chunk([0]) not in numbers: \n",
    "                paragraph.append(\" \".join(subsection))"
   ]
  },
  {
   "cell_type": "code",
   "execution_count": 470,
   "metadata": {},
   "outputs": [
    {
     "data": {
      "text/plain": [
       "'Saraceni tamen nec amici nobis umquam nec hostes optandi, ultro citroque discursantes quicquid inveniri poterat momento temporis parvi vastabant milvorum rapacium similes, qui si praedam dispexerint celsius, volatu rapiunt celeri, aut nisi impetraverint, non inmorantur.'"
      ]
     },
     "execution_count": 470,
     "metadata": {},
     "output_type": "execute_result"
    }
   ],
   "source": [
    "\n",
    "\n",
    "def clean_paragraph(ls):\n",
    "    out = f\"\"\n",
    "    for i in range(len(ls) - 1):  \n",
    "        if ls[i + 1] in punc: \n",
    "            out += ''.join([ls[i], ls[i + 1].strip('-')]) + ' '\n",
    "        elif ls[i] not in punc:\n",
    "            out += f'{ls[i]} '\n",
    "            \n",
    "        else: \n",
    "            pass\n",
    "    return out.rstrip(' ')\n",
    "\n",
    "clean_paragraph(paras[6][1])"
   ]
  },
  {
   "cell_type": "code",
   "execution_count": 98,
   "metadata": {},
   "outputs": [],
   "source": [
    "def clean_paragraph(paragraphs: \"list\") -> 'string': \n",
    "    \"\"\"Cleans Latin Library paragraph text. \n",
    "    :param paragraphs: list of paragraphs from CLTK reader.paras() method. \n",
    "    \n",
    "    Works, kind of\n",
    "    \"\"\"\n",
    "    numbers = [str(n) for n in range(11)]\n",
    "    punc = ['.', ',', ';', '\"', \"'\", '-que', '-ne']\n",
    "    final = []\n",
    "    for p in paragraphs: \n",
    "        out = \"\"\n",
    "        if len(p) > 1: # filter out section headings\n",
    "            for chunk in p:\n",
    "                for i in range(len(chunk) - 1):  # doesn't break because puncutation should always end a section\n",
    "                    if chunk[i + 1] in punc: \n",
    "                        out += ''.join([chunk[i], chunk[i + 1]]).strip('-') + ' '\n",
    "                    elif chunk[i] not in punc:\n",
    "                        out += f'{chunk[i]} '\n",
    "                    else: \n",
    "                        pass\n",
    "        final.append(out)\n",
    "    return \"\\n\".join(final)"
   ]
  },
  {
   "cell_type": "code",
   "execution_count": 484,
   "metadata": {},
   "outputs": [],
   "source": [
    "def parse_paragraph(paragraph: 'str') -> \"str\":\n",
    "    \"\"\"Function to take paragraph of a Latin text and return a dictionary including definitions (but not citations). \n",
    "    The goal is to use this function to create short entries for a paragraph of a text. We can then use the paragraphs to build our Pharr formatted document. \n",
    "    \n",
    "    :param paragraph: paragraph of parsed text\n",
    "    \"\"\"\n",
    "    \n",
    "    in_list = paragraph.split(' ')\n",
    "    in_list = [_ for _ in in_list if _ not in STOPS_LIST]\n",
    "    out_str = '' \n",
    "    path = 'lexica/Lewis_Short_XML/lat.ls.perseus-eng1.xml'\n",
    "    tree = ET.parse(path)\n",
    "    entries = tree.xpath('//entryFree')\n",
    "    endings = ''\n",
    "    gender = \"\"\n",
    "    out_list = []\n",
    "    \n",
    "    for word in in_list: \n",
    "        lemma = lemmatizer.lemmatize([word])[0][1]\n",
    "        \n",
    "        for entry in entries:\n",
    "            senses = []\n",
    "            if entry.get('key') == lemma:\n",
    "                if entry.find('itype') is not None: \n",
    "                    endings = f'{lemma} {entry.find(\"itype\").text}'\n",
    "                if entry.find('gen') is not None: \n",
    "                    gender = entry.find('gen').text\n",
    "                for sense in entry.findall('sense')[:4]:\n",
    "                    # print(sense.get('level'))\n",
    "                    if sense.get(\"level\") in ['1', '2']:\n",
    "                        for tr in sense.findall('hi')[1:3]:\n",
    "                            senses.append(tr.text)\n",
    "#                 print(senses)\n",
    "                if endings != '':\n",
    "                    out_string = f\"\"\"{endings} {gender}: {'; '.join(senses).strip('., ')}\"\"\"\n",
    "                else:\n",
    "                    out_string = f'{lemma} {gender}: {\"; \".join(senses).strip(\"., \")}'\n",
    "                if senses == []:\n",
    "                    pass \n",
    "                else:\n",
    "                    out_list.append(out_string)\n",
    "    return '\\n'.join(out_list)"
   ]
  },
  {
   "cell_type": "code",
   "execution_count": 313,
   "metadata": {},
   "outputs": [
    {
     "name": "stderr",
     "output_type": "stream",
     "text": [
      "100%|██████████| 67/67 [00:02<00:00, 25.98it/s]\n"
     ]
    }
   ],
   "source": [
    "test = parse_paragraph(' '.join(paras[3][4]))"
   ]
  },
  {
   "cell_type": "code",
   "execution_count": 314,
   "metadata": {},
   "outputs": [],
   "source": [
    "br = \"—————————————————————————————————————————————————————————————\""
   ]
  },
  {
   "cell_type": "code",
   "execution_count": 318,
   "metadata": {
    "collapsed": true,
    "jupyter": {
     "outputs_hidden": true
    }
   },
   "outputs": [
    {
     "name": "stderr",
     "output_type": "stream",
     "text": [
      "100%|██████████| 58/58 [00:02<00:00, 27.17it/s]"
     ]
    },
    {
     "name": "stdout",
     "output_type": "stream",
     "text": [
      "Cuius acerbitati uxor grave accesserat incentivum, germanitate Augusti turgida supra modum, quam Hannibaliano regi fratris filio antehac Constantinus iunxerat pater, Megaera quaedam mortalis, inflammatrix saevientis adsidua, humani cruoris avida nihil mitius quam maritus; qui paulatim eruditiores facti processu temporis ad nocendum per clandestinos versutosque rumigerulos conpertis leviter addere quaedam male suetos falsa et placentia sibi discentes, adfectati regni vel artium nefandarum calumnias insontibus adfligebant. \n",
      " ————————————————————————————————————————————————————————————— \n",
      " acerbitas ātis f.: sourness; harshness; severity; rigor\n",
      "uxor ōris f.: spouse; consort\n",
      "gravis e f.: weighty; ponderous\n",
      "accedo cessi, cessum, 3 f.: to go; come to; in; adverbs\n",
      "germanitas ātis f.: brotherhood; sisterhood\n",
      "turgidus a, um f.: inflated; distended; turgid\n",
      "turgidus a, um f.: on the upper side; on the top; stretched over them; Comp\n",
      "frater tris m.: Do.; To\n",
      "filius ii m.: a son\n",
      "antehac like antidea for antea, and antideo for anteeo m.: time; formerly\n",
      "Constantinus i m.: adj., of; pertaining to Constantine\n",
      "jungo nxi, nctum, 3 m.: unite together, connect, attach, fasten, yoke, harness\n",
      "quidam quaedam, quoddam f.: pron. indef.; a certain\n",
      "inflammatrix īcis f.: inflames\n",
      "saevio ii, ītum, 4 f.: fut.; to be fierce; rave; to be furious; mad\n",
      "saevio ii, ītum, 4 f.: of; belonging to man; comp.; fin.; mortals; mortal; Dae\n",
      "cruor ōris m.: a stream of blood\n",
      "avidus a, um m.: desirous; eager; in with acc.; absol\n",
      "mitis e n.: mellow, light, kindly, fruitful;; calm, gentle, placid\n",
      "mitis e n.: by degrees; gradually; a little at a time; gen\n",
      "erudio īvi or ii, ītum, 4 n.: educate; instruct; P. a.; object-clause; accomplished; well-informed; sup.; acc\n",
      "facio fēci, factum, 3 n.: imper.; futur\n",
      "procedo cessi, cessum, 3 n.: before; to go forwards\n",
      "tempus ŏris n.: period of time; a time\n",
      "noceo cŭi, cĭtum, 2 n.: gen. plur.; perf. subj\n",
      "clandestinus a, um n.: hidden; concealed\n",
      "levis1 e n.: not heavy; lightarmed troops;; inf\n",
      "addo dĭdi, dĭtum, 3 n.: place; lay; in; to add to;; dat\n",
      "quidam quaedam, quoddam n.: pron. indef.; a certain\n",
      "suesco sŭēvi, sŭētum n.: a.; to become used; accustomed;\n",
      "fallo fĕfelli, falsum, 3 n.: perf. pass.; to deceive\n",
      "placeo cŭi and cĭtus, cĭtum, 2 n.: fin.; to please\n",
      "placeo cŭi and cĭtus, cĭtum, 2 n.: pron.; pers.; himself; herself\n",
      "regnum i n.: royal authority; kingship; sovereignty; rule\n",
      "regnum i n.: will; choose\n",
      "ars artis f.: combining; working it; handicraft; trade\n",
      "ars artis f.: artifice; chicanery\n",
      "insons ntis f.: innocent;; gen\n"
     ]
    },
    {
     "name": "stderr",
     "output_type": "stream",
     "text": [
      "\n"
     ]
    }
   ],
   "source": [
    "p = clean_paragraph(paras[3][4])\n",
    "print(f'{p} \\n {br} \\n {parse_paragraph(p)}')"
   ]
  },
  {
   "cell_type": "markdown",
   "metadata": {},
   "source": [
    "## Now test Docx"
   ]
  },
  {
   "cell_type": "code",
   "execution_count": 11,
   "metadata": {},
   "outputs": [
    {
     "name": "stdout",
     "output_type": "stream",
     "text": [
      "Requirement already satisfied: python-docx in /Users/aleedom/anaconda3/lib/python3.8/site-packages (0.8.10)\n",
      "Requirement already satisfied: lxml>=2.3.2 in /Users/aleedom/anaconda3/lib/python3.8/site-packages (from python-docx) (4.5.1)\n"
     ]
    }
   ],
   "source": [
    "!pip install python-docx"
   ]
  },
  {
   "cell_type": "code",
   "execution_count": 485,
   "metadata": {},
   "outputs": [],
   "source": [
    "from docx import Document\n",
    "from docx.oxml import OxmlElement\n",
    "from docx.oxml.ns import qn\n",
    "\n",
    "doc = Document()"
   ]
  },
  {
   "cell_type": "code",
   "execution_count": 448,
   "metadata": {},
   "outputs": [
    {
     "data": {
      "text/plain": [
       "1"
      ]
     },
     "execution_count": 448,
     "metadata": {},
     "output_type": "execute_result"
    }
   ],
   "source": [
    "len(doc.sections)"
   ]
  },
  {
   "cell_type": "code",
   "execution_count": 440,
   "metadata": {},
   "outputs": [],
   "source": [
    "doc.add_paragraph(p)\n",
    "\n",
    "doc.add_paragraph(br)\n",
    "\n",
    "\n",
    "doc.add_section(0)\n",
    "\n",
    "section = doc.sections[1]"
   ]
  },
  {
   "cell_type": "code",
   "execution_count": 441,
   "metadata": {},
   "outputs": [],
   "source": [
    "sectPr = section._sectPr\n",
    "cols = sectPr.xpath('./w:cols')[0]\n",
    "cols.set(qn('w:num'),'2')"
   ]
  },
  {
   "cell_type": "code",
   "execution_count": 442,
   "metadata": {},
   "outputs": [
    {
     "name": "stderr",
     "output_type": "stream",
     "text": [
      "100%|██████████| 58/58 [00:01<00:00, 30.16it/s]\n"
     ]
    },
    {
     "data": {
      "text/plain": [
       "<docx.text.paragraph.Paragraph at 0x1341076d0>"
      ]
     },
     "execution_count": 442,
     "metadata": {},
     "output_type": "execute_result"
    }
   ],
   "source": [
    "doc.add_paragraph(parse_paragraph(p))"
   ]
  },
  {
   "cell_type": "code",
   "execution_count": 443,
   "metadata": {},
   "outputs": [
    {
     "data": {
      "text/plain": [
       "<docx.text.paragraph.Paragraph at 0x1349e68d0>"
      ]
     },
     "execution_count": 443,
     "metadata": {},
     "output_type": "execute_result"
    }
   ],
   "source": [
    "doc.add_page_break()"
   ]
  },
  {
   "cell_type": "code",
   "execution_count": 444,
   "metadata": {},
   "outputs": [
    {
     "data": {
      "text/plain": [
       "<docx.text.paragraph.Paragraph at 0x1349e8f50>"
      ]
     },
     "execution_count": 444,
     "metadata": {},
     "output_type": "execute_result"
    }
   ],
   "source": [
    "doc.add_section(0)\n",
    "section = doc.sections[-1]\n",
    "sectPr = section._sectPr\n",
    "cols = sectPr.xpath('./w:cols')[0]\n",
    "cols.set(qn('w:num'),'1')\n",
    "doc.add_paragraph(paras[4][3])"
   ]
  },
  {
   "cell_type": "code",
   "execution_count": 445,
   "metadata": {},
   "outputs": [],
   "source": [
    "doc.save('demo.docx')"
   ]
  },
  {
   "cell_type": "code",
   "execution_count": 325,
   "metadata": {},
   "outputs": [
    {
     "data": {
      "text/plain": [
       "<docx.text.paragraph.Paragraph at 0x1228b6350>"
      ]
     },
     "execution_count": 325,
     "metadata": {},
     "output_type": "execute_result"
    }
   ],
   "source": [
    "doc.add_paragraph(br)"
   ]
  },
  {
   "cell_type": "code",
   "execution_count": 326,
   "metadata": {},
   "outputs": [
    {
     "name": "stderr",
     "output_type": "stream",
     "text": [
      "100%|██████████| 58/58 [00:01<00:00, 31.95it/s]\n"
     ]
    },
    {
     "data": {
      "text/plain": [
       "<docx.text.paragraph.Paragraph at 0x1228be110>"
      ]
     },
     "execution_count": 326,
     "metadata": {},
     "output_type": "execute_result"
    }
   ],
   "source": [
    "doc.add_paragraph(parse_paragraph(p))"
   ]
  },
  {
   "cell_type": "code",
   "execution_count": 328,
   "metadata": {},
   "outputs": [],
   "source": [
    "br = '———————————————————————————————————————'"
   ]
  },
  {
   "cell_type": "code",
   "execution_count": 461,
   "metadata": {},
   "outputs": [
    {
     "data": {
      "text/plain": [
       "['3.',\n",
       " 'eminuit',\n",
       " 'autem',\n",
       " 'inter',\n",
       " 'humilia',\n",
       " 'supergressa',\n",
       " 'iam',\n",
       " 'impotentia',\n",
       " 'fines',\n",
       " 'mediocrium',\n",
       " 'delictorum',\n",
       " 'nefanda',\n",
       " 'Clematii',\n",
       " 'cuiusdam',\n",
       " 'Alexandrini',\n",
       " 'nobilis',\n",
       " 'mors',\n",
       " 'repentina',\n",
       " ';',\n",
       " 'cuius',\n",
       " 'socrus',\n",
       " 'cum',\n",
       " 'misceri',\n",
       " 'sibi',\n",
       " 'generum',\n",
       " ',',\n",
       " 'flagrans',\n",
       " 'eius',\n",
       " 'amore',\n",
       " ',',\n",
       " 'non',\n",
       " 'impetraret',\n",
       " ',',\n",
       " 'ut',\n",
       " 'ferebatur',\n",
       " ',',\n",
       " 'per',\n",
       " 'palatii',\n",
       " 'pseudothyrum',\n",
       " 'introducta',\n",
       " ',',\n",
       " 'oblato',\n",
       " 'pretioso',\n",
       " 'reginae',\n",
       " 'monili',\n",
       " 'id',\n",
       " 'adsecuta',\n",
       " 'est',\n",
       " ',',\n",
       " 'ut',\n",
       " 'ad',\n",
       " 'Honoratum',\n",
       " 'tum',\n",
       " 'comitem',\n",
       " 'orientis',\n",
       " 'formula',\n",
       " 'missa',\n",
       " 'letali',\n",
       " 'omnino',\n",
       " 'scelere',\n",
       " 'nullo',\n",
       " 'contactus',\n",
       " 'idem',\n",
       " 'Clematius',\n",
       " 'nec',\n",
       " 'hiscere',\n",
       " 'nec',\n",
       " 'loqui',\n",
       " 'permissus',\n",
       " 'occideretur',\n",
       " '.']"
      ]
     },
     "execution_count": 461,
     "metadata": {},
     "output_type": "execute_result"
    }
   ],
   "source": [
    "paras[3][5]"
   ]
  },
  {
   "cell_type": "code",
   "execution_count": 472,
   "metadata": {
    "collapsed": true,
    "jupyter": {
     "outputs_hidden": true
    }
   },
   "outputs": [
    {
     "name": "stderr",
     "output_type": "stream",
     "text": [
      "100%|██████████| 14/14 [00:00<00:00, 294.57it/s]"
     ]
    },
    {
     "name": "stdout",
     "output_type": "stream",
     "text": [
      "1\n",
      "1\n",
      "1\n",
      "23\n",
      "I 1.\n",
      "Post emensos insuperabilis expeditionis eventus languentibus partium animis, quas periculorum varietas fregerat et laborum, nondum tubarum cessante clangore vel milite locato per stationes hibernas, fortunae saevientis procellae tempestates alias rebus infudere communibus per multa illa et dira facinora Caesaris Galli, qui ex squalore imo miseriarum in aetatis adultae primitiis ad principale culmen insperato saltu provectus ultra terminos potestatis delatae procurrens asperitate nimia cuncta foedabat.\n",
      "propinquitate enim regiae stirpis gentilitateque etiam tum Constantini nominis efferebatur in fastus, si plus valuisset, ausurus hostilia in auctorem suae felicitatis, ut videbatur.\n",
      "2.\n",
      "Cuius acerbitati uxor grave accesserat incentivum, germanitate Augusti turgida supra modum, quam Hannibaliano regi fratris filio antehac Constantinus iunxerat pater, Megaera quaedam mortalis, inflammatrix saevientis adsidua, humani cruoris avida nihil mitius quam maritus; qui paulatim eruditiores facti processu temporis ad nocendum per clandestinos versutosque rumigerulos conpertis leviter addere quaedam male suetos falsa et placentia sibi discentes, adfectati regni vel artium nefandarum calumnias insontibus adfligebant.\n",
      "3. eminuit autem inter humilia supergressa iam impotentia fines mediocrium delictorum nefanda Clematii cuiusdam Alexandrini nobilis mors repentina; cuius socrus cum misceri sibi generum, flagrans eius amore, non impetraret, ut ferebatur, per palatii pseudothyrum introducta, oblato pretioso reginae monili id adsecuta est, ut ad Honoratum tum comitem orientis formula missa letali omnino scelere nullo contactus idem Clematius nec hiscere nec loqui permissus occideretur.\n",
      "4.\n",
      "Post hoc impie perpetratum quod in aliis quoque iam timebatur, tamquam licentia crudelitati indulta per suspicionum nebulas aestimati quidam noxii damnabantur.\n",
      "quorum pars necati, alii puniti bonorum multatione actique laribus suis extorres nullo sibi relicto praeter querelas et lacrimas, stipe conlaticia victitabant, et civili iustoque imperio ad voluntatem converso cruentam, claudebantur opulentae domus et clarae.\n",
      "5. nec vox accusatoris ulla licet subditicii in his malorum quaerebatur acervis ut saltem specie tenus crimina praescriptis legum committerentur, quod aliquotiens fecere principes saevi : sed quicquid Caesaris implacabilitati sedisset, id velut fas iusque perpensum confestim urgebatur impleri.\n",
      "6. excogitatum est super his, ut homines quidam ignoti, vilitate ipsa parum cavendi ad colligendos rumores per Antiochiae latera cuncta destinarentur relaturi quae audirent.\n",
      "hi peragranter et dissimulanter honoratorum circulis adsistendo pervadendoque divites domus egentium habitu quicquid noscere poterant vel audire latenter intromissi per posticas in regiam nuntiabant, id observantes conspiratione concordi, ut fingerent quaedam et cognita duplicarent in peius, laudes vero supprimerent Caesaris, quas invitis conpluribus formido malorum inpendentium exprimebat.\n",
      "7. et interdum acciderat, ut siquid in penetrali secreto nullo citerioris vitae ministro praesente paterfamilias uxori susurrasset in aurem, velut Amphiarao referente aut Marcio, quondam vatibus inclitis, postridie disceret imperator.\n",
      "ideoque etiam parietes arcanorum soli conscii timebantur.\n",
      "8. adolescebat autem obstinatum propositum erga haec et similia multa scrutanda, stimulos admovente regina, quae abrupte mariti fortunas trudebat in exitium praeceps, cum eum potius lenitate feminea ad veritatis humanitatisque viam reducere utilia suadendo deberet, ut in Gordianorum actibus factitasse Maximini truculenti illius imperatoris rettulimus coniugem.\n",
      "9.\n",
      "Novo denique perniciosoque exemplo idem Gallus ausus est inire flagitium grave, quod Romae cum ultimo dedecore temptasse aliquando dicitur Gallienus, et adhibitis paucis clam ferro succinctis vesperi per tabernas palabatur et conpita quaeritando Graeco sermone, cuius erat inpendio gnarus, quid de Caesare quisque sentiret.\n",
      "et haec confidenter agebat in urbe ubi pernoctantium luminum claritudo dierum solet imitari fulgorem.\n",
      "postremo agnitus saepe iamque -que, si prodisset, conspicuum se fore contemplans, non nisi luce palam egrediens ad agenda quae putabat seria cernebatur.\n",
      "et haec quidem medullitus multis gementibus agebantur.\n",
      "10.\n",
      "Thalassius vero ea tempestate praefectus praetorio praesens ipse quoque adrogantis ingenii, considerans incitationem eius ad multorum augeri discrimina, non maturitate vel consiliis mitigabat, ut aliquotiens celsae potestates iras principum molliverunt, sed adversando iurgandoque cum parum congrueret, eum ad rabiem potius evibrabat, Augustum actus eius exaggerando creberrime docens, idque -que, incertum qua mente, ne lateret adfectans.\n",
      "quibus mox Caesar acrius efferatus, velut contumaciae quoddam vexillum altius erigens, sine respectu salutis alienae vel suae ad vertenda opposita instar rapidi fluminis irrevocabili impetu ferebatur.\n",
      "30\n",
      "II 1.\n",
      "Nec sane haec sola pernicies orientem diversis cladibus adfligebat.\n",
      "Namque et Isauri, quibus est usitatum saepe pacari saepeque inopinis excursibus cuncta miscere, ex latrociniis occultis et raris, alente inpunitate adulescentem in peius audaciam ad bella gravia proruperunt, diu quidem perduelles spiritus inrequietis motibus erigentes, hac tamen indignitate perciti vehementer, ut iactitabant, quod eorum capiti quidam consortes apud Iconium Pisidiae oppidum in amphitheatrali spectaculo feris praedatricibus obiecti sunt praeter morem.\n",
      "2. atque, ut Tullius ait, ut etiam ferae fame monitae plerumque ad eum locum ubi aliquando pastae sunt revertuntur, ita homines instar turbinis degressi montibus impeditis et arduis loca petivere mari confinia, per quae viis latebrosis sese convallibusque occultantes cum appeterent noctes luna etiam tum cornuta ideoque nondum solido splendore fulgente nauticos observabant quos cum in somnum sentirent effusos per ancoralia, quadrupedo gradu repentes seseque suspensis passibus iniectantes in scaphas eisdem sensim nihil opinantibus adsistebant et incendente aviditate saevitiam ne cedentium quidem ulli parcendo obtruncatis omnibus merces opimas velut viles nullis repugnantibus avertebant. haecque non diu sunt perpetrata.\n",
      "3. cognitis enim pilatorum caesorumque funeribus nemo deinde ad has stationes appulit navem, sed ut Scironis praerupta letalia declinantes litoribus Cypriis contigui navigabant, quae Isauriae scopulis sunt controversa.\n",
      "4. procedente igitur mox tempore cum adventicium nihil inveniretur, relicta ora maritima in Lycaoniam adnexam Isauriae se contulerunt ibique densis intersaepientes itinera praetenturis provincialium et viatorum opibus pascebantur.\n",
      "5. excitavit hic ardor milites per municipia plurima, quae isdem conterminant, dispositos et castella, sed quisque serpentes latius pro viribus repellere moliens, nunc globis confertos, aliquotiens et dispersos multitudine superabatur ingenti, quae nata et educata inter editos recurvosque ambitus montium eos ut loca plana persultat et mollia, missilibus obvios eminus lacessens et ululatu truci perterrens.\n",
      "6. coactique aliquotiens nostri pedites ad eos persequendos scandere clivos sublimes etiam si lapsantibus plantis fruticeta prensando vel dumos ad vertices venerint summos, inter arta tamen et invia nullas acies explicare permissi nec firmare nisu valido gressus : hoste discursatore rupium abscisa volvente, ruinis ponderum inmanium consternuntur, aut ex necessitate ultima fortiter dimicante, superati periculose per prona discedunt.\n",
      "7. quam ob rem circumspecta cautela observatum est deinceps et cum edita montium petere coeperint grassatores, loci iniquitati milites cedunt.\n",
      "ubi autem in planitie potuerint reperiri, quod contingit adsid -ue, nec exsertare lacertos nec crispare permissi tela, quae vehunt bina vel terna, pecudum ritu inertium trucidantur.\n",
      "8.\n",
      "Metuentes igitur idem latrones Lycaoniam magna parte campestrem cum se inpares nostris fore congressione stataria documentis frequentibus scirent, tramitibus deviis petivere Pamphyliam diu quidem intactam sed timore populationum et caedium, milite per omnia diffuso propinqua, magnis undique praesidiis conmunitam.\n",
      "9. raptim igitur properantes ut motus sui rumores celeritate nimia praevenirent, vigore corporum ac levitate confisi per flexuosas semitas ad summitates collium tardius evadebant.\n",
      "et cum superatis difficultatibus arduis ad supercilia venissent fluvii Melanis alti et verticosi, qui pro muro tuetur accolas circumfusus, augente nocte adulta terrorem quievere paulisper lucem opperientes.\n",
      "arbitrabantur enim nullo inpediente transgressi inopino adcursu adposita quaeque vastare, sed in cassum labores pertulere gravissimos.\n",
      "10. nam sole orto magnitudine angusti gurgitis sed profundi a transitu arcebantur et dum piscatorios quaerunt lenunculos vel innare temere contextis cratibus parant, effusae legiones, quae hiemabant tunc apud Sidene -ne, isdem impetu occurrere veloci.\n",
      "et signis prope ripam locatis ad manus comminus conserendas denseta scutorum conpage semet scientissime praestruebant, ausos quoque aliquos fiducia nandi vel cavatis arborum truncis amnem permeare latenter facillime trucidarunt.\n",
      "11. unde temptatis ad discrimen ultimum artibus multum cum nihil impetraretur, pavore vique repellente extrusi et quo tenderent ambigentes venere prope oppidum Laranda.\n",
      "12. ibi victu recreati et quiete, postquam abierat timor, vicos opulentos adorti equestrium adventu cohortium, quae casu propinquabant, nec resistere planitie porrecta conati digressi sunt retroque concedentes omne iuventutis robur relictum in sedibus acciverunt.\n",
      "13. et quoniam inedia gravi adflictabantur, locum petivere Paleas nomine, vergentem in mare, valido muro firmatum, ubi conduntur nunc usque commeatus distribui militibus omne latus Isauriae defendentibus adsueti.\n",
      "circumstetere igitur hoc munimentum per triduum et trinoctium et cum neque adclivitas ipsa sine discrimine adiri letali, nec cuniculis quicquam geri posset, nec procederet ullum obsidionale commentum, maesti excedunt postrema vi subigente maiora viribus adgressuri.\n",
      "14. proinde concepta rabie saeviore, quam desperatio incendebat et fames, amplificatis viribus ardore incohibili in excidium urbium matris Seleuciae efferebantur, quam comes tuebatur Castricius tresque legiones bellicis sudoribus induratae.\n",
      "15. horum adventum praedocti speculationibus fidis rectores militum tessera data sollemni armatos omnes celeri eduxere procursu et agiliter praeterito Calycadni fluminis ponte, cuius undarum magnitudo murorum adluit turres, in speciem locavere pugnandi.\n",
      "neque tamen exiluit quisquam nec permissus est congredi.\n",
      "formidabatur enim flagrans vesania manus et superior numero et ruitura sine respectu salutis in ferrum.\n",
      "16. viso itaque exercitu procul auditoque liticinum cantu, represso gradu parumper stetere praedones exsertantesque minaces gladios postea lentius incedebant.\n",
      "17. quibus occurrere bene pertinax miles explicatis ordinibus parans hastisque feriens scuta qui habitus iram pugnantium concitat et dolorem proximos iam gestu terrebat sed eum in certamen alacriter consurgentem revocavere ductores rati intempestivum anceps subire certamen cum haut longe muri distarent, quorum tutela securitas poterat in solido locari cunctorum.\n",
      "18. hac ita persuasione reducti intra moenia bellatores obseratis undique portarum aditibus, propugnaculis insistebant et pinnis, congesta undique saxa telaque habentes in promptu, ut si quis se proripuisset interius, multitudine missilium sterneretur et lapidum.\n",
      "19. illud tamen clausos vehementer angebat quod captis navigiis, quae frumenta vehebant per flumen, Isauri quidem alimentorum copiis adfluebant, ipsi vero solitarum rerum cibos iam consumendo inediae propinquantis aerumnas exitialis horrebant.\n",
      "20. haec ubi latius fama vulgasset missaeque relationes adsiduae Gallum Caesarem permovissent, quoniam magister equitum longius ea tempestate distinebatur, iussus comes orientis Nebridius contractis undique militaribus copiis ad eximendam periculo civitatem amplam et oportunam studio properabat ingenti, quo cognito abscessere latrones nulla re amplius memorabili gesta, dispersique ut solent avia montium petiere celsorum.\n",
      "9\n",
      "III 1.\n",
      "Eo adducta re per Isauriam, rege Persarum bellis finitimis inligato repellenteque a conlimitiis suis ferocissimas gentes, quae mente quadam versabili hostiliter eum saepe incessunt et in nos arma moventem aliquotiens iuvant, Nohodares quidam nomine e numero optimatum, incursare Mesopotamiam quotiens copia dederit ordinatus, explorabat nostra sollicite, si repperisset usquam locum vi subita perrupturus.\n",
      "2. et quia Mesopotamiae tractus omnes crebro inquietari sueti praetenturis et stationibus servabantur agrariis, laevorsum flexo itinere Osdroenae subsederat extimas partes, novum parumque aliquando temptatum commentum adgressus.\n",
      "quod si impetrasset, fulminis modo cuncta vastarat.\n",
      "erat autem quod cogitabat huius modi.\n",
      "3.\n",
      "Batnae municipium in Anthemusia conditum Macedonum manu priscorum ab Euphrate flumine brevi spatio disparatur, refertum mercatoribus opulentis, ubi annua sollemnitate prope Septembris initium mensis ad nundinas magna promiscuae fortunae convenit multitudo ad commercanda quae Indi mittunt et Seres aliaque plurima vehi terra marique consueta.\n",
      "4. hanc regionem praestitutis celebritati diebus invadere parans dux ante edictus per solitudines Aboraeque amnis herbidas ripas, suorum indicio proditus, qui admissi flagitii metu exagitati ad praesidia descivere Romana.\n",
      "absque ullo egressus effectu deinde tabescebat immobilis.\n",
      "10\n",
      "IV 1.\n",
      "Saraceni tamen nec amici nobis umquam nec hostes optandi, ultro citroque discursantes quicquid inveniri poterat momento temporis parvi vastabant milvorum rapacium similes, qui si praedam dispexerint celsius, volatu rapiunt celeri, aut nisi impetraverint, non inmorantur.\n",
      "2. super quorum moribus licet in actibus principis Marci et postea aliquotiens memini rettulisse, tamen nunc quoque pauca de isdem expediam carptim.\n",
      "3. apud has gentes, quarum exordiens initium ab Assyriis ad Nili cataractas porrigitur et confinia Blemmyarum, omnes pari sorte sunt bellatores seminudi coloratis sagulis pube tenus amicti, equorum adiumento pernicium graciliumque camelorum per diversa se raptantes, in tranquillis vel turbidis rebus : nec eorum quisquam aliquando stivam adprehendit vel arborem colit aut arva subigendo quaeritat victum, sed errant semper per spatia longe lateque distenta sine lare sine sedibus fixis aut legibus : nec idem perferunt diutius caelum aut tractus unius soli illis umquam placet.\n",
      "4. vita est illis semper in fuga uxoresque mercenariae conductae ad tempus ex pacto atque, ut sit species matrimonii, dotis nomine futura coniunx hastam et tabernaculum offert marito, post statum diem si id elegerit discessura, et incredibile est quo ardore apud eos in venerem uterque solvitur sexus.\n",
      "5. ita autem quoad vixerint, late palantur, ut alibi mulier nubat, in loco pariat alio liberosque procul educat nulla copia quiescendi permissa.\n",
      "6. victus universis caro ferina est lactisque abundans copia qua sustentantur, et herbae multiplices et siquae alites capi per aucupium possint, et plerosque mos vidimus frumenti usum et vini penitus ignorantes.\n",
      "7.\n",
      "Hactenus de natione perniciosa.\n",
      "nunc ad textum propositum revertamur.\n",
      "21\n",
      "V 1.\n",
      "Dum haec in oriente aguntur, Arelate hiemem agens Constantius post theatralis ludos atque circenses ambitioso editos apparatu diem sextum idus Octobres, qui imperii eius annum tricensimum terminabat, insolentiae pondera gravius librans, siquid dubium deferebatur aut falsum, pro liquido accipiens et conperto, inter alia excarnificatum Gerontium Magnentianae comitem partis exulari maerore multavit.\n",
      "2. utque aegrum corpus quassari etiam levibus solet offensis, ita animus eius angustus et tener, quicquid increpuisset, ad salutis suae dispendium existimans factum aut cogitatum, insontium caedibus fecit victoriam luctuosam.\n",
      "3. siquis enim militarium vel honoratorum aut nobilis inter suos rumore tenus esset insimulatus fovisse partes hostiles, iniecto onere catenarum in modum beluae trahebatur et inimico urgente vel nullo, quasi sufficiente hoc solo, quod nominatus esset aut delatus aut postulatus, capite vel multatione bonorum aut insulari solitudine damnabatur.\n",
      "4.\n",
      "Accedebant enim eius asperitati, ubi inminuta vel laesa amplitudo imperii dicebatur, et iracundae suspicionum quantitati proximorum cruentae blanditiae exaggerantium incidentia et dolere inpendio simulantium, si principis periclitetur vita, a cuius salute velut filo pendere statum orbis terrarum fictis vocibus exclamabant.\n",
      "5. ideoque fertur neminem aliquando ob haec vel similia poenae addictum oblato de more elogio revocari iussisse, quod inexorabiles quoque principes factitarunt.\n",
      "et exitiale hoc vitium, quod in aliis non numquam intepescit, in illo aetatis progressu effervescebat, obstinatum eius propositum accendente adulatorum cohorte.\n",
      "6.\n",
      "Inter quos Paulus eminebat notarius ortus in Hispania, glabro quidam sub vultu latens, odorandi vias periculorum occultas perquam sagax.\n",
      "is in Brittanniam missus ut militares quosdam perduceret ausos conspirasse Magnentio, cum reniti non possent, iussa licentius supergressus fluminis modo fortunis conplurium sese repentinus infudit et ferebatur per strages multiplices ac ruinas, vinculis membra ingenuorum adfligens et quosdam obterens manicis, crimina scilicet multa consarcinando a veritate longe discreta.\n",
      "unde admissum est facinus impium, quod Constanti tempus nota inusserat sempiterna.\n",
      "7.\n",
      "Martinus agens illas provincias pro praefectis aerumnas innocentium graviter gemens saepeque obsecrans, ut ab omni culpa inmunibus parceretur, cum non inpetraret, minabatur se discessurum : ut saltem id metuens perquisitor malivolus tandem desineret quieti coalitos homines in aperta pericula proiectare.\n",
      "8. per hoc minui studium suum existimans Paulus, ut erat in conplicandis negotiis artifex dirus, unde ei Catenae inditum est cognomentum, vicarium ipsum eos quibus praeerat adhuc defensantem ad sortem periculorum communium traxit.\n",
      "et instabat ut eum quoque cum tribunis et aliis pluribus ad comitatum imperatoris vinctum perduceret : quo percitus ille exitio urgente abrupto ferro eundem adoritur Paulum.\n",
      "et quia languente dextera, letaliter ferire non potuit, iam districtum mucronem in proprium latus inpegit.\n",
      "hocque deformi genere mortis excessit e vita iustissimus rector ausus miserabiles casus levare multorum.\n",
      "9. quibus ita sceleste patratis Paulus cruore perfusus reversusque ad principis castra multos coopertos paene catenis adduxit in squalorem deiectos atque maestitiam, quorum adventu intendebantur eculei uncosque parabat carnifex et tormenta.\n",
      "et ex is proscripti sunt plures actique in exilium alii, non nullos gladii consumpsere poenales.\n",
      "nec enim quisquam facile meminit sub Constantio, ubi susurro tenus haec movebantur, quemquam absolutum.\n",
      "45\n",
      "VI 1.\n",
      "Inter haec Orfitus praefecti potestate regebat urbem aeternam ultra modum delatae dignitatis sese efferens insolenter, vir quidem prudens et forensium negotiorum oppido gnarus, sed splendore liberalium doctrinarum minus quam nobilem decuerat institutus, quo administrante seditiones sunt concitatae graves ob inopiam vini : huius avidis usibus vulgus intentum ad motus asperos excitatur et crebros.\n",
      "2.\n",
      "Et quoniam mirari posse quosdam peregrinos existimo haec lecturos forsitan, si contigerit, quamobrem cum oratio ad ea monstranda deflexerit quae Romae gererentur, nihil praeter seditiones narratur et tabernas et vilitates harum similis alias, summatim causas perstringam nusquam a veritate sponte propria digressurus.\n",
      "3.Tempore quo primis auspiciis in mundanum fulgorem surgeret victura dum erunt homines Roma, ut augeretur sublimibus incrementis, foedere pacis aeternae Virtus convenit atque Fortuna plerumque dissidentes, quarum si altera defuisset, ad perfectam non venerat summitatem.\n",
      "4. eius populus ab incunabulis primis ad usque pueritiae tempus extremum, quod annis circumcluditur fere trecentis, circummurana pertulit bella, deinde aetatem ingressus adultam post multiplices bellorum aerumnas Alpes transcendit et fretum, in iuvenem erectus et virum ex omni plaga quam orbis ambit inmensus, reportavit laureas et triumphos, iamque vergens in senium et nomine solo aliquotiens vincens ad tranquilliora vitae discessit.\n",
      "5. ideo urbs venerabilis post superbas efferatarum gentium cervices oppressas latasque leges fundamenta libertatis et retinacula sempiterna velut frugi parens et prudens et dives Caesaribus tamquam liberis suis regenda patrimonii iura permisit.\n",
      "6. et olim licet otiosae sint tribus pacataeque centuriae et nulla suffragiorum certamina set Pompiliani redierit securitas temporis, per omnes tamen quotquot sunt partes terrarum, ut domina suscipitur et regina et ubique patrum reverenda cum auctoritate canities populique Romani nomen circumspectum et verecundum.\n",
      "7.\n",
      "Sed laeditur hic coetuum magnificus splendor levitate paucorum incondita, ubi nati sunt non reputantium, sed tamquam indulta licentia vitiis ad errores lapsorum ac lasciviam.\n",
      "ut enim Simonides lyricus docet, beate perfecta ratione vieturo ante alia patriam esse convenit gloriosam.\n",
      "8. ex his quidam aeternitati se commendari posse per statuas aestimantes eas ardenter adfectant quasi plus praemii de figmentis aereis sensu carentibus adepturi, quam ex conscientia honeste recteque factorum, easque auro curant inbracteari, quod Acilio Glabrioni delatum est primo, cum consiliis armisque regem superasset Antiochum.\n",
      "quam autem sit pulchrum exigua haec spernentem et minima ad ascensus verae gloriae tendere longos et arduos, ut memorat vates Ascraeus, Censorius Cato monstravit.\n",
      "qui interrogatus quam ob rem inter multos ... statuam non haberet malo inquit ambigere bonos quam ob rem id non meruerim, quam quod est gravius cur inpetraverim mussitare.\n",
      "9.\n",
      "Alii summum decus in carruchis solito altioribus et ambitioso vestium cultu ponentes sudant sub ponderibus lacernarum, quas in collis insertas cingulis ipsis adnectunt nimia subtegminum tenuitate perflabiles, expandentes eas crebris agitationibus maximeque sinistra, ut longiores fimbriae tunicaeque perspicue luceant varietate liciorum effigiatae in species animalium multiformes.\n",
      "10. alii nullo quaerente vultus severitate adsimulata patrimonia sua in inmensum extollunt, cultorum ut puta feracium multiplicantes annuos fructus, quae a primo ad ultimum solem se abunde iactitant possidere, ignorantes profecto maiores suos, per quos ita magnitudo Romana porrigitur, non divitiis eluxisse sed per bella saevissima, nec opibus nec victu nec indumentorum vilitate gregariis militibus discrepantes opposita cuncta superasse virtute.\n",
      "11. hac ex causa conlaticia stipe Valerius humatur ille Publicola et subsidiis amicorum mariti inops cum liberis uxor alitur Reguli et dotatur ex aerario filia Scipionis, cum nobilitas florem adultae virginis diuturnum absentia pauperis erubesceret patris.\n",
      "12.\n",
      "At nunc si ad aliquem bene nummatum tumentemque ideo honestus advena salutatum introieris, primitus tamquam exoptatus suscipieris et interrogatus multa coactusque mentiri, miraberis numquam antea visus summatem virum tenuem te sic enixius observantem, ut paeniteat ob haec bona tamquam praecipua non vidisse ante decennium Romam.\n",
      "13. hacque adfabilitate confisus cum eadem postridie feceris, ut incognitus haerebis et repentinus, hortatore illo hesterno clientes numerando, qui sis vel unde venias diutius ambigente agnitus vero tandem et adscitus in amicitiam si te salutandi adsiduitati dederis triennio indiscretus et per tot dierum defueris tempus, reverteris ad paria perferenda, nec ubi esses interrogatus et quo tandem miser discesseris, aetatem omnem frustra in stipite conteres summittendo.\n",
      "14. cum autem commodis intervallata temporibus convivia longa et noxia coeperint apparari vel distributio sollemnium sportularum, anxia deliberatione tractatur an exceptis his quibus vicissitudo debetur, peregrinum invitari conveniet, et si digesto plene consilio id placuerit fieri, is adhibetur qui pro domibus excubat aurigarum aut artem tesserariam profitetur aut secretiora quaedam se nosse confingit.\n",
      "15. homines enim eruditos et sobrios ut infaustos et inutiles vitant, eo quoque accedente quod et nomenclatores adsueti haec et talia venditare, mercede accepta lucris quosdam et prandiis inserunt subditicios ignobiles et obscuros.\n",
      "16.\n",
      "Mensarum enim voragines et varias voluptatum inlecebras, ne longius progrediar, praetermitto illuc transiturus quod quidam per ampla spatia urbis subversasque silices sine periculi metu properantes equos velut publicos signatis quod dicitur calceis agitant, familiarium agmina tamquam praedatorios globos post terga trahentes ne Sannione quidem, ut ait comicus, domi relicto.\n",
      "quos imitatae matronae complures opertis capitibus et basternis per latera civitatis cuncta discurrunt.\n",
      "17. utque proeliorum periti rectores primo catervas densas opponunt et fortes, deinde leves armaturas, post iaculatores ultimasque subsidiales acies, si fors adegerit, iuvaturas, ita praepositis urbanae familiae suspensae digerentibus sollicite, quos insignes faciunt virgae dexteris aptatae velut tessera data castrensi iuxta vehiculi frontem omne textrinum incedit : huic atratum coquinae iungitur ministerium, dein totum promiscue servitium cum otiosis plebeiis de vicinitate coniunctis : postrema multitudo spadonum a senibus in pueros desinens, obluridi distortaque lineamentorum conpage deformes, ut quaqua incesserit quisquam cernens mutilorum hominum agmina detestetur memoriam Samiramidis reginae illius veteris, quae teneros mares castravit omnium prima velut vim iniectans naturae, eandemque ab instituto cursu retorquens, quae inter ipsa oriundi crepundia per primigenios seminis fontes tacita quodam modo lege vias propagandae posteritatis ostendit.\n",
      "18.\n",
      "Quod cum ita sit, paucae domus studiorum seriis cultibus antea celebratae nunc ludibriis ignaviae torpentis exundant, vocali sonu, perflabili tinnitu fidium resultantes.\n",
      "denique pro philosopho cantor et in locum oratoris doctor artium ludicrarum accitur et bybliothecis sepulcrorum ritu in perpetuum clausis organa fabricantur hydraulica, et lyrae ad speciem carpentorum ingentes tibiaeque et histrionici gestus instrumenta non levia.\n",
      "19.\n",
      "Postremo ad id indignitatis est ventum, ut cum peregrini ob formidatam haut ita dudum alimentorum inopiam pellerentur ab urbe praecipites, sectatoribus disciplinarum liberalium inpendio paucis sine respiratione ulla extrusis, tenerentur minimarum adseclae veri, quique id simularunt ad tempus, et tria milia saltatricum ne interpellata quidem cum choris totidemque remanerent magistris.\n",
      "20. et licet quocumque oculos flexeris feminas adfatim multas spectare cirratas, quibus, si nupsissent, per aetatem ter iam nixus poterat suppetere liberorum, ad usque taedium pedibus pavimenta tergentes iactari volucriter gyris, dum exprimunt innumera simulacra, quae finxere fabulae theatrales.\n",
      "21.\n",
      "Illud autem non dubitatur quod cum esset aliquando virtutum omnium domicilium Roma, ingenuos advenas plerique nobilium, ut Homerici bacarum suavitate Lotophagi, humanitatis multiformibus officiis retentabant.\n",
      "22. nunc vero inanes flatus quorundam vile esse quicquid extra urbis pomerium nascitur aestimant praeter orbos et caelibes, nec credi potest qua obsequiorum diversitate coluntur homines sine liberis Romae.\n",
      "23. et quoniam apud eos ut in capite mundi morborum acerbitates celsius dominantur, ad quos vel sedandos omnis professio medendi torpescit, excogitatum est adminiculum sospitale nequi amicum perferentem similia videat, additumque est cautionibus paucis remedium aliud satis validum, ut famulos percontatum missos quem ad modum valeant noti hac aegritudine colligati, non ante recipiant domum quam lavacro purgaverint corpus.\n",
      "ita etiam alienis oculis visa metuitur labes.\n",
      "24. sed tamen haec cum ita tutius observentur, quidam vigore artuum inminuto rogati ad nuptias ubi aurum dextris manibus cavatis offertur, inpigre vel usque Spoletium pergunt.\n",
      "haec nobilium sunt instituta.\n",
      "25.\n",
      "Ex turba vero imae sortis et paupertinae in tabernis aliqui pernoctant vinariis, non nulli velariis umbraculorum theatralium latent, quae Campanam imitatus lasciviam Catulus in aedilitate sua suspendit omnium primus; aut pugnaciter aleis certant turpi sono fragosis naribus introrsum reducto spiritu concrepantes; aut quod est studiorum omnium maximum ab ortu lucis ad vesperam sole fatiscunt vel pluviis, per minutias aurigarum equorumque praecipua vel delicta scrutantes.\n",
      "26. et est admodum mirum videre plebem innumeram mentibus ardore quodam infuso cum dimicationum curulium eventu pendentem.\n",
      "haec similiaque memorabile nihil vel serium agi Romae permittunt.\n",
      "ergo redeundum ad textum.\n",
      "34\n",
      "VII 1.\n",
      "Latius iam disseminata licentia onerosus bonis omnibus Caesar nullum post haec adhibens modum orientis latera cuncta vexabat nec honoratis parcens nec urbium primatibus nec plebeiis.\n",
      "2. denique Antiochensis ordinis vertices sub uno elogio iussit occidi ideo efferatus, quod ei celebrari vilitatem intempestivam urgenti, cum inpenderet inopia, gravius rationabili responderunt; et perissent ad unum ni comes orientis tunc Honoratus fixa constantia restitisset.\n",
      "3. erat autem diritatis eius hoc quoque indicium nec obscurum nec latens, quod ludicris cruentis delectabatur et in circo sex vel septem aliquotiens vetitis certaminibus pugilum vicissim se concidentium perfusorumque sanguine specie ut lucratus ingentia laetabatur.\n",
      "4. accenderat super his incitatum propositum ad nocendum aliqua mulier vilis, quae ad palatium ut poposcerat intromissa insidias ei latenter obtendi prodiderat a militibus obscurissimis.\n",
      "quam Constantina exultans ut in tuto iam locata mariti salute muneratam vehiculoque inpositam per regiae ianuas emisit in publicum, ut his inlecebris alios quoque ad indicanda proliceret paria vel maiora.\n",
      "5. post haec Gallus Hierapolim profecturus ut expeditioni specie tenus adesset, Antiochensi plebi suppliciter obsecranti ut inediae dispelleret metum, quae per multas difficilisque causas adfore iam sperabatur, non ut mos est principibus, quorum diffusa potestas localibus subinde medetur aerumnis, disponi quicquam statuit vel ex provinciis alimenta transferri conterminis, sed consularem Syriae Theophilum prope adstantem ultima metuenti multitudini dedit id adsid -ue replicando quod invito rectore nullus egere poterit victu.\n",
      "6. auxerunt haec vulgi sordidioris audaciam, quod cum ingravesceret penuria commeatuum, famis et furoris inpulsu Eubuli cuiusdam inter suos clari domum ambitiosam ignibus subditis inflammavit rectoremque ut sibi iudicio imperiali addictum calcibus incessens et pugnis conculcans seminecem laniatu miserando discerpsit.\n",
      "post cuius lacrimosum interitum in unius exitio quisque imaginem periculi sui considerans documento recenti similia formidabat.\n",
      "7. eodem tempore Serenianus ex duce, cuius ignavia populatam in Phoenice Celsene ante rettulimus, pulsatae maiestatis imperii reus iure postulatus ac lege, incertum qua potuit suffragatione absolvi, aperte convictus familiarem suum cum pileo, quo caput operiebat, incantato vetitis artibus ad templum misisse fatidicum, quaeritatum expresse an ei firmum portenderetur imperium, ut cupiebat, et cunctum.\n",
      "8. duplexque isdem diebus acciderat malum, quod et Theophilum insontem atrox interceperat casus, et Serenianus dignus exsecratione cunctorum, innoxius, modo non reclamante publico vigore, discessit.\n",
      "9.\n",
      "Haec subinde Constantius audiens et quaedam referente Thalassio doctus, quem eum odisse iam conpererat lege communi, scribens ad Caesarem blandius adiumenta paulatim illi subtraxit, sollicitari se simulans ne, uti est militare otium fere tumultuosum, in eius perniciem conspiraret, solisque scholis iussit esse contentum palatinis et protectorum cum Scutariis et Gentilibus, et mandabat Domitiano, ex comite largitionum, praefecto ut cum in Syriam venerit, Gallum, quem crebro acciverat, ad Italiam properare blande hortaretur et verecunde.\n",
      "10. qui cum venisset ob haec festinatis itineribus Antiochiam, praestrictis palatii ianuis, contempto Caesare, quem videri decuerat, ad praetorium cum pompa sollemni perrexit morbosque diu causatus nec regiam introiit nec processit in publicum, sed abditus multa in eius moliebatur exitium addens quaedam relationibus supervacua, quas subinde dimittebat ad principem.\n",
      "11. rogatus ad ultimum admissusque in consistorium ambage nulla praegressa inconsiderate et leviter proficiscere inquit ut praeceptum est, Caesar sciens quod si cessaveris, et tuas et palatii tui auferri iubebo prope diem annonas.\n",
      "hocque solo contumaciter dicto subiratus abscessit nec in conspectum eius postea venit saepius arcessitus.\n",
      "12. hinc ille commotus ut iniusta perferens et indigna praefecti custodiam protectoribus mandaverat fidis.\n",
      "quo conperto Montius tunc quaestor acer quidem sed ad lenitatem propensior, consulens in commune advocatos palatinarum primos scholarum adlocutus est mollius docens nec decere haec fieri nec prodesse addensque vocis obiurgatorio sonu quod si id placeret, post statuas Constantii deiectas super adimenda vita praefecto conveniet securius cogitari.\n",
      "13. his cognitis Gallus ut serpens adpetitus telo vel saxo iamque spes extremas opperiens et succurrens saluti suae quavis ratione colligi omnes iussit armatos et cum starent attoniti, districta dentium acie stridens adeste inquit viri fortes mihi periclitanti cum vobis.\n",
      "14.\n",
      "Montius nos tumore inusitato quodam et novo ut rebellis et maiestati recalcitrantes Augustae per haec quae strepit incusat iratus nimirum quod contumacem praefectum, quid rerum ordo postulat ignorare dissimulantem formidine tenus iusserim custodiri.\n",
      "15. nihil morati post haec militares avidi saepe turbarum adorti sunt Montium primum, qui divertebat in proximo, levi corpore senem atque morbosum, et hirsutis resticulis cruribus eius innexis divaricaturne sine spiramento ullo ad usque praetorium traxere praefecti.\n",
      "16. et eodem impetu Domitianum praecipitem per scalas itidem funibus constrinxerunt, eosque coniunctos per ampla spatia civitatis acri raptavere discursu.\n",
      "iamque artuum et membrorum divulsa conpage superscandentes corpora mortuorum ad ultimam truncata deformitatem velut exsaturati mox abiecerunt in flumen.\n",
      "17. incenderat autem audaces usque ad insaniam homines ad haec, quae nefariis egere conatibus, Luscus quidam curator urbis subito visus : eosque ut heiulans baiolorum praecentor ad expediendum quod orsi sunt incitans vocibus crebris.\n",
      "qui haut longe postea ideo vivus exustus est.\n",
      "18.\n",
      "Et quia Montius inter dilancinantium manus spiritum efflaturus Epigonum et Eusebium nec professionem nec dignitatem ostendens aliquotiens increpabat, qui sint hi magna quaerebatur industria, et nequid intepesceret, Epigonus e Lycia philosophus ducitur et Eusebius ab Emissa Pittacas cognomento, concitatus orator, cum quaestor non hos sed tribunos fabricarum insimulasset promittentes armorum si novas res agitari conperissent.\n",
      "19. isdem diebus Apollinaris Domitiani gener, paulo ante agens palatii Caesaris curam, ad Mesopotamiam missus a socero per militares numeros immodice scrutabatur, an quaedam altiora meditantis iam Galli secreta susceperint scripta, qui conpertis Antiochiae gestis per minorem Armeniam lapsus Constantinopolim petit exindeque per protectores retractus artissime tenebatur.\n",
      "20.\n",
      "Quae dum ita struuntur, indicatum est apud Tyrum indumentum regale textum occulte, incertum quo locante vel cuius usibus apparatum.\n",
      "ideoque rector provinciae tunc pater Apollinaris eiusdem nominis ut conscius ductus est aliique congregati sunt ex diversis civitatibus multi, qui atrocium criminum ponderibus urgebantur.\n",
      "21.\n",
      "Iamque lituis cladium concrepantibus internarum non celate ut antea turbidum saeviebat ingenium a veri consideratione detortum et nullo inpositorum vel conpositorum fidem sollemniter inquirente nec discernente a societate noxiorum insontes velut exturbatum e iudiciis fas omne discessit, et causarum legitima silente defensione carnifex rapinarum sequester et obductio capitum et bonorum ubique multatio versabatur per orientales provincias, quas recensere puto nunc oportunum absque Mesopotamia digesta, cum bella Parthica dicerentur, et Aegypto, quam necessario aliud reieci ad tempus.\n",
      "30\n",
      "VIII 1.\n",
      "Superatis Tauri montis verticibus qui ad solis ortum sublimius attolluntur, Cilicia spatiis porrigitur late distentis dives bonis omnibus terra, eiusque lateri dextro adnexa Isauria, pari sorte uberi palmite viget et frugibus minutis, quam mediam navigabile flumen Calycadnus interscindit.\n",
      "2. et hanc quidem praeter oppida multa duae civitates exornant Seleucia opus Seleuci regis, et Claudiopolis quam deduxit coloniam Claudius Caesar.\n",
      "Isaura enim antehac nimium potens, olim subversa ut rebellatrix interneciva aegre vestigia claritudinis pristinae monstrat admodum pauca.\n",
      "3.\n",
      "Ciliciam vero, quae Cydno amni exultat, Tarsus nobilitat, urbs perspicabilis hanc condidisse Perseus memoratur, Iovis filius et Danaes, vel certe ex Aethiopia profectus Sandane quidam nomine vir opulentus et nobilis et Anazarbus auctoris vocabulum referens, et Mopsuestia vatis illius domicilium Mopsi, quem a conmilitio Argonautarum cum aureo vellere direpto redirent, errore abstractum delatumque ad Africae litus mors repentina consumpsit, et ex eo cespite punico tecti manes eius heroici dolorum varietati medentur plerumque sospitales.\n",
      "4. hae duae provinciae bello quondam piratico catervis mixtae praedonum a Servilio pro consule missae sub iugum factae sunt vectigales.\n",
      "et hae quidem regiones velut in prominenti terrarum lingua positae ob orbe eoo monte Amano disparantur.\n",
      "5. orientis vero limes in longum protentus et rectum ab Euphratis fluminis ripis ad usque supercilia porrigitur Nili, laeva Saracenis conterminans gentibus, dextra pelagi fragoribus patens, quam plagam Nicator Seleucus occupatam auxit magnum in modum, cum post Alexandri Macedonis obitum successorio iure teneret regna Persidis, efficaciae inpetrabilis rex, ut indicat cognomentum.\n",
      "6. abusus enim multitudine hominum, quam tranquillis in rebus diutius rexit, ex agrestibus habitaculis urbes construxit multis opibus firmas et viribus, quarum ad praesens pleraeque licet Graecis nominibus appellentur, quae isdem ad arbitrium inposita sunt conditoris, primigenia tamen nomina non amittunt, quae eis Assyria lingua institutores veteres indiderunt.\n",
      "7.\n",
      "Et prima post Osdroenam quam, ut dictum est, ab hac descriptione discrevimus, Commagena, nunc Euphratensis, clementer adsurgit, Hierapoli, vetere Nino et Samosata civitatibus amplis inlustris, 8.\n",
      "Dein Syria per speciosam interpatet diffusa planitiem.\n",
      "hanc nobilitat Antiochia, mundo cognita civitas, cui non certaverit alia advecticiis ita adfluere copiis et internis, et Laodicia et Apamia itidemque Seleucia iam inde a primis auspiciis florentissimae.\n",
      "9.\n",
      "Post hanc adclinis Libano monti Phoenice, regio plena gratiarum et venustatis, urbibus decorata magnis et pulchris; in quibus amoenitate celebritateque nominum Tyros excellit, Sidone et Berytus isdemque pares Emissa et Damascus saeculis condita priscis.\n",
      "10. has autem provincias, quas Orontes ambiens amnis imosque pedes Cassii montis illius celsi praetermeans funditur in Parthenium mare, Gnaeus Pompeius superato Tigrane regnis Armeniorum abstractas dicioni Romanae coniunxit.\n",
      "11.\n",
      "Ultima Syriarum est Palaestina per intervalla magna protenta, cultis abundans terris et nitidis et civitates habens quasdam egregias, nullam nulli cedentem sed sibi vicissim velut ad perpendiculum aemulas : Caesaream, quam ad honorem Octaviani principis exaedificavit Herodes, et Eleutheropolim et Neapolim itidemque Ascalonem Gazam aevo superiore exstructas.\n",
      "12. in his tractibus navigerum nusquam visitur flumen sed in locis plurimis aquae suapte natura calentes emergunt ad usus aptae multiplicium medelarum.\n",
      "verum has quoque regiones pari sorte Pompeius Iudaeis domitis et Hierosolymis captis in provinciae speciem delata iuris dictione formavit.\n",
      "13.\n",
      "Huic Arabia est conserta, ex alio latere Nabataeis contigua; opima varietate conmerciorum castrisque oppleta validis et castellis, quae ad repellendos gentium vicinarum excursus sollicitudo pervigil veterum per oportunos saltus erexit et cautos.\n",
      "haec quoque civitates habet inter oppida quaedam ingentes Bostram et Gerasam atque Philadelphiam murorum firmitate cautissimas.\n",
      "hanc provinciae inposito nomine rectoreque adtributo obtemperare legibus nostris Traianus conpulit imperator incolarum tumore saepe contunso cum glorioso marte Mediam urgeret et Parthos.\n",
      "14.\n",
      "Cyprum itidem insulam procul a continenti discretam et portuosam inter municipia crebra urbes duae faciunt claram Salamis et Paphus, altera Iovis delubris altera Veneris templo insignis.\n",
      "tanta autem tamque multiplici fertilitate abundat rerum omnium eadem Cyprus ut nullius externi indigens adminiculi indigenis viribus a fundamento ipso carinae ad supremos usque carbasos aedificet onerariam navem omnibusque armamentis instructam mari committat.\n",
      "15. nec piget dicere avide magis hanc insulam populum Romanum invasisse quam iuste.\n",
      "Ptolomaeo enim rege foederato nobis et socio ob aerarii nostri angustias iusso sine ulla culpa proscribi ideoque hausto veneno voluntaria morte deleto et tributaria facta est et velut hostiles eius exuviae classi inpositae in urbem advectae sunt per Catonem, nunc repetetur ordo gestorum.\n",
      "15\n",
      "IX 1.\n",
      "Inter has ruinarum varietates a Nisibi quam tuebatur accitus Vrsicinus, cui nos obsecuturos iunxerat imperiale praeceptum, dispicere litis exitialis certamina cogebatur abnuens et reclamans, adulatorum oblatrantibus turmis, bellicosus sane milesque semper et militum ductor sed forensibus iurgiis longe discretus, qui metu sui discriminis anxius cum accusatores quaesitoresque subditivos sibi consociatos ex isdem foveis cerneret emergentes, quae clam palamve agitabantur, occultis Constantium litteris edocebat inplorans subsidia, quorum metu tumor notissimus Caesaris exhalaret.\n",
      "2. sed cautela nimia in peiores haeserat plagas, ut narrabimus postea, aemulis consarcinantibus insidias graves apud Constantium, cetera medium principem sed siquid auribus eius huius modi quivis infudisset ignotus, acerbum et inplacabilem et in hoc causarum titulo dissimilem sui.\n",
      "3.\n",
      "Proinde die funestis interrogationibus praestituto imaginarius iudex equitum resedit magister adhibitis aliis iam quae essent agenda praedoctis, et adsistebant hinc inde notarii, quid quaesitum esset, quidve responsum, cursim ad Caesarem perferentes, cuius imperio truci, stimulis reginae exsertantis aurem subinde per aulaeum, nec diluere obiecta permissi nec defensi periere conplures.\n",
      "4. primi igitur omnium statuuntur Epigonus et Eusebius ob nominum gentilitatem oppressi.\n",
      "praediximus enim Montium sub ipso vivendi termino his vocabulis appellatos fabricarum culpasse tribunos ut adminicula futurae molitioni pollicitos.\n",
      "5. et Epigonus quidem amictu tenus philosophus, ut apparuit, prece frustra temptata, sulcatis lateribus mortisque metu admoto turpi confessione cogitatorum socium, quae nulla erant, fuisse firmavit cum nec vidisset quicquam nec audisset penitus expers forensium rerum; Eusebius vero obiecta fidentius negans, suspensus in eodem gradu constantiae stetit latrocinium illud esse, non iudicium clamans.\n",
      "6. cumque pertinacius ut legum gnarus accusatorem flagitaret atque sollemnia, doctus id Caesar libertatemque superbiam ratus tamquam obtrectatorem audacem excarnificari praecepit, qui ita evisceratus ut cruciatibus membra deessent, inplorans caelo iustitiam, torvum renidens fundato pectore mansit inmobilis nec se incusare nec quemquam alium passus et tandem nec confessus nec confutatus cum abiecto consorte poenali est morte multatus.\n",
      "et ducebatur intrepidus temporum iniquitati insultans, imitatus Zenonem illum veterem Stoicum qui ut mentiretur quaedam laceratus diutius, avulsam sedibus linguam suam cum cruento sputamine in oculos interrogantis Cyprii regis inpegit.\n",
      "7.\n",
      "Post haec indumentum regale quaerebatur et ministris fucandae purpurae tortis confessisque pectoralem tuniculam sine manicis textam, Maras nomine quidam inductus est ut appellant Christiani diaconus, cuius prolatae litterae scriptae Graeco sermone ad Tyrii textrini praepositum celerari speciem perurgebant quam autem non indicabant denique etiam idem ad usque discrimen vitae vexatus nihil fateri conpulsus est.\n",
      "8. quaestione igitur per multiplices dilatata fortunas cum ambigerentur quaedam, non nulla levius actitata constaret, post multorum clades Apollinares ambo pater et filius in exilium acti cum ad locum Crateras nomine pervenissent, villam scilicet suam quae ab Antiochia vicensimo et quarto disiungitur lapide, ut mandatum est, fractis cruribus occiduntur.\n",
      "9. post quorum necem nihilo lenius ferociens Gallus ut leo cadaveribus pastus multa huius modi scrutabatur.\n",
      "quae singula narrare non refert, me professione modum, quod evitandum est, excedamus.\n",
      "27\n",
      "X 1.\n",
      "Haec dum oriens diu perferret, caeli reserato tepore Constantius consulatu suo septies et Caesaris ter egressus Arelate Valentiam petit, in Gundomadum et Vadomarium fratres Alamannorum reges arma moturus, quorum crebris excursibus vastabantur confines limitibus terrae Gallorum.\n",
      "2. dumque ibi diu moratur commeatus opperiens, quorum translationem ex Aquitania verni imbres solito crebriores prohibebant auctique torrentes, Herculanus advenit protector domesticus, Hermogenis ex magistro equitum filius, apud Constantinopolim, ut supra rettulimus, populari quondam turbela discerpti.\n",
      "quo verissime referente quae Gallus egerat, damnis super praeteritis maerens et futurorum timore suspensus angorem animi quam diu potuit emendabat.\n",
      "3. miles tamen interea omnis apud Cabillona collectus morarum inpatiens saeviebat hoc inritatior, quod nec subsidia vivendi suppeterent alimentis nondum ex usu translatis.\n",
      "4. unde Rufinus ea tempestate praefectus praetorio ad discrimen trusus est ultimum.\n",
      "ire enim ipse compellebatur ad militem, quem exagitabat inopia simul et feritas, et alioqui coalito more in ordinarias dignitates asperum semper et saevum, ut satisfaceret atque monstraret, quam ob causam annonae convectio sit impedita.\n",
      "5. quod opera consulta cogitabatur astute, ut hoc insidiarum genere Galli periret avunculus, ne eum ut praepotens acueret in fiduciam exitiosa coeptantem.\n",
      "verum navata est opera diligens hocque dilato Eusebius praepositus cubiculi missus est Cabillona aurum cum se perferens, quo per turbulentos seditionum concitores occultius distributo et tumor consenuit militum et salus est in tuto locata praefecti.\n",
      "deinde cibo abunde perlato castra die praedicto sunt mota.\n",
      "6. emensis itaque difficultatibus multis et nive obrutis callibus plurimis ubi prope Rauracum ventum est ad supercilia fluminis Rheni, resistente multitudine Alamanna pontem suspendere navium conpage Romani vi nimia vetabantur ritu grandinis undique convolantibus telis, et cum id inpossibile videretur, imperator cogitationibus magnis attonitus, quid capesseret ambigebat.\n",
      "7. ecce autem ex inproviso index quidam regionum gnarus advenit et mercede accepta vadosum locum nocte monstravit unde superari potuit flumen : et potuisset aliorsum intentis hostibus exercitus inde transgressus nullo id opinante cuncta vastare, ni pauci ex eadem gente, quibus erat honoratioris militiae cura commissa, populares suos haec per nuntios docuissent occultos, ut quidam existimabant.\n",
      "8. infamabat autem haec suspicio Latinum domesticorum comitem et Agilonem tribunum stabuli atque Scudilonem Scutariorum rectorem, qui tunc ut dextris suis gestantes rem publicam colebantur.\n",
      "9. at barbari suscepto pro instantium rerum ratione consilio, dirimentibus forte auspicibus vel congredi prohibente auctoritate sacrorum, mollito rigore, quo fidentius resistebant, optimates misere delictorum veniam petituros et pacem.\n",
      "10.\n",
      "tentis igitur regis utriusque legatis et negotio tectius diu pensato cum pacem oportere tribui, quae iustis condicionibus petebatur, eamque ex re tum fore sententiarum via concinens adprobasset, advocato in contionem exercitu imperator pro tempore pauca dicturus tribunali adsistens circumdatus potestatum coetu celsarum ad hunc disservit modum : 11.\n",
      "Nemo quaeso miretur, si post exsudatos labores itinerum longos congestosque adfatim commeatus fiducia vestri ductante barbaricos pagos adventans velut mutato repente consilio ad placidiora deverti.\n",
      "12. pro suo enim loco et animo quisque vestrum reputans id inveniet verum, quod miles ubique, licet membris vigentibus firmus, se solum vitamque propriam circumspicit et defendit, imperator vero officiosus dum metuit omnibus, alienae custos salutis nihil non ad sui spectare tutelam rationes populorum cognoscit et remedia cuncta quae status negotiorum admittit, arripere debet alacriter secunda numinis voluntate delata.\n",
      "13. ut in breve igitur conferam et ostendam qua ex causa omnes vos simul adesse volui, commilitones mei fidissimi, accipite aequis auribus quae succinctius explicabo.\n",
      "veritas enim absoluta semper ac perquam est simplex.\n",
      "14. arduos vestrae gloriae gradus, quos fama per plagarum quoque accolas extimarum diffundit, excellenter adcrescens, Alamannorum reges et populi formidantes per oratores quos videtis summissis cervicibus concessionem praeteritorum poscunt et pacem.\n",
      "quam ut cunctator et cautus utiliumque monitor, si vestra voluntas adest, tribui debere censeo multa contemplans.\n",
      "primo ut Martis ambigua declinentur, dein ut auxiliatores pro adversariis adsciscamus quod pollicentur tum autem ut incruenti mitigemus ferociae flatus perniciosos saepe provinciis, postremo id reputantes quod non ille hostis vincitur solus, qui cadit in acie pondere armorum oppressus et virium, sed multo tutius etiam tuba tacente sub iugum mittitur voluntarius qui sentit expertus nec fortitudinem in rebellis nec lenitatem in supplices animos abesse Romanis.\n",
      "15. in summa tamquam arbitros vos quid suadetis opperior ut princeps tranquillus temperanter adhibere modum adlapsa felicitate decernens.\n",
      "non enim inertiae sed modestiae humanitatique -que, mihi credite, hoc quod recte consultum est adsignabitur.\n",
      "16.\n",
      "Mox dicta finierat, multitudo omnis ad, quae imperator voluit, promptior laudato consilio consensit in pacem ea ratione maxime percita, quod norat expeditionibus crebris fortunam eius in malis tantum civilibus vigilasse, cum autem bella moverentur externa, accidisse plerumque luctuosa, icto post haec foedere gentium ritu perfectaque sollemnitate imperator Mediolanum ad hiberna discessit.\n",
      "58\n",
      "XI 1.\n",
      "Vbi curarum abiectis ponderibus aliis tamquam nodum et codicem difficillimum Caesarem convellere nisu valido cogitabat, eique deliberanti cum proximis clandestinis conloquiis et nocturnis qua vi, quibusve commentis id fieret, antequam effundendis rebus pertinacius incumberet confidentia, acciri mollioribus scriptis per simulationem tractatus publici nimis urgentis eundem placuerat Gallum, ut auxilio destitutus sine ullo interiret obstaculo.\n",
      "2. huic sententiae versabilium adulatorum refragantibus globis inter quos erat Arbetio ad insidiandum acer et flagrans, et Eusebius tunc praepositus cubiculi effusior ad nocendum id occurrebat Caesare discedente Vrsicinum in oriente perniciose relinquendum, si nullus esset, qui prohiberet altiora meditaturum.\n",
      "3. isdemque residui regii accessere spadones, quorum ea tempestate plus habendi cupiditas ultra mortalem modum adolescebat, inter ministeria vitae secretioris per arcanos susurros nutrimenta fictis criminibus subserentes : qui ponderibus invidiae gravioris virum fortissimum opprimebant, subolescere imperio adultos eius filios mussitantes, decore corporum favorabiles et aetate, per multiplicem armaturae scientiam agilitatemque membrorum inter cotidiana proludia exercitus consulto consilio cognitos : Gallum suopte ingenio trucem per suppositos quosdam ad saeva facinora ideo animatum ut eo digna omnium ordinum detestatione exoso ad magistri equitum liberos principatus insignia transferantur.\n",
      "4.\n",
      "Cum haec taliaque sollicitas eius aures everberarent expositas semper eius modi rumoribus et patentes, varia animo tum miscente consilia, tandem id ut optimum factu elegit : et Vrsicinum primum ad se venire summo cum honore mandavit ea specie ut pro rerum tunc urgentium captu disponeretur concordi consilio, quibus virium incrementis Parthicarum gentium a arma minantium impetus frangerentur.\n",
      "5. et nequid suspicaretur adversi venturus, vicarius eius, dum redit, Prosper missus est comes : acceptisque litteris et copia rei vehiculariae data Mediolanum itineribus properavimus magnis.\n",
      "6.\n",
      "Restabat ut Caesar post haec properaret accitus et abstergendae causa suspicionis sororem suam, eius uxorem, Constantius ad se tandem desideratam venire multis fictisque blanditiis hortabatur.\n",
      "quae licet ambigeret metuens saepe cruentum, spe tamen quod eum lenire poterit ut germanum profecta, cum Bithyniam introisset, in statione quae Caenos Gallicanos appellatur, absumpta est vi febrium repentina.\n",
      "cuius post obitum maritus contemplans cecidisse fiduciam qua se fultum existimabat, anxia cogitatione -ne, quid moliretur haerebat.\n",
      "7. inter res enim inpeditas et turbidas ad hoc unum mentem sollicitam dirigebat, quod Constantius cuncta ad suam sententiam conferens nec satisfactionem suscipiet aliquam nec erratis ignoscet, sed, ut erat in propinquitatis perniciem inclinatior, laqueos ei latenter obtendens, si cepisset incautum, morte multaret.\n",
      "8. eo necessitatis adductus ultimaque ni vigilasset opperiens, principem locum, si copia patuisset [ quam ] adfectabat, sed perfidiam proximorum ratione bifaria verebatur, qui eum ut truculentum horrebant et levem, quique altiorem Constantii fortunam in discordiis civilibus formidabant.\n",
      "9. inter has curarum moles inmensas imperatoris scripta suscipiebat adsidua monentis orantisque -que, ut ad se veniret et mente monstrantis obliqua rem publicam nec posse dividi nec debere, sed pro viribus quemque ei ferre suppetias fluctuanti, nimirum Galliarum indicans vastitatem.\n",
      "10. quibus subserebat non adeo vetus exemplum quod Diocletiano et eius collegae ut apparitores Caesares non resides, sed ultro citroque discurrentes obtemperabant et in Syria Augusti vehiculum irascentis per spatium mille passuum fere pedes antegressus est Galerius purpuratus.\n",
      "11.\n",
      "Advenit post multos Scudilo Scutariorum tribunus velamento subagrestis ingenii persuasionis opifex callidus.\n",
      "qui eum adulabili sermone seriis admixto solus omnium proficisci pellexit vultu adsimulato saepius replicando quod flagrantibus votis eum videre frater cuperet patruelis, siquid per inprudentiam gestum est remissurus ut mitis et clemens, participemque eum suae maiestatis adscisceret, futurum laborum quoque socium, quos Arctoae provinciae diu fessae poscebant.\n",
      "12. utque solent manum iniectantibus fatis hebetari sensus hominum et obtundi, his incelebris ad meliorum expectationem erectus egressusque Antiochia numine laevo ductante prorsus ire tendebat de fumo, ut proverbium loquitur vetus, ad flammam, et ingressus Constantinopolim tamquam in rebus prosperis et securis, editis equestribus ludis capiti Thoracis aurigae coronam inposuit ut victoris.\n",
      "13.\n",
      "Quo cognito Constantius ultra mortalem modum exarsit ac nequo casu idem Gallus de futuris incertus agitare quaedam conducentia saluti suae per itinera conaretur, remoti sunt omnes de industria milites agentes in civitatibus perviis.\n",
      "14. eoque tempore Taurus quaestor ad Armeniam missus confidenter nec appellato eo nec viso transivit.\n",
      "venere tamen aliqui iussu imperatoris administrationum specie diversarum, eundem ne commovere se posset, neve temptaret aliquid occulte custodituri, inter quos Leontius erat, postea urbi praefectus ut quaestor, et Lucillianus quasi domesticorum comes et Scutariorum tribunus nomine Bainobaudes.\n",
      "15. emensis itaque longis intervallis et planis cum Hadrianopolim introisset urbem Haemimontanam, Vscudamam antehac appellatam, fessasque labore diebus duodecim recreans vires conperit Thebaeas legiones in vicinis oppidis hiemantes consortes suos misisse quosdam, eum ut remaneret promissis fidis hortaturos et firmis, sui fiducia abunde per stationes locati confines, sed observante cura pervigili proximorum nullam videndi vel audiendi quae ferebant furari potuit facultatem.\n",
      "16. inde aliis super alias urgentibus litteris exire et decem vehiculis publicis, ut praeceptum est, usus relicto palatino omni praeter paucos tori ministros et mensae, quos avexerat cum se, squalore concretus celerare gradum conpellebatur adigentibus multis, temeritati suae subinde flebiliter inprecatus, quae eum iam despectum et vilem arbitrio subdiderat infimorum.\n",
      "17. inter haec tamen per indutias naturae conquiescentis sauciabantur eius sensus circumstridentium terrore larvarum, interfectorumque catervae Domitiano et Montio praeviis correptum eum ut existimabat in somnis uncis furialibus obiectabant.\n",
      "18. solutus enim corporeis nexibus animus semper vigens motibus indefessis et cogitationibus subiectus et curis, quae mortalium sollicitant mentes, colligit visa nocturna, quas phantasias nos appellamus.\n",
      "19.\n",
      "Pandente itaque viam fatorum sorte tristissima, qua praestitutum erat eum vita et imperio spoliari, itineribus interiectis permutatione iumentorum emensis venit Petobionem oppidum Noricorum, ubi reseratae sunt insidiarum latebrae omnes, et Barbatio repente apparuit comes, qui sub eo domesticis praefuit, cum Apodemio agente in rebus milites ducens, quos beneficiis suis oppigneratos elegerat imperator certus nec praemiis nec miseratione ulla posse deflecti.\n",
      "20.\n",
      "Iamque non umbratis fallaciis res agebatur, sed qua palatium est extra muros, armatis omne circumdedit.\n",
      "ingressusque obscuro iam die, ablatis regiis indumentis Caesarem tunica texit et paludamento communi, eum post haec nihil passurum velut mandato principis iurandi crebritate confirmans et statim inquit exsurge et inopinum carpento privato inpositum ad Histriam duxit prope oppidum Polam, ubi quondam peremptum Constantini filium accepimus Crispum.\n",
      "21. et cum ibi servaretur artissime terrore propinquantis exitii iam praesepultus, accurrit Eusebius cubiculi tunc praepositus Pentadiusque notarius et Mallobaudes armaturarum tribunus iussu imperatoris conpulsuri eum singillatim docere, quam ob causam quemque apud Antiochiam necatorum iusserat trucidari.\n",
      "22. ad quae Adrasteo pallore perfusus hactenus valuit loqui, quod plerosque incitante coniuge iugulaverit Constantina, ignorans profecto Alexandrum Magnum urgenti matri ut occideret quendam insontem, et dictitanti spe impetrandi postea quae vellet eum se per novem menses utero portasse praegnantem, ita respondisse prudenter aliam, parens optima, posce mercedem; hominis enim salus beneficio nullo pensatur.\n",
      "23. quo conperto inrevocabili ira princeps percitus et dolore fiduciam omnem fundandae securitatis in eodem posuit abolendo.\n",
      "et misso Sereniano, quem in crimen maiestatis vocatum praestigiis quibusdam absolutum esse supra monstravimus, Pentadio quin etiam notario et Apodemio agente in rebus, eum capitali supplicio destinavit, et ita conligatis manibus in modum noxii cuiusdam latronis cervice abscisa ereptaque vultus et capitis dignitate cadaver est relictum informe paulo ante urbibus et provinciis formidatum.\n",
      "24. sed vigilavit utrubique superni numinis aequitas.\n",
      "nam et Gallum actus oppressere crudeles, et non diu postea ambo cruciabili morte absumpti sunt, qui eum licet nocentem blandius palpantes periuriis ad usque plagas perduxere letales.\n",
      "quorum Scudilo destillatione iecoris pulmones vomitans interiit, Barbatio, qui in eum iam diu falsa conposuerat crimina, cum ex magisterio peditum altius niti quorundam susurris incusaretur, damnatus extincti per fallacias Caesaris manibus inlacrimoso obitu parentavit.\n",
      "25.\n",
      "Haec et huius modi quaedam innumerabilia ultrix facinorum impiorum bonorumque praemiatrix aliquotiens operatur Adrastia atque utinam semper quam vocabulo duplici etiam Nemesim appellamus : ius quoddam sublime numinis efficacis, humanarum mentium opinione lunari circulo superpositum, vel ut definiunt alii, substantialis tutela generali potentia partilibus praesidens fatis, quam theologi veteres fingentes Iustitiae filiam ex abdita quadam aeternitate tradunt omnia despectare terrena.\n",
      "26. haec ut regina causarum et arbitra rerum ac disceptatrix urnam sortium temperat accidentium vices alternans voluntatumque nostrarum exorsa interdum alio, quam quo contendebant, exitu terminans multiplices actus permutando convolvit.\n",
      "eademque necessitatis insolubili retinaculo mortalitatis vinciens fastus tumentes in cassum et incrementorum detrimentorumque momenta versans, ut novit, nunc erectas mentium cervices opprimit et enervat, nunc bonos ab imo suscitans ad bene vivendum extollit.\n",
      "pinnas autem ideo illi fabulosa vetustas aptavit, ut adesse velocitate volucri cunctis existimetur, et praetendere gubernaculum dedit eique subdidit rotam, ut universitatem regere per elementa discurrens omnia non ignoretur.\n",
      "27.\n",
      "Hoc inmaturo interitu ipse quoque sui pertaesus excessit e vita aetatis nono anno atque vicensimo cum quadriennio imperasset.\n",
      "natus apud Tuscos in Massa Veternensi, patre Constantio Constantini fratre imperatoris, matreque Galla sorore Rufini et Cerealis, quos trabeae consulares nobilitarunt et praefecturae.\n",
      "28. fuit autem forma conspicuus bona, decente filo corporis membrorumque recta conpage, flavo capillo et molli, barba licet recens emergente lanugine tenera, ita tamen ut maturius auctoritas emineret, tantum a temperatis moribus Iuliani differens fratris, quantum inter Vespasiani filios fuit Domitianum et Titum.\n",
      "29. assumptus autem in amplissimum fortunae fastigium versabilis eius motus expertus est, qui ludunt mortalitatem nunc evehentes quosdam in sidera, nunc ad Cocyti profunda mergentes.\n",
      "cuius rei cum innumera sint exempla, pauca tactu summo transcurram.\n",
      "30. haec fortuna mutabilis et inconstans fecit Agathoclem Siculum ex figulo regem et Dionysium gentium quondam terrorem Corinthi litterario ludo praefecit.\n",
      "31. haec Adramyttenum Andriscum in fullonio natum ad Pseudophilippi nomen evexit et Persei legitimum filium artem ferrariam ob quaerendum docuit victum.\n",
      "32. eadem Mancinum post imperium dedit Numantinis, Samnitum atrocitati Veturium, et Claudium Corsis, substravitque feritati Carthaginis Regulum, istius iniquitate Pompeius post quaesitum Magni ex rerum gestarum amplitudine cognomentum ad spadonum libidinem in Aegypto trucidatur.\n",
      "33. et Eunus quidam ergastularius servus eluctavit in Sicilia fugitivos.\n",
      "quam multi splendido loco nati eadem rerum domina conivente Viriathi genua sunt amplexi vel Spartaci\n",
      "quot capita, quae horruere gentes, funesti carnifices absciderunt\n",
      "alter in vincula ducitur, alter insperatae praeficitur potestati, alius a summo culmine dignitatis excutitur.\n",
      "34. quae omnia si scire quisquam velit quam varia sint et adsidua, harenarum numerum idem iam desipiens et montium pondera scrutari putabit.\n"
     ]
    },
    {
     "name": "stderr",
     "output_type": "stream",
     "text": [
      "\n"
     ]
    }
   ],
   "source": [
    "\n",
    "for graf in tqdm(paras): \n",
    "    print(len(graf))\n",
    "    if len(graf) > 1: \n",
    "        for g in graf:\n",
    "            p = clean_paragraph(g)\n"
   ]
  },
  {
   "cell_type": "code",
   "execution_count": 480,
   "metadata": {},
   "outputs": [
    {
     "name": "stderr",
     "output_type": "stream",
     "text": [
      "/Users/aleedom/cltk/venv/lib/python3.7/site-packages/ipykernel_launcher.py:1: TqdmExperimentalWarning: Using `tqdm.autonotebook.tqdm` in notebook mode. Use `tqdm.tqdm` instead to force console mode (e.g. in jupyter console)\n",
      "  \"\"\"Entry point for launching an IPython kernel.\n"
     ]
    }
   ],
   "source": [
    "from tqdm.autonotebook import tqdm"
   ]
  },
  {
   "cell_type": "code",
   "execution_count": 4,
   "metadata": {},
   "outputs": [],
   "source": [
    "\n",
    "from tqdm import tqdm\n",
    "\n",
    "# blah blah your code errored\n",
    "\n"
   ]
  },
  {
   "cell_type": "code",
   "execution_count": 531,
   "metadata": {},
   "outputs": [],
   "source": [
    "p = clean_paragraph(paras[3][7])"
   ]
  },
  {
   "cell_type": "code",
   "execution_count": 533,
   "metadata": {},
   "outputs": [
    {
     "data": {
      "text/plain": [
       "21"
      ]
     },
     "execution_count": 533,
     "metadata": {},
     "output_type": "execute_result"
    }
   ],
   "source": [
    "len(p.split(' '))"
   ]
  },
  {
   "cell_type": "code",
   "execution_count": 555,
   "metadata": {},
   "outputs": [
    {
     "data": {
      "text/plain": [
       "[('rumigerabatur', 'rumigerabatur')]"
      ]
     },
     "execution_count": 555,
     "metadata": {},
     "output_type": "execute_result"
    }
   ],
   "source": [
    "lemmatizer.lemmatize(['rumigerabatur'])"
   ]
  },
  {
   "cell_type": "code",
   "execution_count": 546,
   "metadata": {
    "collapsed": true,
    "jupyter": {
     "outputs_hidden": true
    }
   },
   "outputs": [
    {
     "name": "stdout",
     "output_type": "stream",
     "text": [
      "Ammianus : Liber Ammianus : Liber Ammianus : Liber Ammianus : Liber Ammianus : Liber Ammianus : Liber Ammianus : Liber Ammianus : Liber Ammianus : Liber Ammianus : Liber Ammianus : Liber Ammianus : Liber Ammianus : Liber Ammianus : Liber Ammianus : Liber Ammianus : Liber Ammianus : Liber Ammianus : Liber Ammianus : Liber Ammianus : Liber Ammianus : Liber Ammianus : Liber Ammianus : Liber Ammianus : Liber Ammianus : Liber Ammianus : Liber Ammianus : Liber Ammianus : Liber Ammianus : Liber Ammianus : Liber Ammianus : Liber Ammianus : Liber Ammianus : Liber \n",
      "AMMIANI MARCELLINI HISTORIAE LIBER AMMIANI MARCELLINI HISTORIAE LIBER AMMIANI MARCELLINI HISTORIAE LIBER AMMIANI MARCELLINI HISTORIAE LIBER AMMIANI MARCELLINI HISTORIAE LIBER AMMIANI MARCELLINI HISTORIAE LIBER AMMIANI MARCELLINI HISTORIAE LIBER AMMIANI MARCELLINI HISTORIAE LIBER AMMIANI MARCELLINI HISTORIAE LIBER AMMIANI MARCELLINI HISTORIAE LIBER AMMIANI MARCELLINI HISTORIAE LIBER AMMIANI MARCELLINI HISTORIAE LIBER AMMIANI MARCELLINI HISTORIAE LIBER AMMIANI MARCELLINI HISTORIAE LIBER AMMIANI MARCELLINI HISTORIAE LIBER AMMIANI MARCELLINI HISTORIAE LIBER AMMIANI MARCELLINI HISTORIAE LIBER AMMIANI MARCELLINI HISTORIAE LIBER AMMIANI MARCELLINI HISTORIAE LIBER AMMIANI MARCELLINI HISTORIAE LIBER AMMIANI MARCELLINI HISTORIAE LIBER AMMIANI MARCELLINI HISTORIAE LIBER AMMIANI MARCELLINI HISTORIAE LIBER AMMIANI MARCELLINI HISTORIAE LIBER AMMIANI MARCELLINI HISTORIAE LIBER \n",
      "I II III IV V VI VII VIII IX X I II III IV V VI VII VIII IX X I II III IV V VI VII VIII IX X I II III IV V VI VII VIII IX X I II III IV V VI VII VIII IX X I II III IV V VI VII VIII IX X I II III IV V VI VII VIII IX X I II III IV V VI VII VIII IX X I II III IV V VI VII VIII IX X I II III IV V VI VII VIII IX X \n",
      "I 1. Post emensos insuperabilis expeditionis eventus languentibus partium animis, quas periculorum varietas fregerat et laborum, nondum tubarum cessante clangore vel milite locato per stationes hibernas, fortunae saevientis procellae tempestates alias rebus infudere communibus per multa illa et dira facinora Caesaris Galli, qui ex squalore imo miseriarum in aetatis adultae primitiis ad principale culmen insperato saltu provectus ultra terminos potestatis delatae procurrens asperitate nimia cuncta foedabat. propinquitate enim regiae stirpis gentilitateque etiam tum Constantini nominis efferebatur in fastus, si plus valuisset, ausurus hostilia in auctorem suae felicitatis, ut videbatur. 2. Cuius acerbitati uxor grave accesserat incentivum, germanitate Augusti turgida supra modum, quam Hannibaliano regi fratris filio antehac Constantinus iunxerat pater, Megaera quaedam mortalis, inflammatrix saevientis adsidua, humani cruoris avida nihil mitius quam maritus; qui paulatim eruditiores facti processu temporis ad nocendum per clandestinos versutosque rumigerulos conpertis leviter addere quaedam male suetos falsa et placentia sibi discentes, adfectati regni vel artium nefandarum calumnias insontibus adfligebant. 3. eminuit autem inter humilia supergressa iam impotentia fines mediocrium delictorum nefanda Clematii cuiusdam Alexandrini nobilis mors repentina; cuius socrus cum misceri sibi generum, flagrans eius amore, non impetraret, ut ferebatur, per palatii pseudothyrum introducta, oblato pretioso reginae monili id adsecuta est, ut ad Honoratum tum comitem orientis formula missa letali omnino scelere nullo contactus idem Clematius nec hiscere nec loqui permissus occideretur. 4. Post hoc impie perpetratum quod in aliis quoque iam timebatur, tamquam licentia crudelitati indulta per suspicionum nebulas aestimati quidam noxii damnabantur. quorum pars necati, alii puniti bonorum multatione actique laribus suis extorres nullo sibi relicto praeter querelas et lacrimas, stipe conlaticia victitabant, et civili iustoque imperio ad voluntatem converso cruentam, claudebantur opulentae domus et clarae. 5. nec vox accusatoris ulla licet subditicii in his malorum quaerebatur acervis ut saltem specie tenus crimina praescriptis legum committerentur, quod aliquotiens fecere principes saevi : sed quicquid Caesaris implacabilitati sedisset, id velut fas iusque perpensum confestim urgebatur impleri. 6. excogitatum est super his, ut homines quidam ignoti, vilitate ipsa parum cavendi ad colligendos rumores per Antiochiae latera cuncta destinarentur relaturi quae audirent. hi peragranter et dissimulanter honoratorum circulis adsistendo pervadendoque divites domus egentium habitu quicquid noscere poterant vel audire latenter intromissi per posticas in regiam nuntiabant, id observantes conspiratione concordi, ut fingerent quaedam et cognita duplicarent in peius, laudes vero supprimerent Caesaris, quas invitis conpluribus formido malorum inpendentium exprimebat. 7. et interdum acciderat, ut siquid in penetrali secreto nullo citerioris vitae ministro praesente paterfamilias uxori susurrasset in aurem, velut Amphiarao referente aut Marcio, quondam vatibus inclitis, postridie disceret imperator. ideoque etiam parietes arcanorum soli conscii timebantur. 8. adolescebat autem obstinatum propositum erga haec et similia multa scrutanda, stimulos admovente regina, quae abrupte mariti fortunas trudebat in exitium praeceps, cum eum potius lenitate feminea ad veritatis humanitatisque viam reducere utilia suadendo deberet, ut in Gordianorum actibus factitasse Maximini truculenti illius imperatoris rettulimus coniugem. 9. Novo denique perniciosoque exemplo idem Gallus ausus est inire flagitium grave, quod Romae cum ultimo dedecore temptasse aliquando dicitur Gallienus, et adhibitis paucis clam ferro succinctis vesperi per tabernas palabatur et conpita quaeritando Graeco sermone, cuius erat inpendio gnarus, quid de Caesare quisque sentiret. et haec confidenter agebat in urbe ubi pernoctantium luminum claritudo dierum solet imitari fulgorem. postremo agnitus saepe iamque -que, si prodisset, conspicuum se fore contemplans, non nisi luce palam egrediens ad agenda quae putabat seria cernebatur. et haec quidem medullitus multis gementibus agebantur. 10. Thalassius vero ea tempestate praefectus praetorio praesens ipse quoque adrogantis ingenii, considerans incitationem eius ad multorum augeri discrimina, non maturitate vel consiliis mitigabat, ut aliquotiens celsae potestates iras principum molliverunt, sed adversando iurgandoque cum parum congrueret, eum ad rabiem potius evibrabat, Augustum actus eius exaggerando creberrime docens, idque -que, incertum qua mente, ne lateret adfectans. quibus mox Caesar acrius efferatus, velut contumaciae quoddam vexillum altius erigens, sine respectu salutis alienae vel suae ad vertenda opposita instar rapidi fluminis irrevocabili impetu ferebatur. \n"
     ]
    }
   ],
   "source": [
    "for section in paras[:4]: \n",
    "    collector = f''\n",
    "    while len(collector.split(' ')) < 100:\n",
    "        for subsection in section: \n",
    "            p = clean_paragraph(subsection) + \" \"\n",
    "            collector+=(p)\n",
    "    p = collector\n",
    "    print(p)"
   ]
  },
  {
   "cell_type": "code",
   "execution_count": 488,
   "metadata": {},
   "outputs": [
    {
     "name": "stderr",
     "output_type": "stream",
     "text": [
      "  0%|          | 0/10 [00:00<?, ?it/s]"
     ]
    },
    {
     "name": "stdout",
     "output_type": "stream",
     "text": [
      "16\n"
     ]
    },
    {
     "name": "stderr",
     "output_type": "stream",
     "text": [
      " 10%|█         | 1/10 [00:03<00:27,  3.07s/it]"
     ]
    },
    {
     "name": "stdout",
     "output_type": "stream",
     "text": [
      "34\n"
     ]
    },
    {
     "name": "stderr",
     "output_type": "stream",
     "text": [
      " 20%|██        | 2/10 [00:06<00:24,  3.10s/it]"
     ]
    },
    {
     "name": "stdout",
     "output_type": "stream",
     "text": [
      "30\n"
     ]
    },
    {
     "name": "stderr",
     "output_type": "stream",
     "text": [
      " 30%|███       | 3/10 [00:09<00:21,  3.11s/it]"
     ]
    },
    {
     "name": "stdout",
     "output_type": "stream",
     "text": [
      "4\n",
      "506\n",
      "181\n",
      "2\n",
      "526\n",
      "471\n",
      "2\n",
      "159\n",
      "259\n",
      "294\n",
      "173\n",
      "393\n"
     ]
    },
    {
     "name": "stderr",
     "output_type": "stream",
     "text": [
      " 30%|███       | 3/10 [00:55<02:08, 18.35s/it]\n"
     ]
    },
    {
     "ename": "KeyboardInterrupt",
     "evalue": "",
     "output_type": "error",
     "traceback": [
      "\u001b[0;31m---------------------------------------------------------------------------\u001b[0m",
      "\u001b[0;31mKeyboardInterrupt\u001b[0m                         Traceback (most recent call last)",
      "\u001b[0;32m<ipython-input-488-cece0eb2e1c0>\u001b[0m in \u001b[0;36m<module>\u001b[0;34m\u001b[0m\n\u001b[1;32m     13\u001b[0m         \u001b[0mcols\u001b[0m \u001b[0;34m=\u001b[0m \u001b[0msectPr\u001b[0m\u001b[0;34m.\u001b[0m\u001b[0mxpath\u001b[0m\u001b[0;34m(\u001b[0m\u001b[0;34m'./w:cols'\u001b[0m\u001b[0;34m)\u001b[0m\u001b[0;34m[\u001b[0m\u001b[0;36m0\u001b[0m\u001b[0;34m]\u001b[0m\u001b[0;34m\u001b[0m\u001b[0;34m\u001b[0m\u001b[0m\n\u001b[1;32m     14\u001b[0m         \u001b[0mcols\u001b[0m\u001b[0;34m.\u001b[0m\u001b[0mset\u001b[0m\u001b[0;34m(\u001b[0m\u001b[0mqn\u001b[0m\u001b[0;34m(\u001b[0m\u001b[0;34m'w:num'\u001b[0m\u001b[0;34m)\u001b[0m\u001b[0;34m,\u001b[0m\u001b[0;34m'2'\u001b[0m\u001b[0;34m)\u001b[0m\u001b[0;34m\u001b[0m\u001b[0;34m\u001b[0m\u001b[0m\n\u001b[0;32m---> 15\u001b[0;31m         \u001b[0mdoc\u001b[0m\u001b[0;34m.\u001b[0m\u001b[0madd_paragraph\u001b[0m\u001b[0;34m(\u001b[0m\u001b[0mparse_paragraph\u001b[0m\u001b[0;34m(\u001b[0m\u001b[0mp\u001b[0m\u001b[0;34m)\u001b[0m\u001b[0;34m)\u001b[0m\u001b[0;34m\u001b[0m\u001b[0;34m\u001b[0m\u001b[0m\n\u001b[0m\u001b[1;32m     16\u001b[0m \u001b[0;34m\u001b[0m\u001b[0m\n\u001b[1;32m     17\u001b[0m         \u001b[0mdoc\u001b[0m\u001b[0;34m.\u001b[0m\u001b[0madd_section\u001b[0m\u001b[0;34m(\u001b[0m\u001b[0;36m0\u001b[0m\u001b[0;34m)\u001b[0m\u001b[0;34m\u001b[0m\u001b[0;34m\u001b[0m\u001b[0m\n",
      "\u001b[0;32m<ipython-input-484-194587bb1913>\u001b[0m in \u001b[0;36mparse_paragraph\u001b[0;34m(paragraph)\u001b[0m\n\u001b[1;32m     10\u001b[0m     \u001b[0mout_str\u001b[0m \u001b[0;34m=\u001b[0m \u001b[0;34m''\u001b[0m\u001b[0;34m\u001b[0m\u001b[0;34m\u001b[0m\u001b[0m\n\u001b[1;32m     11\u001b[0m     \u001b[0mpath\u001b[0m \u001b[0;34m=\u001b[0m \u001b[0;34m'lexica/Lewis_Short_XML/lat.ls.perseus-eng1.xml'\u001b[0m\u001b[0;34m\u001b[0m\u001b[0;34m\u001b[0m\u001b[0m\n\u001b[0;32m---> 12\u001b[0;31m     \u001b[0mtree\u001b[0m \u001b[0;34m=\u001b[0m \u001b[0mET\u001b[0m\u001b[0;34m.\u001b[0m\u001b[0mparse\u001b[0m\u001b[0;34m(\u001b[0m\u001b[0mpath\u001b[0m\u001b[0;34m)\u001b[0m\u001b[0;34m\u001b[0m\u001b[0;34m\u001b[0m\u001b[0m\n\u001b[0m\u001b[1;32m     13\u001b[0m     \u001b[0mentries\u001b[0m \u001b[0;34m=\u001b[0m \u001b[0mtree\u001b[0m\u001b[0;34m.\u001b[0m\u001b[0mxpath\u001b[0m\u001b[0;34m(\u001b[0m\u001b[0;34m'//entryFree'\u001b[0m\u001b[0;34m)\u001b[0m\u001b[0;34m\u001b[0m\u001b[0;34m\u001b[0m\u001b[0m\n\u001b[1;32m     14\u001b[0m     \u001b[0mendings\u001b[0m \u001b[0;34m=\u001b[0m \u001b[0;34m''\u001b[0m\u001b[0;34m\u001b[0m\u001b[0;34m\u001b[0m\u001b[0m\n",
      "\u001b[0;31mKeyboardInterrupt\u001b[0m: "
     ]
    }
   ],
   "source": [
    "doc = Document()\n",
    "for graf in tqdm(paras[:10]):  \n",
    "    for g in graf:\n",
    "        p = clean_paragraph(g)\n",
    "            if len(p.split(' ')) < 60:\n",
    "                # page will fit more, so stack an additional paragraph \n",
    "        doc.add_paragraph(p)\n",
    "\n",
    "        doc.add_paragraph(br)\n",
    "        doc.add_section(0)\n",
    "        section = doc.sections[-1]\n",
    "\n",
    "        sectPr = section._sectPr\n",
    "        cols = sectPr.xpath('./w:cols')[0]\n",
    "        cols.set(qn('w:num'),'2')\n",
    "        doc.add_paragraph(parse_paragraph(p))\n",
    "\n",
    "        doc.add_section(0)\n",
    "        section = doc.sections[-1]\n",
    "\n",
    "        sectPr = section._sectPr\n",
    "        cols = sectPr.xpath('./w:cols')[0]\n",
    "        cols.set(qn('w:num'),'1')\n",
    "        doc.add_page_break()\n",
    "\n",
    "\n",
    "doc.save('test.docx')\n",
    "\n",
    "        "
   ]
  },
  {
   "cell_type": "code",
   "execution_count": null,
   "metadata": {},
   "outputs": [],
   "source": []
  },
  {
   "cell_type": "code",
   "execution_count": null,
   "metadata": {},
   "outputs": [],
   "source": [
    "def make_docx(text: 'list') -> 'docx': \n",
    "    \"makes a docx\"\n",
    "    "
   ]
  },
  {
   "cell_type": "code",
   "execution_count": null,
   "metadata": {},
   "outputs": [],
   "source": []
  },
  {
   "cell_type": "code",
   "execution_count": null,
   "metadata": {},
   "outputs": [],
   "source": []
  },
  {
   "cell_type": "code",
   "execution_count": null,
   "metadata": {},
   "outputs": [],
   "source": []
  },
  {
   "cell_type": "markdown",
   "metadata": {},
   "source": [
    "## Now fix definitions"
   ]
  },
  {
   "cell_type": "code",
   "execution_count": 177,
   "metadata": {},
   "outputs": [],
   "source": [
    "def lookup_word(word: \"str\") -> \"dict\": \n",
    "    \"parses the LS for word information. Limits the returned definitions to two senses for brevity\"\n",
    "    \n",
    "    path = 'lexica/Lewis_Short_XML/lat.ls.perseus-eng1.xml'\n",
    "    tree = ET.parse(path)\n",
    "    entries = tree.xpath('//entryFree')\n",
    "    \n",
    "    d = {}\n",
    "    lemma = lemmatizer.lemmatize([word])[0][1]\n",
    "    count = 0\n",
    "\n",
    "    for entry in tqdm(entries):      \n",
    "        \n",
    "        senses = [] # definitions\n",
    "        endings = [] # word form \n",
    "        # quotes = [] # no quotes for the text portion \n",
    "        gender = '' \n",
    "        d[lemma] = {} \n",
    "        \n",
    "        if entry.get('key') == lemma: \n",
    "            print('match')\n",
    "            if entry.find('itype') is not None: \n",
    "                print(f'{lemma} {entry.find(\"itype\").text}') \n",
    "            if entry.find('gen') is not None: \n",
    "                print(entry.find('gen').text)\n",
    "            for sense in entry.findall('sense')[:4]:\n",
    "                print(sense.get('level'))\n",
    "                if sense.get(\"level\") in ['1', '2']:\n",
    "                    for tr in sense.findall('hi')[:2]:\n",
    "                        print(tr.text)"
   ]
  },
  {
   "cell_type": "code",
   "execution_count": 178,
   "metadata": {},
   "outputs": [
    {
     "name": "stderr",
     "output_type": "stream",
     "text": [
      "100%|██████████| 51596/51596 [00:00<00:00, 759456.15it/s]"
     ]
    },
    {
     "name": "stdout",
     "output_type": "stream",
     "text": [
      "match\n",
      "abdico1 āvi, ātum, 1\n",
      "1\n",
      "to indicate, announce\n",
      "not belonging\n",
      "1\n",
      "to deny, disown, refuse, reject\n",
      "inf.\n",
      "1\n",
      "2\n",
      "to renounce\n",
      "to disinherit\n"
     ]
    },
    {
     "name": "stderr",
     "output_type": "stream",
     "text": [
      "\n"
     ]
    }
   ],
   "source": [
    "lookup_word('abdico')"
   ]
  },
  {
   "cell_type": "code",
   "execution_count": 304,
   "metadata": {},
   "outputs": [],
   "source": [
    "words = list(set(reader.words()))\n",
    "words = [w.lower() for w in words if w != '']\n",
    "dictionary = {}\n",
    "# lemmatize\n",
    "\n",
    "final = []\n",
    "count = 0\n",
    "for w in tqdm(words): \n",
    "    root = lemmatizer.lemmatize([w])\n",
    "    if len(root) > 1:\n",
    "        print('long entry')\n",
    "    dictionary[root[0][1]] = {} \n",
    "    dictionary[root[0][1]]['token']  = root[0][0]\n",
    "    dictionary[root[0][1]]['lemma'] = root[0][1]\n",
    "\n",
    "\n",
    "test = random.sample(list(dictionary.keys()), k = 10)"
   ]
  },
  {
   "cell_type": "code",
   "execution_count": 317,
   "metadata": {},
   "outputs": [
    {
     "name": "stderr",
     "output_type": "stream",
     "text": [
      "100%|██████████| 8167/8167 [14:11<00:00,  9.60it/s]\n"
     ]
    }
   ],
   "source": [
    "count = 0\n",
    "tree = ET.parse(path)\n",
    "entries = tree.xpath('//entryFree')\n",
    "d = {}\n",
    "for word in tqdm(dictionary.keys()): \n",
    "    senses = []\n",
    "    endings = []\n",
    "    quotes = []\n",
    "    gender = ''\n",
    "    for entry in entries: \n",
    "        d[word] = {}\n",
    "        if entry.get('type') != 'main': \n",
    "            pass\n",
    "        if entry.get('key') == word: \n",
    "            if entry.find('itype') is not None:\n",
    "                endings.append(entry.find('itype').text)\n",
    "            if entry.find('gen') is not None: \n",
    "                gender = entry.find('gen').text\n",
    "            for sense in entry.findall('sense'):\n",
    "                count = 0\n",
    "#                 print(sense.get('n'), sense.get('level'))\n",
    "                for hi in sense.findall('hi'):\n",
    "                    if hi.text is not None:\n",
    "                        senses.append(f'Sense {sense.get(\"n\")}: {hi.text}')\n",
    "                        count += 1\n",
    "                    if count == 5: \n",
    "                        continue\n",
    "                for cit in sense.findall('cit'):\n",
    "                    count = 0\n",
    "                    for quote in cit.findall('quote'):\n",
    "                        if quote.text is not None:\n",
    "                            quotes.append(f'Sense {sense.get(\"n\")}: {quote.text}') \n",
    "        d[word]['senses']= \"<br>\".join(senses)\n",
    "        d[word]['endings'] = ' -'.join(endings)\n",
    "        d[word]['gender'] = gender\n",
    "        d[word]['sentences'] = '<br>'.join(quotes)"
   ]
  },
  {
   "cell_type": "code",
   "execution_count": 318,
   "metadata": {},
   "outputs": [],
   "source": [
    "eligible = count_df[(count_df['cumsum'] > .8) & (count_df['token_count'] >=2)]\n",
    "\n",
    "elig = list(eligible.lemma)\n",
    "\n",
    "delete = [k for k in d.keys() if k not in elig]\n",
    "    \n",
    "\n"
   ]
  },
  {
   "cell_type": "markdown",
   "metadata": {},
   "source": [
    "## Now print layout"
   ]
  },
  {
   "cell_type": "code",
   "execution_count": null,
   "metadata": {},
   "outputs": [],
   "source": []
  }
 ],
 "metadata": {
  "kernelspec": {
   "display_name": "py3_7_6",
   "language": "python",
   "name": "py3_7_6"
  },
  "language_info": {
   "codemirror_mode": {
    "name": "ipython",
    "version": 3
   },
   "file_extension": ".py",
   "mimetype": "text/x-python",
   "name": "python",
   "nbconvert_exporter": "python",
   "pygments_lexer": "ipython3",
   "version": "3.7.6"
  }
 },
 "nbformat": 4,
 "nbformat_minor": 4
}
