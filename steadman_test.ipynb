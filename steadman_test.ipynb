{
 "cells": [
  {
   "cell_type": "code",
   "execution_count": 234,
   "metadata": {},
   "outputs": [
    {
     "name": "stdout",
     "output_type": "stream",
     "text": [
      "The autoreload extension is already loaded. To reload it, use:\n",
      "  %reload_ext autoreload\n"
     ]
    }
   ],
   "source": [
    "%load_ext autoreload\n",
    "%autoreload 2\n",
    "\n",
    "import time\n",
    "from steadman import lookup_word\n",
    "import steadman\n",
    "\n",
    "# instantiate class\n",
    "steadman = steadman.PharrBuilder('latin_text_latin_library')\n",
    "\n",
    "# steadman.corpus_name\n",
    "\n",
    "steadman.choose_corpus('latin_text_latin_library')\n",
    "\n",
    "#steadman.get_texts('')\n",
    "\n",
    "# soup_3 = steadman.soup\n",
    "\n",
    "#steadman.paras"
   ]
  },
  {
   "cell_type": "code",
   "execution_count": 236,
   "metadata": {},
   "outputs": [],
   "source": [
    "cat = steadman.catalog"
   ]
  },
  {
   "cell_type": "code",
   "execution_count": 241,
   "metadata": {},
   "outputs": [
    {
     "data": {
      "text/html": [
       "<div>\n",
       "<style scoped>\n",
       "    .dataframe tbody tr th:only-of-type {\n",
       "        vertical-align: middle;\n",
       "    }\n",
       "\n",
       "    .dataframe tbody tr th {\n",
       "        vertical-align: top;\n",
       "    }\n",
       "\n",
       "    .dataframe thead th {\n",
       "        text-align: right;\n",
       "    }\n",
       "</style>\n",
       "<table border=\"1\" class=\"dataframe\">\n",
       "  <thead>\n",
       "    <tr style=\"text-align: right;\">\n",
       "      <th></th>\n",
       "      <th>source</th>\n",
       "      <th>author</th>\n",
       "      <th>title</th>\n",
       "    </tr>\n",
       "  </thead>\n",
       "  <tbody>\n",
       "    <tr>\n",
       "      <th>133</th>\n",
       "      <td>ovid__amores__latin.json</td>\n",
       "      <td>ovid</td>\n",
       "      <td>amores</td>\n",
       "    </tr>\n",
       "    <tr>\n",
       "      <th>134</th>\n",
       "      <td>ovid__art-of-beauty__latin.json</td>\n",
       "      <td>ovid</td>\n",
       "      <td>art-of-beauty</td>\n",
       "    </tr>\n",
       "    <tr>\n",
       "      <th>135</th>\n",
       "      <td>ovid__art-of-love__latin.json</td>\n",
       "      <td>ovid</td>\n",
       "      <td>art-of-love</td>\n",
       "    </tr>\n",
       "    <tr>\n",
       "      <th>136</th>\n",
       "      <td>ovid__book-of-days__latin.json</td>\n",
       "      <td>ovid</td>\n",
       "      <td>book-of-days</td>\n",
       "    </tr>\n",
       "    <tr>\n",
       "      <th>137</th>\n",
       "      <td>ovid__epistulae__latin.json</td>\n",
       "      <td>ovid</td>\n",
       "      <td>epistulae</td>\n",
       "    </tr>\n",
       "    <tr>\n",
       "      <th>138</th>\n",
       "      <td>ovid__ibis__latin.json</td>\n",
       "      <td>ovid</td>\n",
       "      <td>ibis</td>\n",
       "    </tr>\n",
       "    <tr>\n",
       "      <th>139</th>\n",
       "      <td>ovid__letters-from-the-black-sea__latin.json</td>\n",
       "      <td>ovid</td>\n",
       "      <td>letters-from-the-black-sea</td>\n",
       "    </tr>\n",
       "    <tr>\n",
       "      <th>140</th>\n",
       "      <td>ovid__metamorphoses__latin.json</td>\n",
       "      <td>ovid</td>\n",
       "      <td>metamorphoses</td>\n",
       "    </tr>\n",
       "    <tr>\n",
       "      <th>141</th>\n",
       "      <td>ovid__remedy-of-love__latin.json</td>\n",
       "      <td>ovid</td>\n",
       "      <td>remedy-of-love</td>\n",
       "    </tr>\n",
       "    <tr>\n",
       "      <th>142</th>\n",
       "      <td>ovid__sorrows__latin.json</td>\n",
       "      <td>ovid</td>\n",
       "      <td>sorrows</td>\n",
       "    </tr>\n",
       "    <tr>\n",
       "      <th>1708</th>\n",
       "      <td>ovid/ovid.amor1.txt</td>\n",
       "      <td>ovid</td>\n",
       "      <td>ovid.amor1</td>\n",
       "    </tr>\n",
       "    <tr>\n",
       "      <th>1709</th>\n",
       "      <td>ovid/ovid.amor2.txt</td>\n",
       "      <td>ovid</td>\n",
       "      <td>ovid.amor2</td>\n",
       "    </tr>\n",
       "    <tr>\n",
       "      <th>1710</th>\n",
       "      <td>ovid/ovid.amor3.txt</td>\n",
       "      <td>ovid</td>\n",
       "      <td>ovid.amor3</td>\n",
       "    </tr>\n",
       "    <tr>\n",
       "      <th>1711</th>\n",
       "      <td>ovid/ovid.artis1.txt</td>\n",
       "      <td>ovid</td>\n",
       "      <td>ovid.artis1</td>\n",
       "    </tr>\n",
       "    <tr>\n",
       "      <th>1712</th>\n",
       "      <td>ovid/ovid.artis2.txt</td>\n",
       "      <td>ovid</td>\n",
       "      <td>ovid.artis2</td>\n",
       "    </tr>\n",
       "    <tr>\n",
       "      <th>1713</th>\n",
       "      <td>ovid/ovid.artis3.txt</td>\n",
       "      <td>ovid</td>\n",
       "      <td>ovid.artis3</td>\n",
       "    </tr>\n",
       "    <tr>\n",
       "      <th>1714</th>\n",
       "      <td>ovid/ovid.fasti1.txt</td>\n",
       "      <td>ovid</td>\n",
       "      <td>ovid.fasti1</td>\n",
       "    </tr>\n",
       "    <tr>\n",
       "      <th>1715</th>\n",
       "      <td>ovid/ovid.fasti2.txt</td>\n",
       "      <td>ovid</td>\n",
       "      <td>ovid.fasti2</td>\n",
       "    </tr>\n",
       "    <tr>\n",
       "      <th>1716</th>\n",
       "      <td>ovid/ovid.fasti3.txt</td>\n",
       "      <td>ovid</td>\n",
       "      <td>ovid.fasti3</td>\n",
       "    </tr>\n",
       "    <tr>\n",
       "      <th>1717</th>\n",
       "      <td>ovid/ovid.fasti4.txt</td>\n",
       "      <td>ovid</td>\n",
       "      <td>ovid.fasti4</td>\n",
       "    </tr>\n",
       "    <tr>\n",
       "      <th>1718</th>\n",
       "      <td>ovid/ovid.fasti5.txt</td>\n",
       "      <td>ovid</td>\n",
       "      <td>ovid.fasti5</td>\n",
       "    </tr>\n",
       "    <tr>\n",
       "      <th>1719</th>\n",
       "      <td>ovid/ovid.fasti6.txt</td>\n",
       "      <td>ovid</td>\n",
       "      <td>ovid.fasti6</td>\n",
       "    </tr>\n",
       "    <tr>\n",
       "      <th>1720</th>\n",
       "      <td>ovid/ovid.her1.txt</td>\n",
       "      <td>ovid</td>\n",
       "      <td>ovid.her1</td>\n",
       "    </tr>\n",
       "    <tr>\n",
       "      <th>1721</th>\n",
       "      <td>ovid/ovid.her10.txt</td>\n",
       "      <td>ovid</td>\n",
       "      <td>ovid.her10</td>\n",
       "    </tr>\n",
       "    <tr>\n",
       "      <th>1722</th>\n",
       "      <td>ovid/ovid.her11.txt</td>\n",
       "      <td>ovid</td>\n",
       "      <td>ovid.her11</td>\n",
       "    </tr>\n",
       "    <tr>\n",
       "      <th>1723</th>\n",
       "      <td>ovid/ovid.her12.txt</td>\n",
       "      <td>ovid</td>\n",
       "      <td>ovid.her12</td>\n",
       "    </tr>\n",
       "    <tr>\n",
       "      <th>1724</th>\n",
       "      <td>ovid/ovid.her13.txt</td>\n",
       "      <td>ovid</td>\n",
       "      <td>ovid.her13</td>\n",
       "    </tr>\n",
       "    <tr>\n",
       "      <th>1725</th>\n",
       "      <td>ovid/ovid.her14.txt</td>\n",
       "      <td>ovid</td>\n",
       "      <td>ovid.her14</td>\n",
       "    </tr>\n",
       "    <tr>\n",
       "      <th>1726</th>\n",
       "      <td>ovid/ovid.her15.txt</td>\n",
       "      <td>ovid</td>\n",
       "      <td>ovid.her15</td>\n",
       "    </tr>\n",
       "    <tr>\n",
       "      <th>1727</th>\n",
       "      <td>ovid/ovid.her16.txt</td>\n",
       "      <td>ovid</td>\n",
       "      <td>ovid.her16</td>\n",
       "    </tr>\n",
       "    <tr>\n",
       "      <th>1728</th>\n",
       "      <td>ovid/ovid.her17.txt</td>\n",
       "      <td>ovid</td>\n",
       "      <td>ovid.her17</td>\n",
       "    </tr>\n",
       "    <tr>\n",
       "      <th>1729</th>\n",
       "      <td>ovid/ovid.her18.txt</td>\n",
       "      <td>ovid</td>\n",
       "      <td>ovid.her18</td>\n",
       "    </tr>\n",
       "    <tr>\n",
       "      <th>1730</th>\n",
       "      <td>ovid/ovid.her19.txt</td>\n",
       "      <td>ovid</td>\n",
       "      <td>ovid.her19</td>\n",
       "    </tr>\n",
       "    <tr>\n",
       "      <th>1731</th>\n",
       "      <td>ovid/ovid.her2.txt</td>\n",
       "      <td>ovid</td>\n",
       "      <td>ovid.her2</td>\n",
       "    </tr>\n",
       "    <tr>\n",
       "      <th>1732</th>\n",
       "      <td>ovid/ovid.her20.txt</td>\n",
       "      <td>ovid</td>\n",
       "      <td>ovid.her20</td>\n",
       "    </tr>\n",
       "    <tr>\n",
       "      <th>1733</th>\n",
       "      <td>ovid/ovid.her21.txt</td>\n",
       "      <td>ovid</td>\n",
       "      <td>ovid.her21</td>\n",
       "    </tr>\n",
       "    <tr>\n",
       "      <th>1734</th>\n",
       "      <td>ovid/ovid.her3.txt</td>\n",
       "      <td>ovid</td>\n",
       "      <td>ovid.her3</td>\n",
       "    </tr>\n",
       "    <tr>\n",
       "      <th>1735</th>\n",
       "      <td>ovid/ovid.her4.txt</td>\n",
       "      <td>ovid</td>\n",
       "      <td>ovid.her4</td>\n",
       "    </tr>\n",
       "    <tr>\n",
       "      <th>1736</th>\n",
       "      <td>ovid/ovid.her5.txt</td>\n",
       "      <td>ovid</td>\n",
       "      <td>ovid.her5</td>\n",
       "    </tr>\n",
       "    <tr>\n",
       "      <th>1737</th>\n",
       "      <td>ovid/ovid.her6.txt</td>\n",
       "      <td>ovid</td>\n",
       "      <td>ovid.her6</td>\n",
       "    </tr>\n",
       "    <tr>\n",
       "      <th>1738</th>\n",
       "      <td>ovid/ovid.her7.txt</td>\n",
       "      <td>ovid</td>\n",
       "      <td>ovid.her7</td>\n",
       "    </tr>\n",
       "    <tr>\n",
       "      <th>1739</th>\n",
       "      <td>ovid/ovid.her8.txt</td>\n",
       "      <td>ovid</td>\n",
       "      <td>ovid.her8</td>\n",
       "    </tr>\n",
       "    <tr>\n",
       "      <th>1740</th>\n",
       "      <td>ovid/ovid.her9.txt</td>\n",
       "      <td>ovid</td>\n",
       "      <td>ovid.her9</td>\n",
       "    </tr>\n",
       "    <tr>\n",
       "      <th>1741</th>\n",
       "      <td>ovid/ovid.ibis.txt</td>\n",
       "      <td>ovid</td>\n",
       "      <td>ovid.ibis</td>\n",
       "    </tr>\n",
       "    <tr>\n",
       "      <th>1742</th>\n",
       "      <td>ovid/ovid.met1.txt</td>\n",
       "      <td>ovid</td>\n",
       "      <td>ovid.met1</td>\n",
       "    </tr>\n",
       "    <tr>\n",
       "      <th>1743</th>\n",
       "      <td>ovid/ovid.met10.txt</td>\n",
       "      <td>ovid</td>\n",
       "      <td>ovid.met10</td>\n",
       "    </tr>\n",
       "    <tr>\n",
       "      <th>1744</th>\n",
       "      <td>ovid/ovid.met11.txt</td>\n",
       "      <td>ovid</td>\n",
       "      <td>ovid.met11</td>\n",
       "    </tr>\n",
       "    <tr>\n",
       "      <th>1745</th>\n",
       "      <td>ovid/ovid.met12.txt</td>\n",
       "      <td>ovid</td>\n",
       "      <td>ovid.met12</td>\n",
       "    </tr>\n",
       "    <tr>\n",
       "      <th>1746</th>\n",
       "      <td>ovid/ovid.met13.txt</td>\n",
       "      <td>ovid</td>\n",
       "      <td>ovid.met13</td>\n",
       "    </tr>\n",
       "    <tr>\n",
       "      <th>1747</th>\n",
       "      <td>ovid/ovid.met14.txt</td>\n",
       "      <td>ovid</td>\n",
       "      <td>ovid.met14</td>\n",
       "    </tr>\n",
       "    <tr>\n",
       "      <th>1748</th>\n",
       "      <td>ovid/ovid.met15.txt</td>\n",
       "      <td>ovid</td>\n",
       "      <td>ovid.met15</td>\n",
       "    </tr>\n",
       "    <tr>\n",
       "      <th>1749</th>\n",
       "      <td>ovid/ovid.met2.txt</td>\n",
       "      <td>ovid</td>\n",
       "      <td>ovid.met2</td>\n",
       "    </tr>\n",
       "    <tr>\n",
       "      <th>1750</th>\n",
       "      <td>ovid/ovid.met3.txt</td>\n",
       "      <td>ovid</td>\n",
       "      <td>ovid.met3</td>\n",
       "    </tr>\n",
       "    <tr>\n",
       "      <th>1751</th>\n",
       "      <td>ovid/ovid.met4.txt</td>\n",
       "      <td>ovid</td>\n",
       "      <td>ovid.met4</td>\n",
       "    </tr>\n",
       "    <tr>\n",
       "      <th>1752</th>\n",
       "      <td>ovid/ovid.met5.txt</td>\n",
       "      <td>ovid</td>\n",
       "      <td>ovid.met5</td>\n",
       "    </tr>\n",
       "    <tr>\n",
       "      <th>1753</th>\n",
       "      <td>ovid/ovid.met6.txt</td>\n",
       "      <td>ovid</td>\n",
       "      <td>ovid.met6</td>\n",
       "    </tr>\n",
       "    <tr>\n",
       "      <th>1754</th>\n",
       "      <td>ovid/ovid.met7.txt</td>\n",
       "      <td>ovid</td>\n",
       "      <td>ovid.met7</td>\n",
       "    </tr>\n",
       "    <tr>\n",
       "      <th>1755</th>\n",
       "      <td>ovid/ovid.met8.txt</td>\n",
       "      <td>ovid</td>\n",
       "      <td>ovid.met8</td>\n",
       "    </tr>\n",
       "    <tr>\n",
       "      <th>1756</th>\n",
       "      <td>ovid/ovid.met9.txt</td>\n",
       "      <td>ovid</td>\n",
       "      <td>ovid.met9</td>\n",
       "    </tr>\n",
       "    <tr>\n",
       "      <th>1757</th>\n",
       "      <td>ovid/ovid.ponto1.txt</td>\n",
       "      <td>ovid</td>\n",
       "      <td>ovid.ponto1</td>\n",
       "    </tr>\n",
       "    <tr>\n",
       "      <th>1758</th>\n",
       "      <td>ovid/ovid.ponto2.txt</td>\n",
       "      <td>ovid</td>\n",
       "      <td>ovid.ponto2</td>\n",
       "    </tr>\n",
       "    <tr>\n",
       "      <th>1759</th>\n",
       "      <td>ovid/ovid.ponto3.txt</td>\n",
       "      <td>ovid</td>\n",
       "      <td>ovid.ponto3</td>\n",
       "    </tr>\n",
       "    <tr>\n",
       "      <th>1760</th>\n",
       "      <td>ovid/ovid.ponto4.txt</td>\n",
       "      <td>ovid</td>\n",
       "      <td>ovid.ponto4</td>\n",
       "    </tr>\n",
       "    <tr>\n",
       "      <th>1761</th>\n",
       "      <td>ovid/ovid.rem.txt</td>\n",
       "      <td>ovid</td>\n",
       "      <td>ovid.rem</td>\n",
       "    </tr>\n",
       "    <tr>\n",
       "      <th>1762</th>\n",
       "      <td>ovid/ovid.tristia1.txt</td>\n",
       "      <td>ovid</td>\n",
       "      <td>ovid.tristia1</td>\n",
       "    </tr>\n",
       "    <tr>\n",
       "      <th>1763</th>\n",
       "      <td>ovid/ovid.tristia2.txt</td>\n",
       "      <td>ovid</td>\n",
       "      <td>ovid.tristia2</td>\n",
       "    </tr>\n",
       "    <tr>\n",
       "      <th>1764</th>\n",
       "      <td>ovid/ovid.tristia3.txt</td>\n",
       "      <td>ovid</td>\n",
       "      <td>ovid.tristia3</td>\n",
       "    </tr>\n",
       "    <tr>\n",
       "      <th>1765</th>\n",
       "      <td>ovid/ovid.tristia4.txt</td>\n",
       "      <td>ovid</td>\n",
       "      <td>ovid.tristia4</td>\n",
       "    </tr>\n",
       "    <tr>\n",
       "      <th>1766</th>\n",
       "      <td>ovid/ovid.tristia5.txt</td>\n",
       "      <td>ovid</td>\n",
       "      <td>ovid.tristia5</td>\n",
       "    </tr>\n",
       "  </tbody>\n",
       "</table>\n",
       "</div>"
      ],
      "text/plain": [
       "                                            source author  \\\n",
       "133                       ovid__amores__latin.json   ovid   \n",
       "134                ovid__art-of-beauty__latin.json   ovid   \n",
       "135                  ovid__art-of-love__latin.json   ovid   \n",
       "136                 ovid__book-of-days__latin.json   ovid   \n",
       "137                    ovid__epistulae__latin.json   ovid   \n",
       "138                         ovid__ibis__latin.json   ovid   \n",
       "139   ovid__letters-from-the-black-sea__latin.json   ovid   \n",
       "140                ovid__metamorphoses__latin.json   ovid   \n",
       "141               ovid__remedy-of-love__latin.json   ovid   \n",
       "142                      ovid__sorrows__latin.json   ovid   \n",
       "1708                           ovid/ovid.amor1.txt   ovid   \n",
       "1709                           ovid/ovid.amor2.txt   ovid   \n",
       "1710                           ovid/ovid.amor3.txt   ovid   \n",
       "1711                          ovid/ovid.artis1.txt   ovid   \n",
       "1712                          ovid/ovid.artis2.txt   ovid   \n",
       "1713                          ovid/ovid.artis3.txt   ovid   \n",
       "1714                          ovid/ovid.fasti1.txt   ovid   \n",
       "1715                          ovid/ovid.fasti2.txt   ovid   \n",
       "1716                          ovid/ovid.fasti3.txt   ovid   \n",
       "1717                          ovid/ovid.fasti4.txt   ovid   \n",
       "1718                          ovid/ovid.fasti5.txt   ovid   \n",
       "1719                          ovid/ovid.fasti6.txt   ovid   \n",
       "1720                            ovid/ovid.her1.txt   ovid   \n",
       "1721                           ovid/ovid.her10.txt   ovid   \n",
       "1722                           ovid/ovid.her11.txt   ovid   \n",
       "1723                           ovid/ovid.her12.txt   ovid   \n",
       "1724                           ovid/ovid.her13.txt   ovid   \n",
       "1725                           ovid/ovid.her14.txt   ovid   \n",
       "1726                           ovid/ovid.her15.txt   ovid   \n",
       "1727                           ovid/ovid.her16.txt   ovid   \n",
       "1728                           ovid/ovid.her17.txt   ovid   \n",
       "1729                           ovid/ovid.her18.txt   ovid   \n",
       "1730                           ovid/ovid.her19.txt   ovid   \n",
       "1731                            ovid/ovid.her2.txt   ovid   \n",
       "1732                           ovid/ovid.her20.txt   ovid   \n",
       "1733                           ovid/ovid.her21.txt   ovid   \n",
       "1734                            ovid/ovid.her3.txt   ovid   \n",
       "1735                            ovid/ovid.her4.txt   ovid   \n",
       "1736                            ovid/ovid.her5.txt   ovid   \n",
       "1737                            ovid/ovid.her6.txt   ovid   \n",
       "1738                            ovid/ovid.her7.txt   ovid   \n",
       "1739                            ovid/ovid.her8.txt   ovid   \n",
       "1740                            ovid/ovid.her9.txt   ovid   \n",
       "1741                            ovid/ovid.ibis.txt   ovid   \n",
       "1742                            ovid/ovid.met1.txt   ovid   \n",
       "1743                           ovid/ovid.met10.txt   ovid   \n",
       "1744                           ovid/ovid.met11.txt   ovid   \n",
       "1745                           ovid/ovid.met12.txt   ovid   \n",
       "1746                           ovid/ovid.met13.txt   ovid   \n",
       "1747                           ovid/ovid.met14.txt   ovid   \n",
       "1748                           ovid/ovid.met15.txt   ovid   \n",
       "1749                            ovid/ovid.met2.txt   ovid   \n",
       "1750                            ovid/ovid.met3.txt   ovid   \n",
       "1751                            ovid/ovid.met4.txt   ovid   \n",
       "1752                            ovid/ovid.met5.txt   ovid   \n",
       "1753                            ovid/ovid.met6.txt   ovid   \n",
       "1754                            ovid/ovid.met7.txt   ovid   \n",
       "1755                            ovid/ovid.met8.txt   ovid   \n",
       "1756                            ovid/ovid.met9.txt   ovid   \n",
       "1757                          ovid/ovid.ponto1.txt   ovid   \n",
       "1758                          ovid/ovid.ponto2.txt   ovid   \n",
       "1759                          ovid/ovid.ponto3.txt   ovid   \n",
       "1760                          ovid/ovid.ponto4.txt   ovid   \n",
       "1761                             ovid/ovid.rem.txt   ovid   \n",
       "1762                        ovid/ovid.tristia1.txt   ovid   \n",
       "1763                        ovid/ovid.tristia2.txt   ovid   \n",
       "1764                        ovid/ovid.tristia3.txt   ovid   \n",
       "1765                        ovid/ovid.tristia4.txt   ovid   \n",
       "1766                        ovid/ovid.tristia5.txt   ovid   \n",
       "\n",
       "                           title  \n",
       "133                       amores  \n",
       "134                art-of-beauty  \n",
       "135                  art-of-love  \n",
       "136                 book-of-days  \n",
       "137                    epistulae  \n",
       "138                         ibis  \n",
       "139   letters-from-the-black-sea  \n",
       "140                metamorphoses  \n",
       "141               remedy-of-love  \n",
       "142                      sorrows  \n",
       "1708                  ovid.amor1  \n",
       "1709                  ovid.amor2  \n",
       "1710                  ovid.amor3  \n",
       "1711                 ovid.artis1  \n",
       "1712                 ovid.artis2  \n",
       "1713                 ovid.artis3  \n",
       "1714                 ovid.fasti1  \n",
       "1715                 ovid.fasti2  \n",
       "1716                 ovid.fasti3  \n",
       "1717                 ovid.fasti4  \n",
       "1718                 ovid.fasti5  \n",
       "1719                 ovid.fasti6  \n",
       "1720                   ovid.her1  \n",
       "1721                  ovid.her10  \n",
       "1722                  ovid.her11  \n",
       "1723                  ovid.her12  \n",
       "1724                  ovid.her13  \n",
       "1725                  ovid.her14  \n",
       "1726                  ovid.her15  \n",
       "1727                  ovid.her16  \n",
       "1728                  ovid.her17  \n",
       "1729                  ovid.her18  \n",
       "1730                  ovid.her19  \n",
       "1731                   ovid.her2  \n",
       "1732                  ovid.her20  \n",
       "1733                  ovid.her21  \n",
       "1734                   ovid.her3  \n",
       "1735                   ovid.her4  \n",
       "1736                   ovid.her5  \n",
       "1737                   ovid.her6  \n",
       "1738                   ovid.her7  \n",
       "1739                   ovid.her8  \n",
       "1740                   ovid.her9  \n",
       "1741                   ovid.ibis  \n",
       "1742                   ovid.met1  \n",
       "1743                  ovid.met10  \n",
       "1744                  ovid.met11  \n",
       "1745                  ovid.met12  \n",
       "1746                  ovid.met13  \n",
       "1747                  ovid.met14  \n",
       "1748                  ovid.met15  \n",
       "1749                   ovid.met2  \n",
       "1750                   ovid.met3  \n",
       "1751                   ovid.met4  \n",
       "1752                   ovid.met5  \n",
       "1753                   ovid.met6  \n",
       "1754                   ovid.met7  \n",
       "1755                   ovid.met8  \n",
       "1756                   ovid.met9  \n",
       "1757                 ovid.ponto1  \n",
       "1758                 ovid.ponto2  \n",
       "1759                 ovid.ponto3  \n",
       "1760                 ovid.ponto4  \n",
       "1761                    ovid.rem  \n",
       "1762               ovid.tristia1  \n",
       "1763               ovid.tristia2  \n",
       "1764               ovid.tristia3  \n",
       "1765               ovid.tristia4  \n",
       "1766               ovid.tristia5  "
      ]
     },
     "execution_count": 241,
     "metadata": {},
     "output_type": "execute_result"
    }
   ],
   "source": [
    "import pandas as pd\n",
    "pd.options.display.max_rows = 100\n",
    "cat[cat['author'].str.contains('ovid')]"
   ]
  },
  {
   "cell_type": "code",
   "execution_count": 242,
   "metadata": {},
   "outputs": [],
   "source": [
    "steadman.get_texts('ovid/ovid.amor1.txt')"
   ]
  },
  {
   "cell_type": "code",
   "execution_count": 243,
   "metadata": {},
   "outputs": [
    {
     "name": "stderr",
     "output_type": "stream",
     "text": [
      "  0%|          | 0/42 [00:00<?, ?it/s]"
     ]
    },
    {
     "name": "stdout",
     "output_type": "stream",
     "text": [
      "generating document from entire text...\n"
     ]
    },
    {
     "name": "stderr",
     "output_type": "stream",
     "text": [
      "  2%|▏         | 1/42 [00:13<09:06, 13.34s/it]"
     ]
    },
    {
     "name": "stdout",
     "output_type": "stream",
     "text": [
      "looked up 75 words\n"
     ]
    },
    {
     "name": "stderr",
     "output_type": "stream",
     "text": [
      "  5%|▍         | 2/42 [00:32<09:57, 14.94s/it]"
     ]
    },
    {
     "name": "stdout",
     "output_type": "stream",
     "text": [
      "looked up 109 words\n"
     ]
    },
    {
     "name": "stderr",
     "output_type": "stream",
     "text": [
      "  7%|▋         | 3/42 [00:49<10:14, 15.75s/it]"
     ]
    },
    {
     "name": "stdout",
     "output_type": "stream",
     "text": [
      "looked up 96 words\n"
     ]
    },
    {
     "name": "stderr",
     "output_type": "stream",
     "text": [
      " 10%|▉         | 4/42 [01:10<10:52, 17.17s/it]"
     ]
    },
    {
     "name": "stdout",
     "output_type": "stream",
     "text": [
      "looked up 112 words\n"
     ]
    },
    {
     "name": "stderr",
     "output_type": "stream",
     "text": [
      " 12%|█▏        | 5/42 [01:27<10:32, 17.09s/it]"
     ]
    },
    {
     "name": "stdout",
     "output_type": "stream",
     "text": [
      "looked up 94 words\n"
     ]
    },
    {
     "name": "stderr",
     "output_type": "stream",
     "text": [
      " 14%|█▍        | 6/42 [01:44<10:23, 17.32s/it]"
     ]
    },
    {
     "name": "stdout",
     "output_type": "stream",
     "text": [
      "looked up 111 words\n"
     ]
    },
    {
     "name": "stderr",
     "output_type": "stream",
     "text": [
      " 17%|█▋        | 7/42 [01:58<09:32, 16.36s/it]"
     ]
    },
    {
     "name": "stdout",
     "output_type": "stream",
     "text": [
      "looked up 104 words\n"
     ]
    },
    {
     "name": "stderr",
     "output_type": "stream",
     "text": [
      " 19%|█▉        | 8/42 [02:13<08:59, 15.88s/it]"
     ]
    },
    {
     "name": "stdout",
     "output_type": "stream",
     "text": [
      "looked up 105 words\n"
     ]
    },
    {
     "name": "stderr",
     "output_type": "stream",
     "text": [
      " 21%|██▏       | 9/42 [02:31<09:04, 16.50s/it]"
     ]
    },
    {
     "name": "stdout",
     "output_type": "stream",
     "text": [
      "looked up 110 words\n"
     ]
    },
    {
     "name": "stderr",
     "output_type": "stream",
     "text": [
      " 24%|██▍       | 10/42 [02:49<08:57, 16.79s/it]"
     ]
    },
    {
     "name": "stdout",
     "output_type": "stream",
     "text": [
      "looked up 110 words\n"
     ]
    },
    {
     "name": "stderr",
     "output_type": "stream",
     "text": [
      " 26%|██▌       | 11/42 [03:06<08:47, 17.03s/it]"
     ]
    },
    {
     "name": "stdout",
     "output_type": "stream",
     "text": [
      "looked up 97 words\n"
     ]
    },
    {
     "name": "stderr",
     "output_type": "stream",
     "text": [
      " 29%|██▊       | 12/42 [03:24<08:35, 17.18s/it]"
     ]
    },
    {
     "name": "stdout",
     "output_type": "stream",
     "text": [
      "looked up 82 words\n"
     ]
    },
    {
     "name": "stderr",
     "output_type": "stream",
     "text": [
      " 31%|███       | 13/42 [03:43<08:36, 17.83s/it]"
     ]
    },
    {
     "name": "stdout",
     "output_type": "stream",
     "text": [
      "looked up 111 words\n"
     ]
    },
    {
     "name": "stderr",
     "output_type": "stream",
     "text": [
      " 33%|███▎      | 14/42 [03:59<08:02, 17.25s/it]"
     ]
    },
    {
     "name": "stdout",
     "output_type": "stream",
     "text": [
      "looked up 104 words\n"
     ]
    },
    {
     "name": "stderr",
     "output_type": "stream",
     "text": [
      " 36%|███▌      | 15/42 [04:19<08:10, 18.15s/it]"
     ]
    },
    {
     "name": "stdout",
     "output_type": "stream",
     "text": [
      "looked up 110 words\n"
     ]
    },
    {
     "name": "stderr",
     "output_type": "stream",
     "text": [
      " 38%|███▊      | 16/42 [04:38<08:00, 18.47s/it]"
     ]
    },
    {
     "name": "stdout",
     "output_type": "stream",
     "text": [
      "looked up 92 words\n"
     ]
    },
    {
     "name": "stderr",
     "output_type": "stream",
     "text": [
      " 40%|████      | 17/42 [04:55<07:26, 17.86s/it]"
     ]
    },
    {
     "name": "stdout",
     "output_type": "stream",
     "text": [
      "looked up 107 words\n"
     ]
    },
    {
     "name": "stderr",
     "output_type": "stream",
     "text": [
      " 43%|████▎     | 18/42 [05:22<08:12, 20.54s/it]"
     ]
    },
    {
     "name": "stdout",
     "output_type": "stream",
     "text": [
      "looked up 111 words\n"
     ]
    },
    {
     "name": "stderr",
     "output_type": "stream",
     "text": [
      " 45%|████▌     | 19/42 [05:46<08:19, 21.73s/it]"
     ]
    },
    {
     "name": "stdout",
     "output_type": "stream",
     "text": [
      "looked up 95 words\n"
     ]
    },
    {
     "name": "stderr",
     "output_type": "stream",
     "text": [
      " 48%|████▊     | 20/42 [06:12<08:24, 22.92s/it]"
     ]
    },
    {
     "name": "stdout",
     "output_type": "stream",
     "text": [
      "looked up 111 words\n"
     ]
    },
    {
     "name": "stderr",
     "output_type": "stream",
     "text": [
      " 50%|█████     | 21/42 [06:33<07:49, 22.33s/it]"
     ]
    },
    {
     "name": "stdout",
     "output_type": "stream",
     "text": [
      "looked up 121 words\n"
     ]
    },
    {
     "name": "stderr",
     "output_type": "stream",
     "text": [
      " 52%|█████▏    | 22/42 [07:02<08:04, 24.24s/it]"
     ]
    },
    {
     "name": "stdout",
     "output_type": "stream",
     "text": [
      "looked up 117 words\n"
     ]
    },
    {
     "name": "stderr",
     "output_type": "stream",
     "text": [
      " 55%|█████▍    | 23/42 [07:25<07:35, 23.97s/it]"
     ]
    },
    {
     "name": "stdout",
     "output_type": "stream",
     "text": [
      "looked up 111 words\n"
     ]
    },
    {
     "name": "stderr",
     "output_type": "stream",
     "text": [
      " 57%|█████▋    | 24/42 [07:45<06:52, 22.92s/it]"
     ]
    },
    {
     "name": "stdout",
     "output_type": "stream",
     "text": [
      "looked up 109 words\n"
     ]
    },
    {
     "name": "stderr",
     "output_type": "stream",
     "text": [
      " 60%|█████▉    | 25/42 [08:02<05:57, 21.03s/it]"
     ]
    },
    {
     "name": "stdout",
     "output_type": "stream",
     "text": [
      "looked up 98 words\n"
     ]
    },
    {
     "name": "stderr",
     "output_type": "stream",
     "text": [
      " 62%|██████▏   | 26/42 [08:22<05:31, 20.70s/it]"
     ]
    },
    {
     "name": "stdout",
     "output_type": "stream",
     "text": [
      "looked up 106 words\n"
     ]
    },
    {
     "name": "stderr",
     "output_type": "stream",
     "text": [
      " 64%|██████▍   | 27/42 [08:41<05:01, 20.07s/it]"
     ]
    },
    {
     "name": "stdout",
     "output_type": "stream",
     "text": [
      "looked up 107 words\n"
     ]
    },
    {
     "name": "stderr",
     "output_type": "stream",
     "text": [
      " 67%|██████▋   | 28/42 [08:55<04:17, 18.36s/it]"
     ]
    },
    {
     "name": "stdout",
     "output_type": "stream",
     "text": [
      "looked up 97 words\n"
     ]
    },
    {
     "name": "stderr",
     "output_type": "stream",
     "text": [
      " 69%|██████▉   | 29/42 [09:16<04:07, 19.06s/it]"
     ]
    },
    {
     "name": "stdout",
     "output_type": "stream",
     "text": [
      "looked up 108 words\n"
     ]
    },
    {
     "name": "stderr",
     "output_type": "stream",
     "text": [
      " 71%|███████▏  | 30/42 [09:40<04:08, 20.68s/it]"
     ]
    },
    {
     "name": "stdout",
     "output_type": "stream",
     "text": [
      "looked up 103 words\n"
     ]
    },
    {
     "name": "stderr",
     "output_type": "stream",
     "text": [
      " 74%|███████▍  | 31/42 [09:58<03:37, 19.81s/it]"
     ]
    },
    {
     "name": "stdout",
     "output_type": "stream",
     "text": [
      "looked up 93 words\n"
     ]
    },
    {
     "name": "stderr",
     "output_type": "stream",
     "text": [
      " 76%|███████▌  | 32/42 [10:23<03:34, 21.41s/it]"
     ]
    },
    {
     "name": "stdout",
     "output_type": "stream",
     "text": [
      "looked up 115 words\n"
     ]
    },
    {
     "name": "stderr",
     "output_type": "stream",
     "text": [
      " 79%|███████▊  | 33/42 [10:42<03:05, 20.56s/it]"
     ]
    },
    {
     "name": "stdout",
     "output_type": "stream",
     "text": [
      "looked up 94 words\n"
     ]
    },
    {
     "name": "stderr",
     "output_type": "stream",
     "text": [
      " 81%|████████  | 34/42 [10:58<02:34, 19.36s/it]"
     ]
    },
    {
     "name": "stdout",
     "output_type": "stream",
     "text": [
      "looked up 94 words\n"
     ]
    },
    {
     "name": "stderr",
     "output_type": "stream",
     "text": [
      " 83%|████████▎ | 35/42 [11:24<02:28, 21.20s/it]"
     ]
    },
    {
     "name": "stdout",
     "output_type": "stream",
     "text": [
      "looked up 100 words\n"
     ]
    },
    {
     "name": "stderr",
     "output_type": "stream",
     "text": [
      " 86%|████████▌ | 36/42 [11:40<01:59, 19.88s/it]"
     ]
    },
    {
     "name": "stdout",
     "output_type": "stream",
     "text": [
      "looked up 114 words\n"
     ]
    },
    {
     "name": "stderr",
     "output_type": "stream",
     "text": [
      " 88%|████████▊ | 37/42 [11:59<01:37, 19.45s/it]"
     ]
    },
    {
     "name": "stdout",
     "output_type": "stream",
     "text": [
      "looked up 99 words\n"
     ]
    },
    {
     "name": "stderr",
     "output_type": "stream",
     "text": [
      " 90%|█████████ | 38/42 [12:20<01:19, 19.85s/it]"
     ]
    },
    {
     "name": "stdout",
     "output_type": "stream",
     "text": [
      "looked up 108 words\n"
     ]
    },
    {
     "name": "stderr",
     "output_type": "stream",
     "text": [
      " 93%|█████████▎| 39/42 [12:40<00:59, 19.87s/it]"
     ]
    },
    {
     "name": "stdout",
     "output_type": "stream",
     "text": [
      "looked up 110 words\n"
     ]
    },
    {
     "name": "stderr",
     "output_type": "stream",
     "text": [
      " 95%|█████████▌| 40/42 [12:58<00:38, 19.39s/it]"
     ]
    },
    {
     "name": "stdout",
     "output_type": "stream",
     "text": [
      "looked up 83 words\n"
     ]
    },
    {
     "name": "stderr",
     "output_type": "stream",
     "text": [
      " 98%|█████████▊| 41/42 [13:16<00:19, 19.09s/it]"
     ]
    },
    {
     "name": "stdout",
     "output_type": "stream",
     "text": [
      "looked up 98 words\n"
     ]
    },
    {
     "name": "stderr",
     "output_type": "stream",
     "text": [
      "100%|██████████| 42/42 [13:24<00:00, 19.16s/it]"
     ]
    },
    {
     "name": "stdout",
     "output_type": "stream",
     "text": [
      "looked up 53 words\n",
      "CPU times: user 13min 7s, sys: 4.37 s, total: 13min 12s\n",
      "Wall time: 13min 24s\n"
     ]
    },
    {
     "name": "stderr",
     "output_type": "stream",
     "text": [
      "\n"
     ]
    }
   ],
   "source": [
    "%%time\n",
    "steadman.create_document(title = 'Ovid Amores Book 1.docx', output_format='poetry')"
   ]
  },
  {
   "cell_type": "markdown",
   "metadata": {},
   "source": [
    "### "
   ]
  },
  {
   "cell_type": "markdown",
   "metadata": {},
   "source": [
    "### "
   ]
  },
  {
   "cell_type": "code",
   "execution_count": 42,
   "metadata": {},
   "outputs": [],
   "source": [
    "\n",
    "from cltk.corpus.readers import get_corpus_reader\n",
    "\n",
    "reader = get_corpus_reader(language='latin', corpus_name='latin_text_latin_library')\n"
   ]
  }
 ],
 "metadata": {
  "kernelspec": {
   "display_name": "py3_7_6",
   "language": "python",
   "name": "py3_7_6"
  },
  "language_info": {
   "codemirror_mode": {
    "name": "ipython",
    "version": 3
   },
   "file_extension": ".py",
   "mimetype": "text/x-python",
   "name": "python",
   "nbconvert_exporter": "python",
   "pygments_lexer": "ipython3",
   "version": "3.7.6"
  }
 },
 "nbformat": 4,
 "nbformat_minor": 4
}
