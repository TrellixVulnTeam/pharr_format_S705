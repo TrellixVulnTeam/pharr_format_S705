{
 "cells": [
  {
   "cell_type": "markdown",
   "metadata": {},
   "source": [
    "The CLTK has a distributed infrastructure that lets you download official CLTK texts or other corpora shared by others. For full docs, see <http://docs.cltk.org/en/latest/importing_corpora.html>.\n",
    "\n",
    "To get started, from the Terminal, open a new Jupyter notebook from within your `~/cltk` directory (see notebook 1 \"CLTK Setup\" for instructions): `jupyter notebook`. Then go to <http://localhost:8888>."
   ]
  },
  {
   "cell_type": "markdown",
   "metadata": {},
   "source": [
    "# See what corpora are available\n",
    "\n",
    "First we need to \"import\" the right part of the CLTK library. Think of this as pulling just the book you need off the shelf and having it ready to read."
   ]
  },
  {
   "cell_type": "code",
   "execution_count": 5,
   "metadata": {},
   "outputs": [],
   "source": [
    "# This is the import of the right part of the CLTK library\n",
    "\n",
    "from cltk.corpus.utils.importer import CorpusImporter"
   ]
  },
  {
   "cell_type": "code",
   "execution_count": 6,
   "metadata": {},
   "outputs": [],
   "source": [
    "# See https://github.com/cltk for all official corpora\n",
    "\n",
    "my_latin_downloader = CorpusImporter('latin')\n",
    "\n",
    "# Now 'my_latin_downloader' is the variable by which we call the CorpusImporter"
   ]
  },
  {
   "cell_type": "code",
   "execution_count": 3,
   "metadata": {},
   "outputs": [
    {
     "data": {
      "text/plain": [
       "['latin_text_perseus',\n",
       " 'latin_treebank_perseus',\n",
       " 'latin_text_latin_library',\n",
       " 'phi5',\n",
       " 'phi7',\n",
       " 'latin_proper_names_cltk',\n",
       " 'latin_models_cltk',\n",
       " 'latin_pos_lemmata_cltk',\n",
       " 'latin_treebank_index_thomisticus',\n",
       " 'latin_lexica_perseus',\n",
       " 'latin_training_set_sentence_cltk',\n",
       " 'latin_word2vec_cltk',\n",
       " 'latin_text_antique_digiliblt',\n",
       " 'latin_text_corpus_grammaticorum_latinorum',\n",
       " 'latin_text_poeti_ditalia',\n",
       " 'latin_text_tesserae']"
      ]
     },
     "execution_count": 3,
     "metadata": {},
     "output_type": "execute_result"
    }
   ],
   "source": [
    "my_latin_downloader.list_corpora"
   ]
  },
  {
   "cell_type": "markdown",
   "metadata": {},
   "source": [
    "# Import several corpora"
   ]
  },
  {
   "cell_type": "code",
   "execution_count": 4,
   "metadata": {},
   "outputs": [],
   "source": [
    "my_latin_downloader.import_corpus('latin_text_latin_library')\n",
    "my_latin_downloader.import_corpus('latin_models_cltk')"
   ]
  },
  {
   "cell_type": "markdown",
   "metadata": {},
   "source": [
    "You can verify the files were downloaded in the Terminal with `$ ls -l ~/cltk_data/latin/text/latin_text_latin_library/`"
   ]
  },
  {
   "cell_type": "code",
   "execution_count": 5,
   "metadata": {},
   "outputs": [
    {
     "data": {
      "text/plain": [
       "['greek_software_tlgu',\n",
       " 'greek_text_perseus',\n",
       " 'phi7',\n",
       " 'tlg',\n",
       " 'greek_proper_names_cltk',\n",
       " 'greek_models_cltk',\n",
       " 'greek_treebank_perseus',\n",
       " 'greek_treebank_gorman',\n",
       " 'greek_lexica_perseus',\n",
       " 'greek_training_set_sentence_cltk',\n",
       " 'greek_word2vec_cltk',\n",
       " 'greek_text_lacus_curtius',\n",
       " 'greek_text_first1kgreek',\n",
       " 'greek_text_tesserae']"
      ]
     },
     "execution_count": 5,
     "metadata": {},
     "output_type": "execute_result"
    }
   ],
   "source": [
    "# Let's get some Greek corpora, too\n",
    "\n",
    "my_greek_downloader = CorpusImporter('greek')\n",
    "my_greek_downloader.import_corpus('greek_models_cltk')\n",
    "my_greek_downloader.list_corpora"
   ]
  },
  {
   "cell_type": "code",
   "execution_count": 6,
   "metadata": {},
   "outputs": [
    {
     "name": "stdout",
     "output_type": "stream",
     "text": [
      "Downloaded 100% 2.98 MiB | 12.26 MiB/s \r"
     ]
    }
   ],
   "source": [
    "my_greek_downloader.import_corpus('greek_text_lacus_curtius')"
   ]
  },
  {
   "cell_type": "markdown",
   "metadata": {},
   "source": [
    "Likewise, verify with `ls -l ~/cltk_data/greek/text/greek_text_lacus_curtius/plain/`"
   ]
  },
  {
   "cell_type": "code",
   "execution_count": 7,
   "metadata": {
    "scrolled": true
   },
   "outputs": [
    {
     "name": "stdout",
     "output_type": "stream",
     "text": [
      "Downloaded 100% 182.99 MiB | 7.56 MiB/s \r"
     ]
    }
   ],
   "source": [
    "my_greek_downloader.import_corpus('greek_text_first1kgreek')"
   ]
  },
  {
   "cell_type": "code",
   "execution_count": 8,
   "metadata": {},
   "outputs": [
    {
     "name": "stdout",
     "output_type": "stream",
     "text": [
      "total 4320\n",
      "-rwxr-xr-x    1 aleedom  staff  1955024 Sep 24 09:35 \u001b[31m#gelasius-kg.xml#\u001b[m\u001b[m\n",
      "-rw-r--r--    1 aleedom  staff   126919 Sep 24 09:35 Committing Issues using GitHub.docx\n",
      "-rwxr-xr-x    1 aleedom  staff    19777 Sep 24 09:35 \u001b[31mGreek-works.txt\u001b[m\u001b[m\n",
      "-rw-r--r--    1 aleedom  staff     1658 Sep 24 09:35 README.md\n",
      "-rwxr-xr-x    1 aleedom  staff     1889 Sep 24 09:35 \u001b[31mcselstats.pl\u001b[m\u001b[m\n",
      "drwxr-xr-x  186 aleedom  staff     5952 Sep 24 09:35 \u001b[34mdata\u001b[m\u001b[m\n",
      "-rwxr-xr-x    1 aleedom  staff     2414 Sep 24 09:35 \u001b[31mgreek-justwork.txt\u001b[m\u001b[m\n",
      "-rwxr-xr-x    1 aleedom  staff     3249 Sep 24 09:35 \u001b[31mgreek.txt\u001b[m\u001b[m\n",
      "-rw-r--r--    1 aleedom  staff    19125 Sep 24 09:35 license.md\n",
      "-rw-r--r--    1 aleedom  staff    58346 Sep 24 09:35 new_edition_metadata.csv\n",
      "-rw-r--r--    1 aleedom  staff      697 Sep 24 09:35 pages.sh\n",
      "-rwxr-xr-x    1 aleedom  staff     1901 Sep 24 09:35 \u001b[31mpnumber.xsl\u001b[m\u001b[m\n",
      "drwxr-xr-x    4 aleedom  staff      128 Sep 24 09:35 \u001b[34msave\u001b[m\u001b[m\n",
      "drwxr-xr-x   49 aleedom  staff     1568 Sep 24 09:35 \u001b[34msplit\u001b[m\u001b[m\n",
      "drwxr-xr-x   87 aleedom  staff     2784 Sep 24 09:35 \u001b[34mvolume_xml\u001b[m\u001b[m\n"
     ]
    }
   ],
   "source": [
    "!ls -l ~/cltk_data/greek/text/greek_text_first1kgreek/"
   ]
  },
  {
   "cell_type": "markdown",
   "metadata": {},
   "source": [
    "# Convert TEI XML texts\n",
    "\n",
    "Here we'll convert the First 1K Years' Greek corpus from TEI XML to plain text."
   ]
  },
  {
   "cell_type": "code",
   "execution_count": 1,
   "metadata": {},
   "outputs": [],
   "source": [
    "from cltk.corpus.greek.tei import onekgreek_tei_xml_to_text"
   ]
  },
  {
   "cell_type": "code",
   "execution_count": 2,
   "metadata": {},
   "outputs": [],
   "source": [
    "#! If you get the following error: 'Install `bs4` and `lxml` to parse these TEI files.'\n",
    "# then run: `pip install bs4 lxml`.\n",
    "# !pip install bs4 lxml\n",
    "import bs4\n",
    "import lxml\n",
    "onekgreek_tei_xml_to_text()"
   ]
  },
  {
   "cell_type": "code",
   "execution_count": 3,
   "metadata": {},
   "outputs": [
    {
     "name": "stdout",
     "output_type": "stream",
     "text": [
      "     975\n"
     ]
    }
   ],
   "source": [
    "# Count the converted plaintext files\n",
    "\n",
    "!ls -l ~/cltk_data/greek/text/greek_text_first1kgreek_plaintext/ | wc -l"
   ]
  },
  {
   "cell_type": "markdown",
   "metadata": {},
   "source": [
    "# Import local corpora"
   ]
  },
  {
   "cell_type": "code",
   "execution_count": 9,
   "metadata": {},
   "outputs": [
    {
     "ename": "AttributeError",
     "evalue": "'NoneType' object has no attribute 'endswith'",
     "output_type": "error",
     "traceback": [
      "\u001b[0;31m---------------------------------------------------------------------------\u001b[0m",
      "\u001b[0;31mAttributeError\u001b[0m                            Traceback (most recent call last)",
      "\u001b[0;32m<ipython-input-9-3f33e9daa448>\u001b[0m in \u001b[0;36m<module>\u001b[0;34m\u001b[0m\n\u001b[0;32m----> 1\u001b[0;31m \u001b[0mmy_latin_downloader\u001b[0m\u001b[0;34m.\u001b[0m\u001b[0mimport_corpus\u001b[0m\u001b[0;34m(\u001b[0m\u001b[0;34m'phi5'\u001b[0m\u001b[0;34m)\u001b[0m\u001b[0;34m\u001b[0m\u001b[0;34m\u001b[0m\u001b[0m\n\u001b[0m",
      "\u001b[0;32m~/cltk/venv/lib/python3.7/site-packages/cltk/corpus/utils/importer.py\u001b[0m in \u001b[0;36mimport_corpus\u001b[0;34m(self, corpus_name, local_path, branch)\u001b[0m\n\u001b[1;32m    352\u001b[0m                 \u001b[0;32mif\u001b[0m \u001b[0mcorpus_name\u001b[0m \u001b[0;34m==\u001b[0m \u001b[0;34m'phi5'\u001b[0m\u001b[0;34m:\u001b[0m\u001b[0;34m\u001b[0m\u001b[0;34m\u001b[0m\u001b[0m\n\u001b[1;32m    353\u001b[0m                     \u001b[0;31m# normalize path for checking dir\u001b[0m\u001b[0;34m\u001b[0m\u001b[0;34m\u001b[0m\u001b[0;34m\u001b[0m\u001b[0m\n\u001b[0;32m--> 354\u001b[0;31m                     \u001b[0;32mif\u001b[0m \u001b[0mlocal_path\u001b[0m\u001b[0;34m.\u001b[0m\u001b[0mendswith\u001b[0m\u001b[0;34m(\u001b[0m\u001b[0;34m'/'\u001b[0m\u001b[0;34m)\u001b[0m\u001b[0;34m:\u001b[0m\u001b[0;34m\u001b[0m\u001b[0;34m\u001b[0m\u001b[0m\n\u001b[0m\u001b[1;32m    355\u001b[0m                         \u001b[0mlocal_path\u001b[0m \u001b[0;34m=\u001b[0m \u001b[0mlocal_path\u001b[0m\u001b[0;34m[\u001b[0m\u001b[0;34m:\u001b[0m\u001b[0;34m-\u001b[0m\u001b[0;36m1\u001b[0m\u001b[0;34m]\u001b[0m\u001b[0;34m\u001b[0m\u001b[0;34m\u001b[0m\u001b[0m\n\u001b[1;32m    356\u001b[0m                     \u001b[0;31m# check for right corpus dir\u001b[0m\u001b[0;34m\u001b[0m\u001b[0;34m\u001b[0m\u001b[0;34m\u001b[0m\u001b[0m\n",
      "\u001b[0;31mAttributeError\u001b[0m: 'NoneType' object has no attribute 'endswith'"
     ]
    }
   ],
   "source": [
    "my_latin_downloader.import_corpus('phi5')"
   ]
  },
  {
   "cell_type": "code",
   "execution_count": null,
   "metadata": {},
   "outputs": [],
   "source": [
    "my_latin_downloader.import_corpus('phi7', '~/cltk/corpora/PHI7/')"
   ]
  },
  {
   "cell_type": "code",
   "execution_count": 7,
   "metadata": {
    "collapsed": true,
    "jupyter": {
     "outputs_hidden": true
    }
   },
   "outputs": [],
   "source": [
    "my_greek_downloader.import_corpus('tlg', '~/cltk/corpora/TLG_E/')"
   ]
  },
  {
   "cell_type": "code",
   "execution_count": 12,
   "metadata": {},
   "outputs": [
    {
     "name": "stdout",
     "output_type": "stream",
     "text": [
      "total 204\n",
      "drwxr-xr-x 2 kyle kyle  32768 Mar 30  2014 phi5\n",
      "drwxr-xr-x 2 kyle kyle  24576 Mar 30  2014 phi7\n",
      "drwxr-xr-x 2 kyle kyle 151552 Mar 30  2014 tlg\n"
     ]
    }
   ],
   "source": [
    "!ls -l /home/kyle/cltk_data/originals/"
   ]
  }
 ],
 "metadata": {
  "kernelspec": {
   "display_name": "Python 3",
   "language": "python",
   "name": "python3"
  },
  "language_info": {
   "codemirror_mode": {
    "name": "ipython",
    "version": 3
   },
   "file_extension": ".py",
   "mimetype": "text/x-python",
   "name": "python",
   "nbconvert_exporter": "python",
   "pygments_lexer": "ipython3",
   "version": "3.7.4"
  }
 },
 "nbformat": 4,
 "nbformat_minor": 4
}
