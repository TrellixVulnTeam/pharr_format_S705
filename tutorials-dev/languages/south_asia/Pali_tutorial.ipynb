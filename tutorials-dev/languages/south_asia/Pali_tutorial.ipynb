{
 "cells": [
  {
   "cell_type": "markdown",
   "metadata": {},
   "source": [
    "# Pali with CLTK"
   ]
  },
  {
   "cell_type": "markdown",
   "metadata": {},
   "source": [
    "Here's a quick overview on how you can analyse your Pali texts with <b>CLTK</b> ! <br>\n",
    "Let's begin by adding the `USER_PATH`.."
   ]
  },
  {
   "cell_type": "code",
   "execution_count": 1,
   "metadata": {},
   "outputs": [],
   "source": [
    "import os\n",
    "USER_PATH = os.path.expanduser('~')"
   ]
  },
  {
   "cell_type": "markdown",
   "metadata": {},
   "source": [
    "In order to be able to download Pali texts from CLTK's Github repo, we will require an importer."
   ]
  },
  {
   "cell_type": "code",
   "execution_count": 2,
   "metadata": {},
   "outputs": [],
   "source": [
    "from cltk.corpus.utils.importer import CorpusImporter\n",
    "pali_downloader = CorpusImporter('pali')"
   ]
  },
  {
   "cell_type": "markdown",
   "metadata": {},
   "source": [
    "We can now see the corpora available for download, by using `list_corpora` feature of the importer. Let's go ahead and try it out!"
   ]
  },
  {
   "cell_type": "code",
   "execution_count": 3,
   "metadata": {},
   "outputs": [
    {
     "data": {
      "text/plain": [
       "['pali_text_ptr_tipitaka', 'pali_texts_gretil']"
      ]
     },
     "execution_count": 3,
     "metadata": {},
     "output_type": "execute_result"
    }
   ],
   "source": [
    "pali_downloader.list_corpora"
   ]
  },
  {
   "cell_type": "markdown",
   "metadata": {},
   "source": [
    "The corpus <i>pali_texts_gretil</i> can be downloaded from the Github repo. The corpus will be downloaded to the directory `cltk_data/pali` at the above mentioned `USER_PATH`"
   ]
  },
  {
   "cell_type": "code",
   "execution_count": 4,
   "metadata": {},
   "outputs": [],
   "source": [
    "pali_downloader.import_corpus('pali_texts_gretil')"
   ]
  },
  {
   "cell_type": "markdown",
   "metadata": {},
   "source": [
    "You can see the texts downloaded by doing the following, or checking out the `cltk_data/pali/text/pali_texts_gretil` directory."
   ]
  },
  {
   "cell_type": "code",
   "execution_count": 5,
   "metadata": {},
   "outputs": [
    {
     "name": "stdout",
     "output_type": "stream",
     "text": [
      "['9_phil', '2_parcan', '4_comm', '1_tipit', '3_chron', '6_suanco']\n"
     ]
    }
   ],
   "source": [
    "pali_corpus_path = os.path.join(USER_PATH,'cltk_data/pali/text/pali_texts_gretil')\n",
    "list_of_texts = [text for text in os.listdir(pali_corpus_path) if '.' not in text]\n",
    "print(list_of_texts)"
   ]
  },
  {
   "cell_type": "markdown",
   "metadata": {},
   "source": [
    "Digha Nikaya is a Buddhist scripture and is one of the five nikayas in Sutta Pitaka, which is one of the three parts of Pali Tipitaka. Let us view the contents of the first chapter of Digha Nikaya."
   ]
  },
  {
   "cell_type": "code",
   "execution_count": 6,
   "metadata": {},
   "outputs": [
    {
     "name": "stdout",
     "output_type": "stream",
     "text": [
      "\n",
      "1. \n",
      "\n",
      "Brahmajālasuttaṃ\n",
      "\n",
      "1. Evaṃ me sutaṃ ekaṃ samayaṃ bhagavā antarā ca rājagahaṃ antarā ca nālandaṃ\n",
      "addhānamaggapaṭipanno hoti mahatā bhikkhusaṅghena saddhiṃ pañcamattehi\n",
      "bhikkhusatehi. Suppiyo'pi kho paribbājako antarā ca rājagahaṃ antarā ca nālandaṃ\n",
      "addhānamaggapaṭipanno hoti saddhiṃ antevāsinā brahmadattena māṇavena. \n",
      "\n",
      "Tatra sudaṃ suppiyo paribbājako anekapariyāyena buddhassa avaṇṇaṃ bhāsati, dhammassa\n",
      "avaṇṇaṃ bhāsati, saṅghassa avaṇṇaṃ bhāsati. Suppiyassa pana paribbājakassa antevāsī\n",
      "brahmadatto māṇavo anekapariyāyena buddhassa vaṇṇaṃ bhāsati, dhammassa vaṇṇaṃ\n",
      "bhāsati, saṅghassa vaṇṇaṃ bhāsati. Itiha te ubho ācariyantevāsī aññamaññassa\n",
      "ujuvipaccanīkavādā bhagavantaṃ piṭṭhito piṭṭhito anubaddhā1 honti bhikkhusaṅghaṃ ca. \n",
      "\n",
      "2. Atha kho bhagavā ambalaṭṭhikāyaṃ rājāgārake ekarattivāsaṃ upagaṃchi saddhiṃ\n",
      "bhikkhusaṅghena. Suppiyo'pi kho paribbājako ambalaṭṭhikāyaṃ rājāgārake ekarattivāsaṃ\n",
      "upagaṃchi saddhiṃ antevāsinā brahmadattena māṇavena. Tatra'pi sudaṃ suppiyo\n",
      "paribbājako anekapariyāyena buddhassa avaṇṇaṃ bhāsati, dhammassa avaṇṇaṃ bhāsati,\n",
      "saṅghassa avaṇṇaṃ bhāsati. Suppiyassa [PTS Page 002] [\\q   2/]      pana paribbājakassa\n",
      "antevāsī brahmadatto māṇavo buddhassa vaṇṇaṃ bhāsati, dhammassa vaṇṇaṃ bhāsati,\n",
      "saṅghassa vaṇṇaṃ bhāsati. Itiha te ubho ācariyantevāsī aññamaññassa ujuvipaccanīkavādā\n",
      "viharanti. \n",
      " - - - - - - - - - - - - - - -\n"
     ]
    }
   ],
   "source": [
    "pali_text_path = os.path.join(pali_corpus_path,'1_tipit/2_sut/1_digh/dighan1u.txt')\n",
    "pali_text = open(pali_text_path,'r').read()\n",
    "print(pali_text[1445:2800])"
   ]
  },
  {
   "cell_type": "markdown",
   "metadata": {},
   "source": [
    "## Pali Alphabets"
   ]
  },
  {
   "cell_type": "markdown",
   "metadata": {},
   "source": [
    "Pali is usually written in Sinhalese, Brāhmi, Khmer, Burmese or Devanagari. There are 7 independent vowels, 7 dependent vowels and 33 consonants in Pali (Sinhalese script) which are as follows:"
   ]
  },
  {
   "cell_type": "code",
   "execution_count": 7,
   "metadata": {},
   "outputs": [
    {
     "name": "stdout",
     "output_type": "stream",
     "text": [
      "Independent vowels: ['අ', 'ආ', 'ඉ', 'ඊ', 'උ', 'එ', 'ඔ']\n",
      "Dependent vowels: ['ා', 'ි', 'ී', 'ු', 'ූ', 'ෙ', 'ො']\n",
      "Consonants: ['ක', 'ඛ', 'ග', 'ඝ', 'ඞ', 'ච', 'ඡ', 'ජ', 'ඣ', 'ඤ', 'ට', 'ඨ', 'ඩ', 'ඪ', 'ණ', 'ත', 'ථ', 'ද', 'ධ', 'න', 'ප', 'ඵ', 'බ', 'භ', 'ම', 'ය', 'ර', 'ල', 'ව', 'ස', 'හ', 'ළ', 'අං']\n"
     ]
    }
   ],
   "source": [
    "from cltk.corpus.pali.alphabet import *\n",
    "print(\"Independent vowels:\",INDEPENDENT_VOWELS)\n",
    "print(\"Dependent vowels:\",DEPENDENT_VOWELS)\n",
    "print(\"Consonants:\",CONSONANTS)"
   ]
  },
  {
   "cell_type": "markdown",
   "metadata": {},
   "source": [
    "## Transliterations"
   ]
  },
  {
   "cell_type": "markdown",
   "metadata": {},
   "source": [
    "We can transliterate Pali texts to that of other Indic languages. Let us transliterate `අභිරුචිර` to Hindi:"
   ]
  },
  {
   "cell_type": "code",
   "execution_count": 8,
   "metadata": {},
   "outputs": [
    {
     "data": {
      "text/plain": [
       "'अभिरुचिर'"
      ]
     },
     "execution_count": 8,
     "metadata": {},
     "output_type": "execute_result"
    }
   ],
   "source": [
    "pali_text_two = 'අභිරුචිර'\n",
    "from cltk.corpus.sanskrit.itrans.unicode_transliterate import UnicodeIndicTransliterator\n",
    "UnicodeIndicTransliterator.transliterate(pali_text_two,\"si\",\"hi\")"
   ]
  },
  {
   "cell_type": "markdown",
   "metadata": {},
   "source": [
    "We can also romanize the text as shown:"
   ]
  },
  {
   "cell_type": "code",
   "execution_count": 9,
   "metadata": {},
   "outputs": [
    {
     "data": {
      "text/plain": [
       "'abhiruchira'"
      ]
     },
     "execution_count": 9,
     "metadata": {},
     "output_type": "execute_result"
    }
   ],
   "source": [
    "from cltk.corpus.sanskrit.itrans.unicode_transliterate import ItransTransliterator\n",
    "ItransTransliterator.to_itrans(pali_text_two,'si')"
   ]
  },
  {
   "cell_type": "markdown",
   "metadata": {},
   "source": [
    "Similarly, we can indicize a text given in its ITRANS-transliteration"
   ]
  },
  {
   "cell_type": "code",
   "execution_count": 10,
   "metadata": {},
   "outputs": [
    {
     "data": {
      "text/plain": [
       "'දේවධම්මෝ'"
      ]
     },
     "execution_count": 10,
     "metadata": {},
     "output_type": "execute_result"
    }
   ],
   "source": [
    "pali_text_itrans = 'devadhammo'\n",
    "ItransTransliterator.from_itrans(pali_text_itrans,'si')"
   ]
  },
  {
   "cell_type": "markdown",
   "metadata": {},
   "source": [
    "## Syllabifier"
   ]
  },
  {
   "cell_type": "markdown",
   "metadata": {},
   "source": [
    "We can use the indian_syllabifier to syllabify the Pali sentences. To do this, we will have to import models as follows. The importing of `sanskrit_models_cltk` might take some time."
   ]
  },
  {
   "cell_type": "code",
   "execution_count": 11,
   "metadata": {
    "scrolled": true
   },
   "outputs": [],
   "source": [
    "phonetics_model_importer = CorpusImporter('sanskrit')\n",
    "phonetics_model_importer.list_corpora\n",
    "phonetics_model_importer.import_corpus('sanskrit_models_cltk') "
   ]
  },
  {
   "cell_type": "markdown",
   "metadata": {},
   "source": [
    "Now we import the syllabifier and syllabify as follows:"
   ]
  },
  {
   "cell_type": "code",
   "execution_count": 12,
   "metadata": {},
   "outputs": [],
   "source": [
    "%%capture\n",
    "from cltk.stem.sanskrit.indian_syllabifier import Syllabifier\n",
    "pali_syllabifier = Syllabifier('sinhalese')\n",
    "pali_syllables = pali_syllabifier.orthographic_syllabify(pali_text_two)"
   ]
  },
  {
   "cell_type": "markdown",
   "metadata": {},
   "source": [
    "The syllables of the word `pali_text_two` will thus be:"
   ]
  },
  {
   "cell_type": "code",
   "execution_count": 13,
   "metadata": {},
   "outputs": [
    {
     "name": "stdout",
     "output_type": "stream",
     "text": [
      "['අ', 'භ', 'ි', 'ර', 'ු', 'ච', 'ි', 'ර']\n"
     ]
    }
   ],
   "source": [
    "print(pali_syllables)"
   ]
  }
 ],
 "metadata": {
  "kernelspec": {
   "display_name": "Python 3",
   "language": "python",
   "name": "python3"
  },
  "language_info": {
   "codemirror_mode": {
    "name": "ipython",
    "version": 3
   },
   "file_extension": ".py",
   "mimetype": "text/x-python",
   "name": "python",
   "nbconvert_exporter": "python",
   "pygments_lexer": "ipython3",
   "version": "3.6.5"
  }
 },
 "nbformat": 4,
 "nbformat_minor": 2
}
