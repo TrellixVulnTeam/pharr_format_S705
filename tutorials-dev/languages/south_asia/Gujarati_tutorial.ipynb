{
 "cells": [
  {
   "cell_type": "markdown",
   "metadata": {},
   "source": [
    "# Gujarati with CLTK"
   ]
  },
  {
   "cell_type": "markdown",
   "metadata": {},
   "source": [
    "See how you can analyse your Gujarati texts with <b>CLTK</b> ! <br>\n",
    "Let's begin by adding the `USER_PATH`.."
   ]
  },
  {
   "cell_type": "code",
   "execution_count": 1,
   "metadata": {},
   "outputs": [],
   "source": [
    "import os\n",
    "USER_PATH = os.path.expanduser('~')"
   ]
  },
  {
   "cell_type": "markdown",
   "metadata": {},
   "source": [
    "In order to be able to download Gujarati texts from CLTK's Github repo, we will require an importer."
   ]
  },
  {
   "cell_type": "code",
   "execution_count": 2,
   "metadata": {},
   "outputs": [],
   "source": [
    "from cltk.corpus.utils.importer import CorpusImporter\n",
    "gujarati_downloader = CorpusImporter('gujarati')"
   ]
  },
  {
   "cell_type": "markdown",
   "metadata": {},
   "source": [
    "We can now see the corpora available for download, by using `list_corpora` feature of the importer. Let's go ahead and try it out!"
   ]
  },
  {
   "cell_type": "code",
   "execution_count": 3,
   "metadata": {},
   "outputs": [
    {
     "data": {
      "text/plain": [
       "['gujarati_text_wikisource']"
      ]
     },
     "execution_count": 3,
     "metadata": {},
     "output_type": "execute_result"
    }
   ],
   "source": [
    "gujarati_downloader.list_corpora"
   ]
  },
  {
   "cell_type": "markdown",
   "metadata": {},
   "source": [
    "The corpus <i>gujarati_text_wikisource</i> can be downloaded from the Github repo. The corpus will be downloaded to the directory `cltk_data/gujarati` at the above mentioned `USER_PATH`"
   ]
  },
  {
   "cell_type": "code",
   "execution_count": 4,
   "metadata": {},
   "outputs": [],
   "source": [
    "gujarati_downloader.import_corpus('gujarati_text_wikisource')"
   ]
  },
  {
   "cell_type": "markdown",
   "metadata": {},
   "source": [
    "You can see the texts downloaded by doing the following, or checking out the `cltk_data/gujarati/text/gujarati_text_wikisource` directory."
   ]
  },
  {
   "cell_type": "code",
   "execution_count": 7,
   "metadata": {},
   "outputs": [
    {
     "name": "stdout",
     "output_type": "stream",
     "text": [
      "['narsinh_mehta', 'kabir', 'vallabhacharya']\n"
     ]
    }
   ],
   "source": [
    "gujarati_corpus_path = os.path.join(USER_PATH,'cltk_data/gujarati/text/gujarati_text_wikisource')\n",
    "list_of_texts = [text for text in os.listdir(gujarati_corpus_path) if '.' not in text]\n",
    "print(list_of_texts)"
   ]
  },
  {
   "cell_type": "markdown",
   "metadata": {},
   "source": [
    "Great, now that we have our texts, let's take a sample from one of them. For this tutorial, we shall be using <i>govinda_khele_holi</i> , a text by the Gujarati poet Narsinh Mehta."
   ]
  },
  {
   "cell_type": "code",
   "execution_count": 10,
   "metadata": {},
   "outputs": [
    {
     "name": "stdout",
     "output_type": "stream",
     "text": [
      "﻿વૃંદાવન જઈએ,\n",
      "જીહાં ગોવિંદ ખેલે હોળી;\n",
      "નટવર વેશ ધર્યો નંદ નંદન,\n",
      "મળી મહાવન ટોળી... ચાલો સખી !\n",
      "\n",
      "એક નાચે એક ચંગ વજાડે,\n",
      "છાંટે કેસર ઘોળી;\n",
      "એક અબીરગુલાલ ઉડાડે,\n",
      "એક ગાય ભાંભર ભોળી... ચાલો સખી !\n",
      "\n",
      "એક એકને કરે છમકલાં,\n",
      "હસી હસી કર લે તાળી;\n",
      "માહોમાહે કરે મરકલાં,\n",
      "મધ્ય ખેલે વનમાળી... ચાલો સખી !\n",
      "\n",
      "વસંત ઋતુ વૃંદાવન સરી,\n",
      "ફૂલ્યો ફાગણ માસ;\n",
      "ગોવિંદગોપી રમે રંગભર,\n",
      "જુએ નરસૈંયો દાસ... ચાલો સખી !\n",
      " \n"
     ]
    }
   ],
   "source": [
    "gujarati_text_path = os.path.join(gujarati_corpus_path,'narsinh_mehta/govinda_khele_holi.txt')\n",
    "gujarati_text = open(gujarati_text_path,'r').read()\n",
    "print(gujarati_text)"
   ]
  },
  {
   "cell_type": "markdown",
   "metadata": {},
   "source": [
    "## Gujarati Alphabets"
   ]
  },
  {
   "cell_type": "markdown",
   "metadata": {},
   "source": [
    "There are 13 vowels, 33 consonants, which are grouped as follows:"
   ]
  },
  {
   "cell_type": "code",
   "execution_count": 12,
   "metadata": {},
   "outputs": [
    {
     "name": "stdout",
     "output_type": "stream",
     "text": [
      "Digits: ['૦', '૧', '૨', '૩', '૪', '૫', '૬', '૭', '૮', '૯', '૧૦']\n",
      "Vowels: ['અ', 'આ', 'ઇ', 'ઈ', 'ઉ', 'ઊ', 'ઋ', 'એ', 'ઐ', 'ઓ', 'ઔ', 'અં', 'અઃ']\n",
      "Dependent vowels: ['ા ', 'િ', 'ી', 'ો', 'ૌ']\n",
      "Consonants: ['ક', 'ખ', 'ગ', 'ઘ', 'ચ', 'છ', 'જ', 'ઝ', 'ઞ', 'ટ', 'ઠ', 'ડ', 'ઢ', 'ણ', 'ત', 'થ', 'દ', 'ધ', 'ન', 'પ', 'ફ', 'બ', 'ભ', 'મ', 'ય', 'ર', 'લ', 'ળ', 'વ', 'શ', 'ષ', 'સ', 'હ']\n",
      "Velar consonants: ['ક', 'ખ', 'ગ', 'ઘ', 'ઙ']\n",
      "Palatal consonants: ['ચ', 'છ', 'જ', 'ઝ', 'ઞ']\n",
      "Retroflex consonants: ['ટ', 'ઠ', 'ડ', 'ઢ', 'ણ']\n",
      "Dental consonants: ['ત', 'થ', 'દ', 'ધ', 'ન']\n",
      "Labial consonants: ['પ', 'ફ', 'બ', 'ભ', 'મ']\n",
      "Sonorant consonants: ['ય', 'ર', 'લ', 'વ']\n",
      "Sibilant consonants: ['શ', 'ષ', 'સ']\n",
      "Guttural consonant: ['હ']\n",
      "Additional consonants: ['ળ', 'ક્ષ', 'જ્ઞ']\n",
      "Modifiers: [' ्', ' ॓', ' ॔']\n"
     ]
    }
   ],
   "source": [
    "from cltk.corpus.gujarati.alphabet import *\n",
    "print(\"Digits:\",DIGITS)\n",
    "print(\"Vowels:\",VOWELS)\n",
    "print(\"Dependent vowels:\",DEPENDENT_VOWELS)\n",
    "print(\"Consonants:\",CONSONANTS)\n",
    "print(\"Velar consonants:\",VELAR_CONSONANTS)\n",
    "print(\"Palatal consonants:\",PALATAL_CONSONANTS)\n",
    "print(\"Retroflex consonants:\",RETROFLEX_CONSONANTS)\n",
    "print(\"Dental consonants:\",DENTAL_CONSONANTS)\n",
    "print(\"Labial consonants:\",LABIAL_CONSONANTS)\n",
    "print(\"Sonorant consonants:\",SONORANT_CONSONANTS)\n",
    "print(\"Sibilant consonants:\",SIBILANT_CONSONANTS)\n",
    "print(\"Guttural consonant:\",GUTTURAL_CONSONANT)\n",
    "print(\"Additional consonants:\",ADDITIONAL_CONSONANTS)\n",
    "print(\"Modifiers:\",MODIFIERS)"
   ]
  },
  {
   "cell_type": "markdown",
   "metadata": {},
   "source": [
    "## Transliterations"
   ]
  },
  {
   "cell_type": "markdown",
   "metadata": {},
   "source": [
    "We can transliterate Gujarati scripts to that of other Indic languages. Let us transliterate `કમળ ભારતનો રાષ્ટ્રીય ફૂલ છે`to Kannada:"
   ]
  },
  {
   "cell_type": "code",
   "execution_count": 16,
   "metadata": {},
   "outputs": [
    {
     "data": {
      "text/plain": [
       "'ಕಮಳ ಭಾರತನೋ ರಾಷ್ಟ್ರೀಯ ಫೂಲ ಛೇ'"
      ]
     },
     "execution_count": 16,
     "metadata": {},
     "output_type": "execute_result"
    }
   ],
   "source": [
    "gujarati_text_two = 'કમળ ભારતનો રાષ્ટ્રીય ફૂલ છે'\n",
    "from cltk.corpus.sanskrit.itrans.unicode_transliterate import UnicodeIndicTransliterator\n",
    "UnicodeIndicTransliterator.transliterate(gujarati_text_two,\"gu\",\"kn\")"
   ]
  },
  {
   "cell_type": "markdown",
   "metadata": {},
   "source": [
    "We can also romanize the text as shown:"
   ]
  },
  {
   "cell_type": "code",
   "execution_count": 26,
   "metadata": {},
   "outputs": [
    {
     "data": {
      "text/plain": [
       "'kamalda bhaaratano raashhTriiya phuula Che'"
      ]
     },
     "execution_count": 26,
     "metadata": {},
     "output_type": "execute_result"
    }
   ],
   "source": [
    "from cltk.corpus.sanskrit.itrans.unicode_transliterate import ItransTransliterator\n",
    "ItransTransliterator.to_itrans(gujarati_text_two,'gu')"
   ]
  },
  {
   "cell_type": "markdown",
   "metadata": {},
   "source": [
    "Similarly, we can indicize a text given in its ITRANS-transliteration"
   ]
  },
  {
   "cell_type": "code",
   "execution_count": 25,
   "metadata": {},
   "outputs": [
    {
     "data": {
      "text/plain": [
       "'ભાવના'"
      ]
     },
     "execution_count": 25,
     "metadata": {},
     "output_type": "execute_result"
    }
   ],
   "source": [
    "gujarati_text_itrans = 'bhaawanaa'\n",
    "ItransTransliterator.from_itrans(gujarati_text_itrans,'gu')"
   ]
  },
  {
   "cell_type": "markdown",
   "metadata": {},
   "source": [
    "## Syllabifier"
   ]
  },
  {
   "cell_type": "markdown",
   "metadata": {},
   "source": [
    "We can use the indian_syllabifier to syllabify the Gujarati sentences. To do this, we will have to import models as follows. The importing of `sanskrit_models_cltk` might take some time."
   ]
  },
  {
   "cell_type": "code",
   "execution_count": 11,
   "metadata": {
    "scrolled": true
   },
   "outputs": [],
   "source": [
    "phonetics_model_importer = CorpusImporter('sanskrit')\n",
    "phonetics_model_importer.list_corpora\n",
    "phonetics_model_importer.import_corpus('sanskrit_models_cltk') "
   ]
  },
  {
   "cell_type": "markdown",
   "metadata": {},
   "source": [
    "Now we import the syllabifier and syllabify as follows:"
   ]
  },
  {
   "cell_type": "code",
   "execution_count": 27,
   "metadata": {},
   "outputs": [],
   "source": [
    "%%capture\n",
    "from cltk.stem.sanskrit.indian_syllabifier import Syllabifier\n",
    "gujarati_syllabifier = Syllabifier('gujarati')\n",
    "gujarati_syllables = gujarati_syllabifier.orthographic_syllabify('ભાવના')"
   ]
  },
  {
   "cell_type": "markdown",
   "metadata": {},
   "source": [
    "The syllables of the word `ભાવના` will thus be:"
   ]
  },
  {
   "cell_type": "code",
   "execution_count": 28,
   "metadata": {},
   "outputs": [
    {
     "name": "stdout",
     "output_type": "stream",
     "text": [
      "['ભા', 'વ', 'ના']\n"
     ]
    }
   ],
   "source": [
    "print(gujarati_syllables)"
   ]
  }
 ],
 "metadata": {
  "kernelspec": {
   "display_name": "Python 3",
   "language": "python",
   "name": "python3"
  },
  "language_info": {
   "codemirror_mode": {
    "name": "ipython",
    "version": 3
   },
   "file_extension": ".py",
   "mimetype": "text/x-python",
   "name": "python",
   "nbconvert_exporter": "python",
   "pygments_lexer": "ipython3",
   "version": "3.6.5"
  }
 },
 "nbformat": 4,
 "nbformat_minor": 2
}
