{
 "cells": [
  {
   "cell_type": "markdown",
   "metadata": {},
   "source": [
    "# Sanskrit with CLTK"
   ]
  },
  {
   "cell_type": "markdown",
   "metadata": {},
   "source": [
    "Sanskrit is one of the oldest Indo-Eurpoean languages and a literary language of ancient and medieval South Asia that also served as a lingua franca. It is a standardised dialect of Old Indo-Aryan, originating as Vedic Sanskrit and tracing its linguistic ancestry back to Proto-Indo-Iranian and Proto-Indo-European.<br>You can use CLTK to analyse Sanskrit texts!<br><br>\n",
    "Firstly, we need to add the path where our corpora will reside."
   ]
  },
  {
   "cell_type": "code",
   "execution_count": 1,
   "metadata": {},
   "outputs": [],
   "source": [
    "import os\n",
    "USER_PATH = os.path.expanduser('~')"
   ]
  },
  {
   "cell_type": "markdown",
   "metadata": {},
   "source": [
    "Before we begin analysing the texts, we will need to download the Sanskrit corpora, for which, we will be using an Importer. Call the importer to download Sanskrit texts, as follows.. "
   ]
  },
  {
   "cell_type": "code",
   "execution_count": 2,
   "metadata": {},
   "outputs": [],
   "source": [
    "from cltk.corpus.utils.importer import CorpusImporter\n",
    "sanskrit_corpus_importer = CorpusImporter('sanskrit')"
   ]
  },
  {
   "cell_type": "markdown",
   "metadata": {},
   "source": [
    "You can view which corpora to download by calling list_corpora() method"
   ]
  },
  {
   "cell_type": "code",
   "execution_count": 3,
   "metadata": {},
   "outputs": [
    {
     "data": {
      "text/plain": [
       "['sanskrit_text_jnu',\n",
       " 'sanskrit_text_dcs',\n",
       " 'sanskrit_parallel_sacred_texts',\n",
       " 'sanskrit_text_sacred_texts',\n",
       " 'sanskrit_parallel_gitasupersite',\n",
       " 'sanskrit_text_gitasupersite',\n",
       " 'sanskrit_text_wikipedia',\n",
       " 'sanskrit_text_sanskrit_documents',\n",
       " 'sanskrit_models_cltk']"
      ]
     },
     "execution_count": 3,
     "metadata": {},
     "output_type": "execute_result"
    }
   ],
   "source": [
    "sanskrit_corpus_importer.list_corpora"
   ]
  },
  {
   "cell_type": "code",
   "execution_count": 4,
   "metadata": {},
   "outputs": [],
   "source": [
    "sanskrit_corpus_importer.import_corpus('sanskrit_text_dcs');"
   ]
  },
  {
   "cell_type": "markdown",
   "metadata": {},
   "source": [
    "It can be verified that the `sanskrit_text_dcs` corpus is downloaded in a `cltk_data/sanskrit/text` folder which at the path given by `USER_PATH`. It is now possible to analyse the texts within. For this tutorial, let us analyse <i>Ayurvedarasāyana</i>"
   ]
  },
  {
   "cell_type": "code",
   "execution_count": 5,
   "metadata": {},
   "outputs": [],
   "source": [
    "sanskrit_corpus_path = os.path.join(USER_PATH,'cltk_data/sanskrit/text/sanskrit_text_dcs/corpora')\n",
    "sanskrit_text_path = os.path.join(sanskrit_corpus_path,'Ayurvedarasāyana.txt')\n",
    "sanskrit_text = open(sanskrit_text_path,'r').read()"
   ]
  },
  {
   "cell_type": "markdown",
   "metadata": {},
   "source": [
    "Let us see the contents of `sanskrit_text`"
   ]
  },
  {
   "cell_type": "code",
   "execution_count": 6,
   "metadata": {},
   "outputs": [
    {
     "name": "stdout",
     "output_type": "stream",
     "text": [
      "tatra dravyasya prādhānyam āha dravyameveti // (1.0)\n",
      "\trasādibhyo dravyameva pradhānam // (2.0)\n",
      "\thi yasmāt te rasādayaḥ tadāśrayāḥ dravyādhiṣṭhānāḥ // (3.0)\n",
      "\tetenaiva rasādyāśrayo dravyamityuktaṃ bhavati // (4.0)\n",
      "\tprādhānyakathanaṃ dravyajñāne tātparyārtham // (5.0)\n",
      "\tuktaṃ ca saṃgrahe / (6.1)\n",
      "\tyasmād dṛṣṭo yavaḥ svādur gururapyanilapradaḥ / (6.2)\n",
      "\tdīpanaṃ śītamapyājyaṃ vasoṣṇāpy agnisādinī // (6.3)\n",
      "\tkaṭupāko'pi pittaghno mudgo māṣastu pittalaḥ / (7.1)\n",
      "\tsvādupāko 'pi cayakṛtsnigdhoṣṇaṃ guru phāṇitam // (7.2)\n",
      "\trase svādau yathā caitat tathānyeṣvapi dṛśyate / (8.1)\n",
      "\tvātalaṃ kaphapittaghnamamlam apyākṣakīphalam // (8.2)\n",
      "\tkurute dadhi gurveva vahniṃ pārevataṃ na tu / (9.1)\n",
      "\tkapitthaṃ dāḍimaṃ cāmlaṃ grāhi nāmalakīphalam // (9.2)\n",
      "\tkaṣāyā grāhiṇī śītā dhātakī na harītakī / (10.1)\n",
      "\tapradhānāḥ pṛthak tasmādrasādyāḥ saṃśritāstu te // (10.2)\n",
      "\tprabhāvaśca yato dravye dravyaṃ śreṣṭham ato matam / (11.1)\n",
      "\titi // (11.2)\n",
      "\t\n"
     ]
    }
   ],
   "source": [
    "print(sanskrit_text)"
   ]
  },
  {
   "cell_type": "markdown",
   "metadata": {},
   "source": [
    "## Transliterations"
   ]
  },
  {
   "cell_type": "markdown",
   "metadata": {},
   "source": [
    "We can transliterate sanskrit scripts to that of other Indic languages. Let us transliterate `ज्वालक `to Malayalam:"
   ]
  },
  {
   "cell_type": "code",
   "execution_count": 7,
   "metadata": {},
   "outputs": [
    {
     "data": {
      "text/plain": [
       "' ജ്വാലക '"
      ]
     },
     "execution_count": 7,
     "metadata": {},
     "output_type": "execute_result"
    }
   ],
   "source": [
    "from cltk.corpus.sanskrit.itrans.unicode_transliterate import UnicodeIndicTransliterator\n",
    "UnicodeIndicTransliterator.transliterate(' ज्वालक ',\"sa\",\"ml\")"
   ]
  },
  {
   "cell_type": "markdown",
   "metadata": {},
   "source": [
    "We can also romanize the text as shown:"
   ]
  },
  {
   "cell_type": "code",
   "execution_count": 8,
   "metadata": {},
   "outputs": [
    {
     "data": {
      "text/plain": [
       "'agadyati'"
      ]
     },
     "execution_count": 8,
     "metadata": {},
     "output_type": "execute_result"
    }
   ],
   "source": [
    "sanskrit_text_two = 'अगद्यति'\n",
    "from cltk.corpus.sanskrit.itrans.unicode_transliterate import ItransTransliterator\n",
    "ItransTransliterator.to_itrans(sanskrit_text_two,'sa')"
   ]
  },
  {
   "cell_type": "markdown",
   "metadata": {},
   "source": [
    "Similarly, we can indicize a text given in its ITRANS-transliteration"
   ]
  },
  {
   "cell_type": "code",
   "execution_count": 9,
   "metadata": {},
   "outputs": [
    {
     "data": {
      "text/plain": [
       "'उद्घाटयति'"
      ]
     },
     "execution_count": 9,
     "metadata": {},
     "output_type": "execute_result"
    }
   ],
   "source": [
    "sanskrit_text_itrans = 'udghaaTayati'\n",
    "ItransTransliterator.from_itrans(sanskrit_text_itrans,'sa')"
   ]
  },
  {
   "cell_type": "markdown",
   "metadata": {},
   "source": [
    "## Query Script Information"
   ]
  },
  {
   "cell_type": "markdown",
   "metadata": {},
   "source": [
    "Phonetic information about the characters can be obtained as follows:"
   ]
  },
  {
   "cell_type": "code",
   "execution_count": 10,
   "metadata": {},
   "outputs": [],
   "source": [
    "from cltk.corpus.sanskrit.itrans.langinfo import *\n",
    "char = 'ट'\n",
    "lang = 'sa'"
   ]
  },
  {
   "cell_type": "code",
   "execution_count": 11,
   "metadata": {},
   "outputs": [
    {
     "data": {
      "text/plain": [
       "False"
      ]
     },
     "execution_count": 11,
     "metadata": {},
     "output_type": "execute_result"
    }
   ],
   "source": [
    "is_vowel(char,lang)"
   ]
  },
  {
   "cell_type": "code",
   "execution_count": 12,
   "metadata": {},
   "outputs": [
    {
     "data": {
      "text/plain": [
       "True"
      ]
     },
     "execution_count": 12,
     "metadata": {},
     "output_type": "execute_result"
    }
   ],
   "source": [
    "is_consonant(char,lang)"
   ]
  },
  {
   "cell_type": "code",
   "execution_count": 13,
   "metadata": {},
   "outputs": [
    {
     "data": {
      "text/plain": [
       "False"
      ]
     },
     "execution_count": 13,
     "metadata": {},
     "output_type": "execute_result"
    }
   ],
   "source": [
    "is_velar(char,lang)"
   ]
  },
  {
   "cell_type": "code",
   "execution_count": 14,
   "metadata": {},
   "outputs": [
    {
     "data": {
      "text/plain": [
       "False"
      ]
     },
     "execution_count": 14,
     "metadata": {},
     "output_type": "execute_result"
    }
   ],
   "source": [
    "is_palatal(char,lang)"
   ]
  },
  {
   "cell_type": "code",
   "execution_count": 15,
   "metadata": {},
   "outputs": [
    {
     "data": {
      "text/plain": [
       "False"
      ]
     },
     "execution_count": 15,
     "metadata": {},
     "output_type": "execute_result"
    }
   ],
   "source": [
    "is_aspirated(char,lang)"
   ]
  },
  {
   "cell_type": "code",
   "execution_count": 16,
   "metadata": {},
   "outputs": [
    {
     "data": {
      "text/plain": [
       "True"
      ]
     },
     "execution_count": 16,
     "metadata": {},
     "output_type": "execute_result"
    }
   ],
   "source": [
    "is_unvoiced(char,lang)"
   ]
  },
  {
   "cell_type": "code",
   "execution_count": 17,
   "metadata": {},
   "outputs": [
    {
     "data": {
      "text/plain": [
       "False"
      ]
     },
     "execution_count": 17,
     "metadata": {},
     "output_type": "execute_result"
    }
   ],
   "source": [
    "is_nasal(char,lang)"
   ]
  },
  {
   "cell_type": "code",
   "execution_count": 18,
   "metadata": {},
   "outputs": [
    {
     "data": {
      "text/plain": [
       "True"
      ]
     },
     "execution_count": 18,
     "metadata": {},
     "output_type": "execute_result"
    }
   ],
   "source": [
    "is_retroflex(char,lang)"
   ]
  },
  {
   "cell_type": "markdown",
   "metadata": {},
   "source": [
    "There are many more features in `langinfo`. Do check them out!"
   ]
  },
  {
   "cell_type": "markdown",
   "metadata": {},
   "source": [
    "## Syllabifier"
   ]
  },
  {
   "cell_type": "markdown",
   "metadata": {},
   "source": [
    "We can use the `indian_syllabifier` to syllabify the sanskrit sentences. To do this, we will have to import models as follows. The importing of `sanskrit_models_cltk` might take some time."
   ]
  },
  {
   "cell_type": "code",
   "execution_count": 19,
   "metadata": {
    "scrolled": true
   },
   "outputs": [],
   "source": [
    "phonetics_model_importer = CorpusImporter('sanskrit')\n",
    "phonetics_model_importer.list_corpora\n",
    "phonetics_model_importer.import_corpus('sanskrit_models_cltk') "
   ]
  },
  {
   "cell_type": "markdown",
   "metadata": {},
   "source": [
    "Now we import the syllabifier and syllabify as follows:"
   ]
  },
  {
   "cell_type": "code",
   "execution_count": 20,
   "metadata": {},
   "outputs": [],
   "source": [
    "%%capture\n",
    "from cltk.stem.sanskrit.indian_syllabifier import Syllabifier\n",
    "sanskrit_syllabifier = Syllabifier('sanskrit')\n",
    "sanskrit_syllables = sanskrit_syllabifier.orthographic_syllabify('पुस्तकालय')"
   ]
  },
  {
   "cell_type": "markdown",
   "metadata": {},
   "source": [
    "The syllables of the word पुस्तकालय will thus be:"
   ]
  },
  {
   "cell_type": "code",
   "execution_count": 21,
   "metadata": {},
   "outputs": [
    {
     "name": "stdout",
     "output_type": "stream",
     "text": [
      "['पु', 'स्त', 'का', 'ल', 'य']\n"
     ]
    }
   ],
   "source": [
    "print(sanskrit_syllables)"
   ]
  },
  {
   "cell_type": "markdown",
   "metadata": {},
   "source": [
    "## Tokenizing Sentences"
   ]
  },
  {
   "cell_type": "markdown",
   "metadata": {},
   "source": [
    "Let us tokenize the sentences in `sanskrit_text`."
   ]
  },
  {
   "cell_type": "code",
   "execution_count": 22,
   "metadata": {},
   "outputs": [
    {
     "name": "stdout",
     "output_type": "stream",
     "text": [
      "['वार्त्तापत्रम्', 'अर्वाचीनकाले', 'मानवस्य', 'जीवनमस्ति', '।', 'वार्त्तापत्रम्', 'अस्माकं', 'ज्ञानस्य', 'गंङगा', 'इव', '।', 'यथा', 'प्रभाते', 'करदर्शनम्', 'आवश्यकं', 'सञ्जताम्', '।']\n"
     ]
    }
   ],
   "source": [
    "sanskrit_text_example = 'वार्त्तापत्रम् अर्वाचीनकाले मानवस्य जीवनमस्ति । वार्त्तापत्रम् अस्माकं ज्ञानस्य गंङगा इव।यथा प्रभाते करदर्शनम् आवश्यकं सञ्जताम्।'\n",
    "from cltk.tokenize.sentence import TokenizeSentence\n",
    "sanskrit_tokenizer = TokenizeSentence('sanskrit')\n",
    "sanskrit_tokens = sanskrit_tokenizer.tokenize(sanskrit_text_example)\n",
    "print(sanskrit_tokens)"
   ]
  },
  {
   "cell_type": "markdown",
   "metadata": {},
   "source": [
    "## Stopword filtering"
   ]
  },
  {
   "cell_type": "markdown",
   "metadata": {},
   "source": [
    "Stopwords list for Sanskrit can be found at `stop` module of cltk."
   ]
  },
  {
   "cell_type": "code",
   "execution_count": 23,
   "metadata": {},
   "outputs": [
    {
     "name": "stdout",
     "output_type": "stream",
     "text": [
      "['अहम्', 'आवाम्', 'वयम्', 'माम्', 'मा', 'आवाम्', 'अस्मान्', 'नः', 'मया', 'आवाभ्याम्']\n"
     ]
    }
   ],
   "source": [
    "from cltk.stop.sanskrit.stops import STOPS_LIST\n",
    "print (STOPS_LIST[:10])"
   ]
  },
  {
   "cell_type": "markdown",
   "metadata": {},
   "source": [
    "Let us filter the `sanskrit_tokens` list for words that are not stop words."
   ]
  },
  {
   "cell_type": "code",
   "execution_count": 24,
   "metadata": {},
   "outputs": [
    {
     "name": "stdout",
     "output_type": "stream",
     "text": [
      "['वार्त्तापत्रम्', 'अर्वाचीनकाले', 'मानवस्य', 'जीवनमस्ति', '।', 'वार्त्तापत्रम्', 'अस्माकं', 'ज्ञानस्य', 'गंङगा', '।', 'प्रभाते', 'करदर्शनम्', 'आवश्यकं', 'सञ्जताम्', '।']\n"
     ]
    }
   ],
   "source": [
    "sanskrit_tokens_no_stop  = [token for token in sanskrit_tokens if token not in STOPS_LIST]\n",
    "print(sanskrit_tokens_no_stop)"
   ]
  },
  {
   "cell_type": "code",
   "execution_count": 25,
   "metadata": {},
   "outputs": [
    {
     "name": "stdout",
     "output_type": "stream",
     "text": [
      "17\n",
      "15\n"
     ]
    }
   ],
   "source": [
    "print(len(sanskrit_tokens))\n",
    "print(len(sanskrit_tokens_no_stop))"
   ]
  },
  {
   "cell_type": "markdown",
   "metadata": {},
   "source": [
    "As one can see, `sanskrit_tokens` had 17 tokens whereas `sanskrit_tokens_no_stop` has 15"
   ]
  },
  {
   "cell_type": "markdown",
   "metadata": {},
   "source": [
    "## Swadesh list for Sanskrit"
   ]
  },
  {
   "cell_type": "markdown",
   "metadata": {},
   "source": [
    "Swadesh list for Sanskrit can be obtained as follows:"
   ]
  },
  {
   "cell_type": "code",
   "execution_count": 26,
   "metadata": {},
   "outputs": [
    {
     "name": "stdout",
     "output_type": "stream",
     "text": [
      "['अहम्', 'त्वम्', 'स', 'वयम्, नस्', 'यूयम्, वस्', 'ते', 'इदम्', 'तत्', 'अत्र', 'तत्र', 'क', 'किम्', 'कुत्र', 'कदा', 'कथम्', 'न', 'सर्व', 'बहु', 'किञ्चिद्', 'अल्प', 'अन्य', 'एक', 'द्वि', 'त्रि', 'चतुर्', 'पञ्चन्', 'महत्', 'दीर्घ', 'उरु', 'घन', 'गुरु', 'अल्प', 'ह्रस्व', 'अंहु', 'तनु', 'स्त्री', 'पुरुष, नर', 'मनुष्य, मानव', 'बाल, शिशु', 'पत्नी, भार्या', 'पति', 'मातृ', 'पितृ', 'पशु', 'मत्स्य', 'वि, पक्षिन्', 'श्वन्', 'यूका', 'सर्प', 'कृमि', 'वृक्ष, तरु', 'वन', 'दण्ड', 'फल', 'बीज', 'पत्त्र', 'मूल', 'त्वच्', 'पुष्प', 'तृण', 'रज्जु', 'चर्मन्, त्वच्', 'मांस', 'रक्त, असृज्', 'अस्थि', 'पीवस्, मेदस्', 'अण्ड', 'शृङ्ग', 'पुच्छ', 'पर्ण', 'केश', 'शिरस्', 'कर्ण', 'अक्षि', 'नासा', 'वक्त्र, मुख', 'दन्त', 'जिह्वा', 'नख', 'पद', 'जङ्घ', 'जानु', 'हस्त, पाणि', 'पक्ष', 'उदर', 'अन्त्र, आन्त्र, गुद', 'गल, ग्रीवा', 'पृष्ठ', 'स्तन', 'हृदय', 'यकृत्', 'पिबति', 'खादति, अत्ति', 'दशति', 'धयति', 'ष्ठीवति', 'वमति', 'वाति', 'अनिति', 'स्मयते, हसति', 'पश्यति, √दृश्', 'शृणोति', 'जानाति', 'मन्यते, चिन्तयति', 'जिघ्रति', 'बिभेति, भयते', 'स्वपिति', 'जीवति', 'म्रियते', 'हन्ति', 'युध्यते', 'वेति', 'हन्ति, ताडयति', 'कृन्तति', 'भिनत्ति', 'विधति', 'लिखति', 'खनति', 'प्लवते', 'पतति', 'एति, गच्छति, चरति', 'आगच्छति', 'शेते', 'सीदति', 'तिष्ठति', 'वर्तते', 'पद्यते', 'ददाति', 'धरति', 'मृद्नाति', 'घर्षति', 'क्षालयति', 'मार्ष्टि', 'कर्षति', 'नुदति', 'क्षिपति', 'बध्नाति, बन्धति', 'सीव्यति', 'गणयति, कलते', 'वक्ति', 'गायति', 'दीव्यति', 'प्लवते', 'सरति, क्षरति', 'शीयते', 'श्वयति', 'सूर्य, रवि, सूर, भास्कर', 'मास, चन्द्रमस्, चन्द्र', 'नक्षत्र, स्तृ, तारा', 'जल, अप्, पानीय, वारि, उदन्, तोज', 'वर्ष', 'नदी', 'सरस्', 'समुद्र', 'लवण', 'अश्मन्', 'पांसु, शिकता', 'रेणु', 'क्षम्, पृथ्वी', 'नभस्, मेघ', 'मिह्', 'आकाश', 'वायु, वात', 'हिम, तुषार, तुहिन', 'हिम', 'धूम', 'अग्नि', 'आस', 'दहति', 'पथ, अध्वन्, मार्ग', 'गिरि, पर्वत', 'रक्त, रोहित', 'हरित्, हरित, पालाश, पलाश', 'पीत, पीतल', 'श्वेत', 'कृष्ण', 'रात्रि, नक्ति, क्षप्, रजनी', 'दिन, अहर्, दिवस', 'वर्ष, संवत्सर', 'तप्त', 'शीत', 'पूर्ण', 'नव, नूतन', 'जीर्ण, वृद्ध, पुरातन', 'वसु, भद्र', 'पाप, दुष्ट', 'पूति', 'मलिन, समल', 'ऋजु, साधु', 'वृत्त, वर्तुल', 'तीक्ष्ण', 'कुण्ठ', 'श्लक्ष्ण, स्निग्ध', 'आर्द्र, क्लिन्न', 'शुष्क', 'शुद्ध, सत्य', 'नेद, प्रति', 'दूर', 'दक्षिण', 'सव्य', 'काश्यां', 'अंतरे, मध्ये', 'सह', 'च', 'यदि', 'हि', 'नामन्']\n"
     ]
    }
   ],
   "source": [
    "from cltk.corpus.swadesh import Swadesh\n",
    "swadesh_list = Swadesh('sa')\n",
    "print(swadesh_list.words())"
   ]
  },
  {
   "cell_type": "markdown",
   "metadata": {},
   "source": [
    "## Sanskrit Alphabets"
   ]
  },
  {
   "cell_type": "markdown",
   "metadata": {},
   "source": [
    "You can view the alphabets in Sanskrit by using `alphabet.py` file"
   ]
  },
  {
   "cell_type": "code",
   "execution_count": 27,
   "metadata": {},
   "outputs": [],
   "source": [
    "from cltk.corpus.sanskrit.alphabet import *"
   ]
  },
  {
   "cell_type": "markdown",
   "metadata": {},
   "source": [
    "Vowels in Sanskrit can be obtained as shown:"
   ]
  },
  {
   "cell_type": "code",
   "execution_count": 28,
   "metadata": {},
   "outputs": [
    {
     "name": "stdout",
     "output_type": "stream",
     "text": [
      "Indpendent vowels- Simple:  ['अ', 'आ', 'इ', 'ई', 'उ', 'ऊ', 'ए', 'ओ', 'ऋ', 'ऌ']\n",
      "Indpendent vowels- Dipthongs:  ['ऐ', 'औ']\n",
      "Dependent vowels:  ['ा', 'ि', 'ी', 'ु', 'ू', 'े', 'ै', 'ो', 'ौ', 'ं', 'ः', 'ृ', 'ॄ']\n"
     ]
    }
   ],
   "source": [
    "print(\"Indpendent vowels- Simple: \", INDEPENDENT_VOWELS_SIMPLE)\n",
    "print(\"Indpendent vowels- Dipthongs: \", INDEPENDENT_VOWELS_DIPTHONGS)\n",
    "print(\"Dependent vowels: \",DEPENDENT_VOWELS)\n"
   ]
  },
  {
   "cell_type": "markdown",
   "metadata": {},
   "source": [
    "Consonants in Sanskrit are grouped as follows:"
   ]
  },
  {
   "cell_type": "code",
   "execution_count": 29,
   "metadata": {},
   "outputs": [
    {
     "name": "stdout",
     "output_type": "stream",
     "text": [
      "Guttural consonants:  ['क', 'ख', 'ग', 'घ', 'ङ']\n",
      "Palatal consonants:  ['च', 'छ', 'ज', 'झ', 'ञ']\n",
      "Cerebral consonants:  ['ट', 'ठ', 'ड', 'ढ', 'ण']\n",
      "Dental consonants:  ['त', 'थ', 'द', 'ध', 'न']\n",
      "Labial consonants:  ['प', 'फ', 'ब', 'भ', 'म']\n",
      "Semivowel consonant:  ['य', 'र', 'ल', 'व']\n",
      "Sibilant consonant:  ['श', 'ष', 'स']\n",
      "Aspirated consonant:  ['ह']\n"
     ]
    }
   ],
   "source": [
    "print(\"Guttural consonants: \", CONSONANT_GUTTURALS)\n",
    "print(\"Palatal consonants: \", CONSONANT_PALATALS)\n",
    "print(\"Cerebral consonants: \", CONSONANT_CEREBRALS)\n",
    "print(\"Dental consonants: \", CONSONANT_DENTALS)\n",
    "print(\"Labial consonants: \", CONSONANT_LABIALS)\n",
    "print(\"Semivowel consonant: \", SEMIVOWEL_CONSONANT)\n",
    "print(\"Sibilant consonant: \", SIBILANT_CONSONANT)\n",
    "print(\"Aspirated consonant: \", SONANT_ASPIRATE)"
   ]
  },
  {
   "cell_type": "markdown",
   "metadata": {},
   "source": [
    "Digits in Sanskrit:"
   ]
  },
  {
   "cell_type": "code",
   "execution_count": 30,
   "metadata": {},
   "outputs": [
    {
     "name": "stdout",
     "output_type": "stream",
     "text": [
      "Digits:  ['०', '१', '२', '३', '४', '५', '६', '७', '८', '९']\n"
     ]
    }
   ],
   "source": [
    "print(\"Digits: \", DIGITS)"
   ]
  },
  {
   "cell_type": "markdown",
   "metadata": {},
   "source": [
    "There are a few other alphabets too:"
   ]
  },
  {
   "cell_type": "code",
   "execution_count": 31,
   "metadata": {},
   "outputs": [
    {
     "name": "stdout",
     "output_type": "stream",
     "text": [
      "['ॐ', '्', 'ँ', 'ऽ', '़', '।', '॥']\n"
     ]
    }
   ],
   "source": [
    "print(OTHER_ALPHABETS)"
   ]
  }
 ],
 "metadata": {
  "kernelspec": {
   "display_name": "Python 3",
   "language": "python",
   "name": "python3"
  },
  "language_info": {
   "codemirror_mode": {
    "name": "ipython",
    "version": 3
   },
   "file_extension": ".py",
   "mimetype": "text/x-python",
   "name": "python",
   "nbconvert_exporter": "python",
   "pygments_lexer": "ipython3",
   "version": "3.6.5"
  }
 },
 "nbformat": 4,
 "nbformat_minor": 2
}
