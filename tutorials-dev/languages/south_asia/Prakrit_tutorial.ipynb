{
 "cells": [
  {
   "cell_type": "markdown",
   "metadata": {},
   "source": [
    "# Prakrit with CLTK"
   ]
  },
  {
   "cell_type": "markdown",
   "metadata": {},
   "source": [
    "Prakrits are any of several Middle Indo-Aryan languages formerly spoken in India (<a href = \"https://en.wikipedia.org/wiki/Prakrit\">Wikipedia</a>) <br>\n",
    "Here's how you can import Prakrit corpora. Let us start off by setting `USER_PATH` for our reference."
   ]
  },
  {
   "cell_type": "code",
   "execution_count": 1,
   "metadata": {},
   "outputs": [],
   "source": [
    "import os\n",
    "USER_PATH = os.path.expanduser('~')"
   ]
  },
  {
   "cell_type": "markdown",
   "metadata": {},
   "source": [
    "In order to be able to download Prakrit texts from CLTK's Github repo, we will require an importer."
   ]
  },
  {
   "cell_type": "code",
   "execution_count": 2,
   "metadata": {},
   "outputs": [],
   "source": [
    "from cltk.corpus.utils.importer import CorpusImporter\n",
    "prakrit_downloader = CorpusImporter('prakrit')"
   ]
  },
  {
   "cell_type": "markdown",
   "metadata": {},
   "source": [
    "We can now see the corpora available for download, by using `list_corpora` feature of the importer. Let's go ahead and try it out!"
   ]
  },
  {
   "cell_type": "code",
   "execution_count": 3,
   "metadata": {},
   "outputs": [
    {
     "data": {
      "text/plain": [
       "['prakrit_texts_gretil']"
      ]
     },
     "execution_count": 3,
     "metadata": {},
     "output_type": "execute_result"
    }
   ],
   "source": [
    "prakrit_downloader.list_corpora"
   ]
  },
  {
   "cell_type": "markdown",
   "metadata": {},
   "source": [
    "The corpus <i>Prakrit_texts_gretil</i> can be downloaded from the Github repo. The corpus will be downloaded to the directory `cltk_data/prakrit` at the above mentioned `USER_PATH`"
   ]
  },
  {
   "cell_type": "code",
   "execution_count": 4,
   "metadata": {},
   "outputs": [],
   "source": [
    "prakrit_downloader.import_corpus('prakrit_texts_gretil')"
   ]
  },
  {
   "cell_type": "markdown",
   "metadata": {},
   "source": [
    "You can see the texts downloaded by doing the following, or checking out the `cltk_data/prakrit/text/prakrit_texts_gretil/txt` directory."
   ]
  },
  {
   "cell_type": "code",
   "execution_count": 5,
   "metadata": {},
   "outputs": [
    {
     "name": "stdout",
     "output_type": "stream",
     "text": [
      "['dasaveyu.txt', 'halsatsu.txt', 'uttaraju.txt', 'hadhut_u.txt', 'isibhasu.txt', 'ayarangu.txt', 'spaucaru.txt', 'suyagadu.txt']\n"
     ]
    }
   ],
   "source": [
    "prakrit_corpus_path = os.path.join(USER_PATH,'cltk_data/prakrit/text/prakrit_texts_gretil/txt')\n",
    "list_of_texts = os.listdir(prakrit_corpus_path)\n",
    "print(list_of_texts)"
   ]
  },
  {
   "cell_type": "markdown",
   "metadata": {},
   "source": [
    "As an example, let us open the file `dasaveyu.txt` which holds the contents of <i>The Dasaveyāliya Sutta</i>"
   ]
  },
  {
   "cell_type": "code",
   "execution_count": 6,
   "metadata": {},
   "outputs": [
    {
     "name": "stdout",
     "output_type": "stream",
     "text": [
      "\n",
      "\n",
      "1 prathamamadhyayanam (dumapupphiyā.) /\n",
      "\n",
      "dhammo maṅgalamukkaṭhaṃ | ahiṃsā saṃjamo tavo /\n",
      "devā vi taṃ namaṃsanti | jassa dhamme sayā maṇo \n",
      "jahā dumassa pupphesu | bhamaro āviyai rasaṃ /\n",
      "na ya pupphaṃ kilāmei | so ya pīṇei appayaṃ \n",
      "emee samaṇā muttā | je loe santi sāhuṇo /\n",
      "vihaṃgamā va pupphesu | dāṇa-bhattesaṇe rayā \n",
      "vayaṃ ca vittiṃ labbhāmo | na ya koi uvahammaī /\n",
      "ahāgaḍesu rīyante | pupphesu bhamarā jahā \n",
      "mahukāra-samā buddhā | je bhavanti aṇissiyā /\n",
      "nāṇā-piṇḍa-rayā dantā, | teṇa vuccantisāhuṇo  tti bemi ||\n",
      "|| prathamamadhyayanam \n",
      "\n",
      " Dasaveyāliya: 2 dvitīyamadhyayanam (sāmaṇṇapuvvagaṃ.) /\n",
      "\n",
      "kahaṃ nu kujjā sāmaṇṇaṃ | jo kāme na nivārae /\n",
      "pae pae visīyanto | saṃkappassa vasaṃ gao? \n",
      "vattha-gandhamalaṃkāraṃ | itthīo sayaṇāṇi ya /\n",
      "acchandā je na bhuñjanti | na se \"cāi\" tti vuccaī \n",
      "je ya kante pie bhoe | laddhe vippiṭhi-kuvvaī /\n",
      "sāhīṇe cayai bhoe | se hu \"cāi\" tti vuccaī \n",
      "  samāe pehāe parivvayanto | siyā maṇo nissaraī bahiddhā, /\n",
      "  \"na sā mahaṃ no vi ahaṃ pi tīse\" | icceva tāo viṇaejja rāgaṃ \n",
      "  āyāvayāhī! caya sogumallaṃ! | kāme kamāhī! kamiyaṃ khu dukkhaṃ /\n",
      "  chindāhi dosaṃ! viṇaejja rāgaṃ! | evaṃ suhī hohisi saṃparāe \n",
      "pakkhande jaliyaṃ joiṃ | dhūma-keuṃ durāsayaṃ /\n",
      "necchanti vantayaṃ bhottuṃ | kule jāyā agandhaṇe \n",
      "dhiratthu te jaso-kāmī | jo taṃ jīviya-kāraṇā /\n",
      "vantaṃ icchasi āveuṃ! | seyaṃ te maraṇaṃ bhave \n",
      "ahaṃ ca bhoga-rāyassa, | taṃ ca si andhavaṇhiṇo /\n",
      "mā kule gandhaṇā homo, | saṃjamaṃ nihuo cara \n",
      "jai taṃ kāhisi bhāvaṃ | jā jā dacchisi nārio /\n",
      "vāyāiddho vva haḍho | aṭhiyappā bhavissasi \n",
      "tīse so vayaṇaṃ soccā | saṃjayāe subhāsiyaṃ /\n",
      "aṅkuseṇa jahā nāgo | dhamme saṃpaḍivāio \n",
      "evaṃ karenti saṃbuddhā | paṇḍiyā paviyakkhaṇā /\n",
      "viṇiyaanti bhogesu | jahā se purisuttamo  tti bemi ||\n",
      "|| dvitīyamadhyayanam\n"
     ]
    }
   ],
   "source": [
    "prakrit_text_path = os.path.join(prakrit_corpus_path,'dasaveyu.txt')\n",
    "prakrit_text = open(prakrit_text_path,'r').read()\n",
    "print(prakrit_text[1225:2950])"
   ]
  },
  {
   "cell_type": "markdown",
   "metadata": {},
   "source": [
    "It is possible to analyse Prakrit texts in Devanagari. One can refer to Hindi or Sanskrit tutorials for more information."
   ]
  }
 ],
 "metadata": {
  "kernelspec": {
   "display_name": "Python 3",
   "language": "python",
   "name": "python3"
  },
  "language_info": {
   "codemirror_mode": {
    "name": "ipython",
    "version": 3
   },
   "file_extension": ".py",
   "mimetype": "text/x-python",
   "name": "python",
   "nbconvert_exporter": "python",
   "pygments_lexer": "ipython3",
   "version": "3.6.5"
  }
 },
 "nbformat": 4,
 "nbformat_minor": 2
}
