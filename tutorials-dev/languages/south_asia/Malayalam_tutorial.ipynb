{
 "cells": [
  {
   "cell_type": "markdown",
   "metadata": {},
   "source": [
    "# Malayalam with CLTK"
   ]
  },
  {
   "cell_type": "markdown",
   "metadata": {},
   "source": [
    "Use <b>CLTK</b> to analyze your Malayalam texts.\n",
    "<br>Let us start by setting `USER_PATH`"
   ]
  },
  {
   "cell_type": "code",
   "execution_count": 1,
   "metadata": {},
   "outputs": [],
   "source": [
    "import os\n",
    "USER_PATH = os.path.expanduser('~')"
   ]
  },
  {
   "cell_type": "markdown",
   "metadata": {},
   "source": [
    "Let us try to download a Malayalam corpora that is available remotely at CLTK's Github repo. To do this, first we will need an importer."
   ]
  },
  {
   "cell_type": "code",
   "execution_count": 2,
   "metadata": {},
   "outputs": [],
   "source": [
    "from cltk.corpus.utils.importer import CorpusImporter\n",
    "malayalam_downloader = CorpusImporter('malayalam')"
   ]
  },
  {
   "cell_type": "markdown",
   "metadata": {},
   "source": [
    "Once we have this, we can check the corpora available for download as follows:"
   ]
  },
  {
   "cell_type": "code",
   "execution_count": 3,
   "metadata": {},
   "outputs": [
    {
     "name": "stdout",
     "output_type": "stream",
     "text": [
      "['malayalam_text_gretil']\n"
     ]
    }
   ],
   "source": [
    "print(malayalam_downloader.list_corpora)"
   ]
  },
  {
   "cell_type": "markdown",
   "metadata": {},
   "source": [
    "Let us now download the <i>malayalam_text_gretil</i> corpus. "
   ]
  },
  {
   "cell_type": "code",
   "execution_count": 4,
   "metadata": {},
   "outputs": [],
   "source": [
    "malayalam_downloader.import_corpus('malayalam_text_gretil')"
   ]
  },
  {
   "cell_type": "markdown",
   "metadata": {},
   "source": [
    "The corpus has been downloaded to a directory in `cltk_data` , which resides in the `USER_PATH`. Let us open the text, <i>Jyotsnika</i>."
   ]
  },
  {
   "cell_type": "code",
   "execution_count": 5,
   "metadata": {},
   "outputs": [],
   "source": [
    "malayalam_corpus_path = os.path.join(USER_PATH, 'cltk_data/malayalam/text/malayalam_text_gretil/text')\n",
    "malayalam_text_path = os.path.join(malayalam_corpus_path,'jyotsniu.txt')\n",
    "malayalam_text = open(malayalam_text_path,'r').read()"
   ]
  },
  {
   "cell_type": "code",
   "execution_count": 6,
   "metadata": {},
   "outputs": [
    {
     "name": "stdout",
     "output_type": "stream",
     "text": [
      "\n",
      "jyōtsnikā viṣavaidyaṃ\n",
      "\n",
      "[1]abhivandanādhikāraṃ\n",
      "hariḥ ṣrī gaṇapatayē namaḥ\n",
      "avighnamastu\n",
      "\n",
      "maṃgaḷaṃ\n",
      "vandē varadamācāryyamantarāyōpaśāntayē  /\n",
      "gaṇanāthaṃ ca gōvindaṃ kumārakamalōtbhavau  // Jyo_1.1 //\n",
      "\n",
      "muṭiyil tiṅkaḷuṃ pāṃpuṃ maṭiyil gauriyuṃ sadā  /\n",
      "kuṭi koṇṭoru dēvantannaṭiyāṃ paṅkajam bhajē  // Jyo_1.2 //\n",
      "\n",
      "gatvā svarggamatandritassuravaraṃ\n",
      "jitvā sudhāṃ bāhubhirddhṛtvā\n",
      "mātaramētya vidrutataraṃ\n",
      "datvāśu tasyai tataḥ\n",
      "hṛtvā dāsyamanēkakadrutanayān\n",
      "hatvā muhurmmātaraṃ\n",
      "natvā yastu virājatē tamaniśaṃ\n",
      "vandē khagādhīśvaraṃ  // Jyo_1.3 //\n",
      "\n",
      "yēnaviṣṇōrddhvajaṃ sākṣādrājatē paramātmanaḥ  /\n",
      "tasmai namōstu satataṃ garuḍāya mahātmanē  // Jyo_1.4 //\n",
      "\n",
      "\n",
      "pratijñā\n",
      "viṣapīḍitarāyuḷḷa narāṇāṃ hitasiddhayē  /\n",
      "taccikitsāṃ pravakṣyāmi prasannāstu sarasvatī  // Jyo_1.5 //\n",
      "\n",
      "gurudēvadvijātīnāṃ bhaktaḥ śuddhō dayāparaḥ  /\n",
      "svakarmmābhirataḥ kuryyāl garapīḍitarakṣaṇaṃ  // Jyo_1.6 //\n",
      "\n",
      "tathā bahujanadrōhaṃ ceyvōnuṃ brahmahāvinuṃ  /\n",
      "svadharmmācāramaryyādāhīnanuṃ dviṣatāmapi  // Jyo_1.7 //\n",
      "\n",
      "kṛtaghnabhīruśōkārttacaṇḍānāṃ vyagracētasāṃ  /\n",
      "gatāyuṣmānumavvaṇṇamavidhēyanumaṅṅine  // Jyo_1.8 //\n",
      "\n",
      "\n"
     ]
    }
   ],
   "source": [
    "print(malayalam_text[1930:2998]) #indices adjusted"
   ]
  },
  {
   "cell_type": "markdown",
   "metadata": {},
   "source": [
    "## Transliterations"
   ]
  },
  {
   "cell_type": "markdown",
   "metadata": {},
   "source": [
    "Transliterations of Malayalam text from Malayalam to other scripts, indicizing ITRANS-transliteration and romanizing Malayalam script can be done. Let us convert a sample text from Malayalam to Hindi."
   ]
  },
  {
   "cell_type": "code",
   "execution_count": 7,
   "metadata": {},
   "outputs": [
    {
     "data": {
      "text/plain": [
       "'कायिक'"
      ]
     },
     "execution_count": 7,
     "metadata": {},
     "output_type": "execute_result"
    }
   ],
   "source": [
    "from cltk.corpus.sanskrit.itrans.unicode_transliterate import UnicodeIndicTransliterator\n",
    "malayalam_text_two = 'കായിക'\n",
    "UnicodeIndicTransliterator.transliterate(malayalam_text_two,'ml','hi') ##transliterating to hindi"
   ]
  },
  {
   "cell_type": "markdown",
   "metadata": {},
   "source": [
    "Now, let us try transliterating ITRANS-transliteration of `അവിഘ്നമസ്തു` to Malayalam.."
   ]
  },
  {
   "cell_type": "code",
   "execution_count": 8,
   "metadata": {},
   "outputs": [
    {
     "data": {
      "text/plain": [
       "'അവിഘ്നമസ്തു'"
      ]
     },
     "execution_count": 8,
     "metadata": {},
     "output_type": "execute_result"
    }
   ],
   "source": [
    "from cltk.corpus.sanskrit.itrans.unicode_transliterate import ItransTransliterator\n",
    "ItransTransliterator.from_itrans('avighnamastu','ml')"
   ]
  },
  {
   "cell_type": "markdown",
   "metadata": {},
   "source": [
    "Similiarly, we can romanize the Malayalam words as follows:"
   ]
  },
  {
   "cell_type": "code",
   "execution_count": 9,
   "metadata": {},
   "outputs": [
    {
     "data": {
      "text/plain": [
       "'tasyai'"
      ]
     },
     "execution_count": 9,
     "metadata": {},
     "output_type": "execute_result"
    }
   ],
   "source": [
    "from cltk.corpus.sanskrit.itrans.unicode_transliterate import ItransTransliterator\n",
    "ItransTransliterator.to_itrans('തസ്യൈ','ml')"
   ]
  },
  {
   "cell_type": "markdown",
   "metadata": {},
   "source": [
    "## Syllabifier"
   ]
  },
  {
   "cell_type": "markdown",
   "metadata": {},
   "source": [
    "We can use the indian_syllabifier to syllabify the Malayalam sentences. To do this, we will have to import models as follows. The importing of `sanskrit_models_cltk` might take some time."
   ]
  },
  {
   "cell_type": "code",
   "execution_count": 10,
   "metadata": {},
   "outputs": [],
   "source": [
    "phonetics_model_importer = CorpusImporter('sanskrit')\n",
    "phonetics_model_importer.list_corpora\n",
    "phonetics_model_importer.import_corpus('sanskrit_models_cltk') "
   ]
  },
  {
   "cell_type": "markdown",
   "metadata": {},
   "source": [
    "Now we import the syllabifier and syllabify as follows:"
   ]
  },
  {
   "cell_type": "code",
   "execution_count": 11,
   "metadata": {},
   "outputs": [],
   "source": [
    "%%capture\n",
    "from cltk.stem.sanskrit.indian_syllabifier import Syllabifier\n",
    "malayalam_syllabifier = Syllabifier('malayalam')\n",
    "malayalam_syllables = malayalam_syllabifier.orthographic_syllabify('ജാലവിദ്യ')"
   ]
  },
  {
   "cell_type": "markdown",
   "metadata": {},
   "source": [
    "The syllables of the word ജാലവിദ്യ will thus be:"
   ]
  },
  {
   "cell_type": "code",
   "execution_count": 12,
   "metadata": {},
   "outputs": [
    {
     "name": "stdout",
     "output_type": "stream",
     "text": [
      "['ജാ', 'ല', 'വി', 'ദ്യ']\n"
     ]
    }
   ],
   "source": [
    "print(malayalam_syllables)"
   ]
  }
 ],
 "metadata": {
  "kernelspec": {
   "display_name": "Python 3",
   "language": "python",
   "name": "python3"
  },
  "language_info": {
   "codemirror_mode": {
    "name": "ipython",
    "version": 3
   },
   "file_extension": ".py",
   "mimetype": "text/x-python",
   "name": "python",
   "nbconvert_exporter": "python",
   "pygments_lexer": "ipython3",
   "version": "3.6.5"
  }
 },
 "nbformat": 4,
 "nbformat_minor": 2
}
