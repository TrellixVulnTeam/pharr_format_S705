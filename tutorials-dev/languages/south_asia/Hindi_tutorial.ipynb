{
 "cells": [
  {
   "cell_type": "markdown",
   "metadata": {},
   "source": [
    "# Hindi with CLTK"
   ]
  },
  {
   "cell_type": "markdown",
   "metadata": {},
   "source": [
    "Analyse hindi texts using CLTK! <br>\n",
    "Firstly, we need to add the path where our corpora will reside."
   ]
  },
  {
   "cell_type": "code",
   "execution_count": 1,
   "metadata": {},
   "outputs": [],
   "source": [
    "import os\n",
    "USER_PATH = os.path.expanduser('~')"
   ]
  },
  {
   "cell_type": "markdown",
   "metadata": {},
   "source": [
    "Before we begin analysing the texts, we will need to download the Hindi corpora, for which, we will be using an Importer. Call the importer to download Hindi texts, as follows.. "
   ]
  },
  {
   "cell_type": "code",
   "execution_count": 2,
   "metadata": {},
   "outputs": [],
   "source": [
    "from cltk.corpus.utils.importer import CorpusImporter\n",
    "hindi_corpus_importer = CorpusImporter('hindi')"
   ]
  },
  {
   "cell_type": "markdown",
   "metadata": {},
   "source": [
    "You can view which corpora to download by calling list_corpora() method"
   ]
  },
  {
   "cell_type": "code",
   "execution_count": 3,
   "metadata": {},
   "outputs": [
    {
     "data": {
      "text/plain": [
       "['hindi_text_ltrc']"
      ]
     },
     "execution_count": 3,
     "metadata": {},
     "output_type": "execute_result"
    }
   ],
   "source": [
    "hindi_corpus_importer.list_corpora"
   ]
  },
  {
   "cell_type": "code",
   "execution_count": 4,
   "metadata": {},
   "outputs": [],
   "source": [
    "hindi_corpus_importer.import_corpus('hindi_text_ltrc');"
   ]
  },
  {
   "cell_type": "markdown",
   "metadata": {},
   "source": [
    "It can be verified that the `hindi_text_ltrc` corpus is downloaded in a `cltk_data/hindi/text` folder which at the path given by `USER_PATH`. It is now possible to analyse the texts within. For this tutorial, let us analyse the text `Akiri Kalam` by the poet Malik Muhammad Jayasi, which is at the path as shown."
   ]
  },
  {
   "cell_type": "code",
   "execution_count": 5,
   "metadata": {},
   "outputs": [],
   "source": [
    "hindi_corpus_path = os.path.join(USER_PATH,'cltk_data/hindi/text/hindi_text_ltrc/')\n",
    "hindi_text_path = os.path.join(hindi_corpus_path,'JayasI/AKirIkalAm/main.u')\n",
    "hindi_text = open(hindi_text_path,'r').read()"
   ]
  },
  {
   "cell_type": "markdown",
   "metadata": {},
   "source": [
    "Let us see the first two stanzas of `hindi_text`"
   ]
  },
  {
   "cell_type": "code",
   "execution_count": 6,
   "metadata": {},
   "outputs": [
    {
     "name": "stdout",
     "output_type": "stream",
     "text": [
      "              आखरी कलाम\n",
      "\n",
      "पहिले नावँ दैउ कर लीन्हा । जेंइ जिउ दीन्ह, बोल मुख कीन्हा॥\n",
      "दीन्हेसि सिर जो सँवारै पागा । दीन्हेसि कया जो पहिरै बागा॥\n",
      "दीन्हेसि नयन जोति, उजियारा । दीन्हेसि देखै कहँ संसारा॥\n",
      "दीन्हेसि स्रवन बात जेहि सुनै । दीन्हेसि बुध्दि, ज्ञान बहु गुनै॥\n",
      "दीन्हेसि नासिक लीजै बासा । दीन्हेसि सुमन सुगंधा बिरासा॥\n",
      "दीन्हेसि जीभ बैन रस भाखै । दीन्हेसि भुगुति, साधा सब राखै॥\n",
      "दीन्हेसि दसन, सुरग कपोला । दीन्हेसि अधार जे रचैं तँबोला॥\n",
      "दीन्हेसि बदन सुरूप रँग, दीन्हेसि माथे भाग।\n",
      "देखि दयाल, 'मुहम्मद', सीस नाइ पद लाग॥1॥\n",
      "\n",
      "दीन्हेसि कंठ बोल जेहि माहाँ । दीन्हेसि भुजादंड, बल बाहाँ॥\n",
      "दीन्हेसि हिया भोग जेहि जमा । दीन्हेसि पाँच भूत, आतमा॥\n",
      "दीन्हेसि बदन सीत औ घामू । दीन्हेसि सुक्ख नींद बिसरामू॥\n",
      "दीन्हेसि हाथ चाह जस कीजै । दीन्हेसि कर पल्लव गहि लीजै॥\n",
      "दीन्हेसि रहस कूद बहुतेरा । दीन्हेसि हरष हिया बहु मेरा॥\n",
      "दीन्हेसि बैठक आसन मारै । दीन्हेसि बूत जो उठें सँभारैं॥\n",
      "दीन्हेसि सबै सँपूरन काया । दीन्हेसि होइ चलै कहँ पाया॥\n",
      "दीन्हेसि नौ नौ फाटका, दीन्हेसि दसवँ दुवार।\n",
      "सो अस दानि 'मुहम्मद' तिन्ह कै हौं बलिहार॥2॥\n",
      "\n",
      "\n"
     ]
    }
   ],
   "source": [
    "print(hindi_text[:990])"
   ]
  },
  {
   "cell_type": "markdown",
   "metadata": {},
   "source": [
    "## Tokenizing Sentences"
   ]
  },
  {
   "cell_type": "markdown",
   "metadata": {},
   "source": [
    "Let us tokenize the sentences in `hindi_text`."
   ]
  },
  {
   "cell_type": "code",
   "execution_count": 7,
   "metadata": {},
   "outputs": [
    {
     "name": "stdout",
     "output_type": "stream",
     "text": [
      "['आखरी', 'कलाम\\n\\nपहिले', 'नावँ', 'दैउ', 'कर', 'लीन्हा', '।', 'जेंइ', 'जिउ', 'दीन्ह', ',', 'बोल', 'मुख', 'कीन्हा', '॥', '\\nदीन्हेसि', 'सिर', 'जो', 'सँवारै', 'पागा', '।', 'दीन्हेसि', 'कया', 'जो', 'पहिरै', 'बागा', '॥', '\\nदीन्हेसि', 'नयन', 'जोति', ',', 'उजियारा', '।', 'दीन्हेसि', 'देखै', 'कहँ', 'संसारा', '॥', '\\nदीन्हेसि', 'स्रवन', 'बात', 'जेहि', 'सुनै', '।', 'दीन्हेसि', 'बुध्दि', ',', 'ज्ञान', 'बहु', 'गुनै']\n"
     ]
    }
   ],
   "source": [
    "from cltk.tokenize.sentence import TokenizeSentence\n",
    "hindi_tokenizer = TokenizeSentence('hindi')\n",
    "hindi_tokens = hindi_tokenizer.tokenize(hindi_text)\n",
    "print(hindi_tokens[:50])"
   ]
  },
  {
   "cell_type": "markdown",
   "metadata": {},
   "source": [
    "## Stopword filtering"
   ]
  },
  {
   "cell_type": "markdown",
   "metadata": {},
   "source": [
    "Stopwords list for Hindi can be found at `stop` module of cltk."
   ]
  },
  {
   "cell_type": "code",
   "execution_count": 8,
   "metadata": {},
   "outputs": [
    {
     "name": "stdout",
     "output_type": "stream",
     "text": [
      "['हें', 'है', 'हैं', 'हि', 'ही', 'हो', 'हे', 'से', 'अत', 'के']\n"
     ]
    }
   ],
   "source": [
    "from cltk.stop.classical_hindi.stops import STOPS_LIST\n",
    "print (STOPS_LIST[:10])"
   ]
  },
  {
   "cell_type": "markdown",
   "metadata": {},
   "source": [
    "Let us filter the `hindi_tokens` list for words that are not stop words."
   ]
  },
  {
   "cell_type": "code",
   "execution_count": 9,
   "metadata": {},
   "outputs": [
    {
     "name": "stdout",
     "output_type": "stream",
     "text": [
      "['आखरी', 'कलाम\\n\\nपहिले', 'नावँ', 'दैउ', 'कर']\n"
     ]
    }
   ],
   "source": [
    "hindi_tokens_no_stop  = [token for token in hindi_tokens if token not in STOPS_LIST]\n",
    "print(hindi_tokens_no_stop[:5])"
   ]
  },
  {
   "cell_type": "code",
   "execution_count": 10,
   "metadata": {},
   "outputs": [
    {
     "name": "stdout",
     "output_type": "stream",
     "text": [
      "6404\n",
      "5987\n"
     ]
    }
   ],
   "source": [
    "print(len(hindi_tokens))\n",
    "print(len(hindi_tokens_no_stop))"
   ]
  },
  {
   "cell_type": "markdown",
   "metadata": {},
   "source": [
    "As one can see, `hindi_tokens` had 6404 tokens whereas `hindi_tokens_no_stop` has 5987"
   ]
  },
  {
   "cell_type": "markdown",
   "metadata": {},
   "source": [
    "## Swadesh list for Hindi"
   ]
  },
  {
   "cell_type": "markdown",
   "metadata": {},
   "source": [
    "Swadesh list for Hindi can be obtained as follows:"
   ]
  },
  {
   "cell_type": "code",
   "execution_count": 11,
   "metadata": {},
   "outputs": [
    {
     "name": "stdout",
     "output_type": "stream",
     "text": [
      "['मैं', 'तू', 'वह', 'हम', 'तुम', 'वे', 'यह', 'वह', 'यहाँ', 'वहाँ', 'कौन', 'क्या', 'कहाँ', 'कब', 'कैसा', 'नहीं', 'सब', 'बहुत', 'कुछ', 'थोड़ा', 'दूसरा', 'एक', 'दो', 'तीन', 'चार', 'पाँच', 'बड़ा', 'लम्बा', 'चौड़ा', 'गाढ़ा', 'भारी', 'छोटा', 'छोटा', 'तंग', 'पतला', 'औरत', 'आदमी', 'इंसान', 'बच्चा', 'पत्नी', 'पति', 'माता', 'पिता', 'जानवर', 'मछली', 'चिड़िया', 'कुत्ता', 'जूँ', 'साँप', 'कीड़ा', 'पेड़', 'जंगल', 'डण्डा', 'फल', 'बीज', 'पत्ता', 'जड़', 'छाल', 'फूल', 'घास', 'रस्सी', 'त्वचा', 'माँस', 'ख़ून', 'हड्डी', 'चरबी', 'अंडा', 'सींग', 'पूँछ', 'पंख', 'बाल', 'सर', 'कान', 'आँख', 'नाक', 'मुँह', 'दाँत', 'जीभ', 'नाख़ुन', 'पैर', 'टांग', 'घुटना', 'हाथ', 'पंख', 'पेट', 'अंतड़ी', 'गरदन', 'पीठ', 'छाती', 'दिल', 'जिगर', 'पीना', 'खाना', 'काटना', 'चूसना', 'थूकना', 'उल्टी करना', 'फूँक मारना', 'साँस लेना', 'हँसना', 'देखना', 'सुनना', 'जानना', 'सोचना', 'सूंघना', '(से) डरना ((se) ḍarnā', 'सोना', 'जीना', 'मरना', 'मारना', 'लड़ना', 'शिकार करना', 'मारना', 'काटना', 'बंटना', 'भोंकना', 'खरोंचना', 'खोदना', 'तैरना', 'उड़ना', 'चलना', 'आना', 'लेटना', 'बैठना', 'खड़ा होना', 'मुड़ना', 'गिरना', 'देना', 'पकड़ना', 'घुसा देना', 'मलना', 'धोना', 'पोंछना', 'खींचना', 'धक्का देना', 'फेंकना', 'बाँधना', 'सीना', 'गिनना', 'कहना', 'गाना', 'खेलना', 'तैरना', 'बहना', 'जमना', 'सूजना', 'सूरज', 'चांद', 'तारा', 'पानी', 'बारिश', 'नदी', 'झील', 'समन्दर', 'नमक', 'पत्थर', 'रेत', 'धूल', 'धरती', 'बादल', 'धुंध', 'आसमान', 'हवा', 'बर्फ़', 'बर्फ़', 'धुआँ', 'आग', 'राख', 'जलना', 'सड़क', 'पहाड़', 'लाल', 'हरा', 'पीला', 'सफ़ेद', 'काला', 'रात', 'दिन', 'साल', 'गर्म', 'ठंडा', 'पूरा', 'नया', 'पुराना', 'अच्छा', 'बुरा', 'सड़ा', 'गन्दा', 'सीधा', 'गोल', 'तीखा', 'कुंद', 'चिकना', 'गीला', 'सूखा', 'सही', 'नज़दीक', 'दूर', 'दायाँ', 'बायाँ', 'पे', 'में', 'के साथ', 'और', 'अगर', 'क्योंकि', 'नाम']\n"
     ]
    }
   ],
   "source": [
    "from cltk.corpus.swadesh import Swadesh\n",
    "swadesh_list = Swadesh('hi')\n",
    "print(swadesh_list.words())"
   ]
  },
  {
   "cell_type": "markdown",
   "metadata": {},
   "source": [
    "## Transliterations"
   ]
  },
  {
   "cell_type": "markdown",
   "metadata": {},
   "source": [
    "We can transliterate Hindi scripts to that of other Indic languages. Let us transliterate ` फूल `to Malayalam:"
   ]
  },
  {
   "cell_type": "code",
   "execution_count": 12,
   "metadata": {},
   "outputs": [
    {
     "data": {
      "text/plain": [
       "' ഫൂല '"
      ]
     },
     "execution_count": 12,
     "metadata": {},
     "output_type": "execute_result"
    }
   ],
   "source": [
    "from cltk.corpus.sanskrit.itrans.unicode_transliterate import UnicodeIndicTransliterator\n",
    "UnicodeIndicTransliterator.transliterate(' फूल ',\"hi\",\"ml\")"
   ]
  },
  {
   "cell_type": "markdown",
   "metadata": {},
   "source": [
    "We can also romanize the text as shown:"
   ]
  },
  {
   "cell_type": "code",
   "execution_count": 13,
   "metadata": {},
   "outputs": [
    {
     "data": {
      "text/plain": [
       "'paDha़naa eka achChii aadata hai.'"
      ]
     },
     "execution_count": 13,
     "metadata": {},
     "output_type": "execute_result"
    }
   ],
   "source": [
    "hindi_text_two = 'पढ़ना एक अच्छी आदत है।'\n",
    "from cltk.corpus.sanskrit.itrans.unicode_transliterate import ItransTransliterator\n",
    "ItransTransliterator.to_itrans(hindi_text_two,'hi')"
   ]
  },
  {
   "cell_type": "markdown",
   "metadata": {},
   "source": [
    "Similarly, we can indicize a text given in its ITRANS-transliteration"
   ]
  },
  {
   "cell_type": "code",
   "execution_count": 14,
   "metadata": {},
   "outputs": [
    {
     "data": {
      "text/plain": [
       "'भाषा विचारों को व्यक्त करने का माध्यम है'"
      ]
     },
     "execution_count": 14,
     "metadata": {},
     "output_type": "execute_result"
    }
   ],
   "source": [
    "hindi_text_itrans = 'bhaashhaa wichaaro.m ko wyakta karane kaa maadhyama hai'\n",
    "ItransTransliterator.from_itrans(hindi_text_itrans,'hi')"
   ]
  },
  {
   "cell_type": "markdown",
   "metadata": {},
   "source": [
    "## Syllabifier"
   ]
  },
  {
   "cell_type": "markdown",
   "metadata": {},
   "source": [
    "We can use the `indian_syllabifier` to syllabify the Hindi sentences. To do this, we will have to import models as follows. The importing of `sanskrit_models_cltk` might take some time."
   ]
  },
  {
   "cell_type": "code",
   "execution_count": 15,
   "metadata": {
    "scrolled": true
   },
   "outputs": [],
   "source": [
    "phonetics_model_importer = CorpusImporter('sanskrit')\n",
    "phonetics_model_importer.list_corpora\n",
    "phonetics_model_importer.import_corpus('sanskrit_models_cltk') "
   ]
  },
  {
   "cell_type": "markdown",
   "metadata": {},
   "source": [
    "Now we import the syllabifier and syllabify as follows:"
   ]
  },
  {
   "cell_type": "code",
   "execution_count": 16,
   "metadata": {},
   "outputs": [],
   "source": [
    "%%capture\n",
    "from cltk.stem.sanskrit.indian_syllabifier import Syllabifier\n",
    "hindi_syllabifier = Syllabifier('hindi')\n",
    "hindi_syllables = hindi_syllabifier.orthographic_syllabify('पुस्तकालय')"
   ]
  },
  {
   "cell_type": "markdown",
   "metadata": {},
   "source": [
    "The syllables of the word पुस्तकालय will thus be:"
   ]
  },
  {
   "cell_type": "code",
   "execution_count": 17,
   "metadata": {},
   "outputs": [
    {
     "name": "stdout",
     "output_type": "stream",
     "text": [
      "['पु', 'स्त', 'का', 'ल', 'य']\n"
     ]
    }
   ],
   "source": [
    "print(hindi_syllables)"
   ]
  }
 ],
 "metadata": {
  "kernelspec": {
   "display_name": "Python 3",
   "language": "python",
   "name": "python3"
  },
  "language_info": {
   "codemirror_mode": {
    "name": "ipython",
    "version": 3
   },
   "file_extension": ".py",
   "mimetype": "text/x-python",
   "name": "python",
   "nbconvert_exporter": "python",
   "pygments_lexer": "ipython3",
   "version": "3.6.5"
  }
 },
 "nbformat": 4,
 "nbformat_minor": 2
}
