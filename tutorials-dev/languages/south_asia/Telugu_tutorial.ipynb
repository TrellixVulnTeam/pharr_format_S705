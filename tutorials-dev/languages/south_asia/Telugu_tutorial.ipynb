{
 "cells": [
  {
   "cell_type": "markdown",
   "metadata": {},
   "source": [
    "# Telugu with CLTK"
   ]
  },
  {
   "cell_type": "markdown",
   "metadata": {},
   "source": [
    "A quick overview of how you can analyse your Telugu texts with <b>CLTK</b> ! <br>\n",
    "Let's begin by adding the `USER_PATH`.."
   ]
  },
  {
   "cell_type": "code",
   "execution_count": 1,
   "metadata": {},
   "outputs": [],
   "source": [
    "import os\n",
    "USER_PATH = os.path.expanduser('~')"
   ]
  },
  {
   "cell_type": "markdown",
   "metadata": {},
   "source": [
    "In order to be able to download Telugu texts from CLTK's Github repo, we will require an importer."
   ]
  },
  {
   "cell_type": "code",
   "execution_count": 2,
   "metadata": {},
   "outputs": [],
   "source": [
    "from cltk.corpus.utils.importer import CorpusImporter\n",
    "telugu_downloader = CorpusImporter('telugu')"
   ]
  },
  {
   "cell_type": "markdown",
   "metadata": {},
   "source": [
    "We can now see the corpora available for download, by using `list_corpora` feature of the importer. Let's go ahead and try it out!"
   ]
  },
  {
   "cell_type": "code",
   "execution_count": 3,
   "metadata": {},
   "outputs": [
    {
     "data": {
      "text/plain": [
       "['telugu_text_wikisource']"
      ]
     },
     "execution_count": 3,
     "metadata": {},
     "output_type": "execute_result"
    }
   ],
   "source": [
    "telugu_downloader.list_corpora"
   ]
  },
  {
   "cell_type": "markdown",
   "metadata": {},
   "source": [
    "The corpus <i>telugu_text_wikisource</i> can be downloaded from the Github repo. The corpus will be downloaded to the directory `cltk_data/telugu` at the above mentioned `USER_PATH`"
   ]
  },
  {
   "cell_type": "code",
   "execution_count": 4,
   "metadata": {},
   "outputs": [],
   "source": [
    "telugu_downloader.import_corpus('telugu_text_wikisource')"
   ]
  },
  {
   "cell_type": "markdown",
   "metadata": {},
   "source": [
    "You can see the texts downloaded by doing the following, or checking out the `cltk_data/telugu/text/telugu_text_wikisource/texts` directory."
   ]
  },
  {
   "cell_type": "code",
   "execution_count": 5,
   "metadata": {},
   "outputs": [
    {
     "name": "stdout",
     "output_type": "stream",
     "text": [
      "['kumari_satakam', 'vemana_satakam', 'brahma_puranam', 'neeti_satakam', 'srimadbhagavatham', 'dwarakapathi_satakam', 'krishna_satakam', 'bharga_satakam', 'dasaradhi_satakam', 'ramachandarprabhu_satakam', 'molla_ramayanam', 'srungara_satakam', 'sri_kalahistiswara_satakam', 'siva_puranam', 'narasimha_satakam', 'vrushadhipa_satakam', 'sumathi_satakam', 'kumara_satakam', 'bhadadri_satakam', 'pothana_telugu_bhagavatham', 'narayana_satakam', 'bhaskara_satakam', 'mrutyunjaya_siva_satakam', 'suryasatakam', 'devakinandana_satakam', 'vairagya_satakam']\n"
     ]
    }
   ],
   "source": [
    "telugu_corpus_path = os.path.join(USER_PATH,'cltk_data/telugu/text/telugu_text_wikisource/texts')\n",
    "list_of_texts = [text for text in os.listdir(telugu_corpus_path) if '.' not in text]\n",
    "print(list_of_texts)"
   ]
  },
  {
   "cell_type": "markdown",
   "metadata": {},
   "source": [
    "Now that we have our texts, let's take a sample from one of them. For this tutorial, we shall be using <i>Kumari Satakam</i> by Pakki Venkata Narasimha Kavi."
   ]
  },
  {
   "cell_type": "code",
   "execution_count": 6,
   "metadata": {},
   "outputs": [
    {
     "name": "stdout",
     "output_type": "stream",
     "text": [
      "1. శ్రీ భూ నీళా హైమవ\n",
      "తీ భారతు లతుల శుభవ తిగ నెన్ను చు స \n",
      "త్సౌభాగ్యము నీ కొసగంగ\n",
      "లో భావించెదరు ధర్మ లోల కుమారీ!\n",
      "\n",
      "2. చెప్పెడి బుద్ధులలోపల\n",
      "దప్పకు మొక టైన సర్వ ధర్మములందున్\n",
      "మెప్పొంది యిహపరంబులన్\n",
      "దప్పింతయు లేక మెలగ దగును కుమారీ!\n",
      "\n",
      "3. ఆటల బాటలలోనే\n",
      "మాటయు రాకుండన్ దండ్రి మందిరమందున్\n",
      "బాటిల్లు గాపురములో\n",
      "వాట మెఱిగి బాల! తిరుగ వలయున్ గుమారీ!\n",
      "\n",
      "4. మగనికి నత్తకు మామకున్\n",
      "దగ సేవ యొనర్చుచోటన్ దత్పరిచర్యన్\n",
      "మిగుల నుతి బొందుచుండుట\n",
      "మగువలకున్ బాడి తెలిసి మసలు కుమారీ!\n"
     ]
    }
   ],
   "source": [
    "telugu_text_path = os.path.join(telugu_corpus_path,'kumari_satakam/satakam.txt')\n",
    "telugu_text = open(telugu_text_path,'r').read()\n",
    "print(telugu_text[:446])"
   ]
  },
  {
   "cell_type": "markdown",
   "metadata": {},
   "source": [
    "## Telugu Alphabets"
   ]
  },
  {
   "cell_type": "markdown",
   "metadata": {},
   "source": [
    "Telugu alphabets are grouped as follows:"
   ]
  },
  {
   "cell_type": "code",
   "execution_count": 7,
   "metadata": {},
   "outputs": [
    {
     "name": "stdout",
     "output_type": "stream",
     "text": [
      "NumeralS: ['౦', '౧', '౨', '౩', '౪\\t', '౫', '౬', '౭', '౮', '౯']\n",
      "Vowels: ['అ ', 'ఆ', 'ఇ', 'ఈ ', 'ఉ ', 'ఊ ', 'ఋ  ', 'ౠ  ', 'ఌ ', 'ౡ', 'ఎ', 'ఏ', 'ఐ', 'ఒ', 'ఓ', 'ఔ ', 'అం', 'అః']\n",
      "Consonants: ['క', 'ఖ', 'గ', 'ఘ', 'ఙచ', 'ఛ', 'జ', 'ఝ', 'ఞ', 'ట', 'ఠ', 'డ ', 'ఢ', 'ణ', 'త', 'థ', 'ద', 'ధ', 'న', 'ప', 'ఫ', 'బ', 'భ', 'మ', 'య', 'ర', 'ల', 'వ', 'శ', 'ష', 'స ', 'హ', 'ళ', 'క్ష ', 'ఱ']\n"
     ]
    }
   ],
   "source": [
    "from cltk.corpus.telugu.alphabet import *\n",
    "print(\"NumeralS:\",NUMERLALS)\n",
    "print(\"Vowels:\",VOWELS)\n",
    "print(\"Consonants:\",CONSONANTS)"
   ]
  },
  {
   "cell_type": "markdown",
   "metadata": {},
   "source": [
    "## Transliterations"
   ]
  },
  {
   "cell_type": "markdown",
   "metadata": {},
   "source": [
    "We can transliterate Telugu scripts to that of other Indic languages. Let us transliterate one of the lines from the above text,  `లో భావించెదరు ధర్మ లోల కుమారీ! `to Hindi:"
   ]
  },
  {
   "cell_type": "code",
   "execution_count": 8,
   "metadata": {},
   "outputs": [
    {
     "data": {
      "text/plain": [
       "'लो भाविंचॆदरु धर्म लोल कुमारी!'"
      ]
     },
     "execution_count": 8,
     "metadata": {},
     "output_type": "execute_result"
    }
   ],
   "source": [
    "telugu_text_two = 'లో భావించెదరు ధర్మ లోల కుమారీ!'\n",
    "from cltk.corpus.sanskrit.itrans.unicode_transliterate import UnicodeIndicTransliterator\n",
    "UnicodeIndicTransliterator.transliterate(telugu_text_two,\"te\",\"hi\")"
   ]
  },
  {
   "cell_type": "markdown",
   "metadata": {},
   "source": [
    "We can also romanize the text as shown:"
   ]
  },
  {
   "cell_type": "code",
   "execution_count": 9,
   "metadata": {},
   "outputs": [
    {
     "data": {
      "text/plain": [
       "'lo bhaawi.mch.edaru dharma lola kumaarii!'"
      ]
     },
     "execution_count": 9,
     "metadata": {},
     "output_type": "execute_result"
    }
   ],
   "source": [
    "from cltk.corpus.sanskrit.itrans.unicode_transliterate import ItransTransliterator\n",
    "ItransTransliterator.to_itrans(telugu_text_two,'te')"
   ]
  },
  {
   "cell_type": "markdown",
   "metadata": {},
   "source": [
    "Similarly, we can indicize a text given in its ITRANS-transliteration"
   ]
  },
  {
   "cell_type": "code",
   "execution_count": 10,
   "metadata": {},
   "outputs": [
    {
     "data": {
      "text/plain": [
       "'కుమారీ'"
      ]
     },
     "execution_count": 10,
     "metadata": {},
     "output_type": "execute_result"
    }
   ],
   "source": [
    "telugu_text_itrans = 'kumaarii'\n",
    "ItransTransliterator.from_itrans(telugu_text_itrans,'te')"
   ]
  },
  {
   "cell_type": "markdown",
   "metadata": {},
   "source": [
    "## Syllabifier"
   ]
  },
  {
   "cell_type": "markdown",
   "metadata": {},
   "source": [
    "We can use the indian_syllabifier to syllabify the Telugu sentences. To do this, we will have to import models as follows. The importing of `sanskrit_models_cltk` might take some time."
   ]
  },
  {
   "cell_type": "code",
   "execution_count": 11,
   "metadata": {
    "scrolled": true
   },
   "outputs": [],
   "source": [
    "phonetics_model_importer = CorpusImporter('sanskrit')\n",
    "phonetics_model_importer.list_corpora\n",
    "phonetics_model_importer.import_corpus('sanskrit_models_cltk') "
   ]
  },
  {
   "cell_type": "markdown",
   "metadata": {},
   "source": [
    "Now we import the syllabifier and syllabify as follows:"
   ]
  },
  {
   "cell_type": "code",
   "execution_count": 12,
   "metadata": {},
   "outputs": [],
   "source": [
    "%%capture\n",
    "from cltk.stem.sanskrit.indian_syllabifier import Syllabifier\n",
    "telugu_syllabifier = Syllabifier('telegu')\n",
    "telugu_syllables = telugu_syllabifier.orthographic_syllabify('కుమారీ')"
   ]
  },
  {
   "cell_type": "markdown",
   "metadata": {},
   "source": [
    "The syllables of the word `'కుమారీ'` will thus be:"
   ]
  },
  {
   "cell_type": "code",
   "execution_count": 13,
   "metadata": {},
   "outputs": [
    {
     "name": "stdout",
     "output_type": "stream",
     "text": [
      "['కు', 'మా', 'రీ']\n"
     ]
    }
   ],
   "source": [
    "print(telugu_syllables)"
   ]
  }
 ],
 "metadata": {
  "kernelspec": {
   "display_name": "Python 3",
   "language": "python",
   "name": "python3"
  },
  "language_info": {
   "codemirror_mode": {
    "name": "ipython",
    "version": 3
   },
   "file_extension": ".py",
   "mimetype": "text/x-python",
   "name": "python",
   "nbconvert_exporter": "python",
   "pygments_lexer": "ipython3",
   "version": "3.6.5"
  }
 },
 "nbformat": 4,
 "nbformat_minor": 2
}
