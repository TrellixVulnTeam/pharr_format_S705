{
 "cells": [
  {
   "cell_type": "markdown",
   "metadata": {},
   "source": [
    "# Marathi with CLTK"
   ]
  },
  {
   "cell_type": "markdown",
   "metadata": {},
   "source": [
    "Analyse marathi texts using CLTK! <br>\n",
    "Firstly, we need to add the path where our corpora will reside."
   ]
  },
  {
   "cell_type": "code",
   "execution_count": 1,
   "metadata": {},
   "outputs": [],
   "source": [
    "import os\n",
    "USER_PATH = os.path.expanduser('~')"
   ]
  },
  {
   "cell_type": "markdown",
   "metadata": {},
   "source": [
    "Before we begin analysing the texts, we will need to download the marathi corpora, for which, we will be using an Importer. Call the importer to download marathi texts, as follows.. "
   ]
  },
  {
   "cell_type": "code",
   "execution_count": 2,
   "metadata": {},
   "outputs": [],
   "source": [
    "from cltk.corpus.utils.importer import CorpusImporter\n",
    "marathi_corpus_importer = CorpusImporter('marathi')"
   ]
  },
  {
   "cell_type": "markdown",
   "metadata": {},
   "source": [
    "You can view which corpora to download by calling list_corpora() method"
   ]
  },
  {
   "cell_type": "code",
   "execution_count": 3,
   "metadata": {},
   "outputs": [
    {
     "data": {
      "text/plain": [
       "['marathi_text_wikisource']"
      ]
     },
     "execution_count": 3,
     "metadata": {},
     "output_type": "execute_result"
    }
   ],
   "source": [
    "marathi_corpus_importer.list_corpora"
   ]
  },
  {
   "cell_type": "code",
   "execution_count": 4,
   "metadata": {},
   "outputs": [],
   "source": [
    "marathi_corpus_importer.import_corpus('marathi_text_wikisource');"
   ]
  },
  {
   "cell_type": "markdown",
   "metadata": {},
   "source": [
    "It can be verified that the `marathi_text_wikisource` corpus is downloaded in a `cltk_data/marathi/text` folder which at the path given by `USER_PATH`. It is now possible to analyse the texts within. See what datasets are available as shown:"
   ]
  },
  {
   "cell_type": "code",
   "execution_count": 5,
   "metadata": {},
   "outputs": [
    {
     "name": "stdout",
     "output_type": "stream",
     "text": [
      "['dnyaneshwari', 'haripath']\n"
     ]
    }
   ],
   "source": [
    "marathi_corpus_path = os.path.join(USER_PATH,'cltk_data/marathi/text/marathi_text_wikisource/datasets')\n",
    "print(os.listdir(marathi_corpus_path))"
   ]
  },
  {
   "cell_type": "markdown",
   "metadata": {},
   "source": [
    "For this tutorial, let us analyse the texts by poet Dnyaneshwari, which is at the path as shown."
   ]
  },
  {
   "cell_type": "code",
   "execution_count": 6,
   "metadata": {},
   "outputs": [],
   "source": [
    "marathi_text_path = os.path.join(marathi_corpus_path,'dnyaneshwari')\n",
    "marathi_chapters = []\n",
    "for filename in os.listdir(marathi_text_path):\n",
    "    with open(os.path.join(marathi_text_path,filename),'r') as file:\n",
    "        chapter_text = file.read()\n",
    "        marathi_chapters.append(chapter_text)"
   ]
  },
  {
   "cell_type": "markdown",
   "metadata": {},
   "source": [
    "Let us see take the first 1005 characters of the first chapter for the analysis.."
   ]
  },
  {
   "cell_type": "code",
   "execution_count": 7,
   "metadata": {},
   "outputs": [
    {
     "name": "stdout",
     "output_type": "stream",
     "text": [
      " ॥ ॐ श्री परमात्मने नमः ॥ ॥ अथ श्रीमद्भगवद्गीता ॥ । अश्टादशोऽध्यायः - अध्याय अठरावा । । । मोक्षसंज्ञासयोगः ।\n",
      "जयजय देव निर्मळ । निजजनाखिलमंगळ । जन्मजराजलदजाळ । प्रभंजन ॥ १ ॥ जयजय देव प्रबळ । विदळितामंगळकुळ । निगमागमद्रुमफळ । फलप्रद ॥ २ ॥ जयजय देव सकल । विगतविषयवत्सल । कलितकाळकौतूहल । कलातीत ॥ ३ ॥ जयजय देव निश्चळ । चलितचित्तपानतुंदिल । जगदुन्मीलनाविरल । केलिप्रिय ॥ ४ ॥ जयजय देव निष्कळ । स्फुरदमंदानंदबहळ । नित्यनिरस्ताखिलमळ । मूळभूत ॥ ५ ॥ जयजय देव स्वप्रभ । जगदंबुदगर्भनभ । भुवनोद्भवारंभस्तंभ । भवध्वंस ॥ ६ ॥ जयजय देव विशुद्ध । विदुदयोद्यानद्विरद । शमदम\\-मदनमदभेद । दयार्णव ॥ ७ ॥ जयजय देवैकरूप । अतिकृतकंदर्पसर्पदर्प । भक्तभावभुवनदीप । तापापह ॥ ८ ॥ जयजय देव अद्वितीय । परीणतोपरमैकप्रिय । निजजनजित भजनीय । मायागम्य ॥ ९ ॥ जयजय देव श्रीगुरो । अकल्पनाख्यकल्पतरो । स्वसंविद्रुमबीजप्ररो । हणावनी ॥ १० ॥ हे काय एकैक ऐसैसें । नानापरीभाषावशें । स्तोत्र करूं तुजोद्देशें । निर्विशेषा ॥ ११ ॥ जिहींं विशेषणीं विशेषिजे । तें दृश्य नव्हे रूप तुझें । हें जाणें मी म्हणौनि लाजें । वानणा इहीं ॥ १२ ॥ परी मर्यादेचा सागरु ।\n"
     ]
    }
   ],
   "source": [
    "marathi_text = marathi_chapters[0]\n",
    "print(marathi_text[:1005])"
   ]
  },
  {
   "cell_type": "markdown",
   "metadata": {},
   "source": [
    "## Tokenizing Sentences"
   ]
  },
  {
   "cell_type": "markdown",
   "metadata": {},
   "source": [
    "Let us tokenize the sentences in `marathi_text`."
   ]
  },
  {
   "cell_type": "code",
   "execution_count": 8,
   "metadata": {},
   "outputs": [
    {
     "name": "stdout",
     "output_type": "stream",
     "text": [
      "['॥', 'ॐ', 'श्री', 'परमात्मने', 'नमः', '॥', '॥', 'अथ', 'श्रीमद्भगवद्गीता', '॥', '।', 'अश्टादशोऽध्यायः', '-', 'अध्याय', 'अठरावा', '।', '।', '।', 'मोक्षसंज्ञासयोगः', '।', '\\nजयजय', 'देव', 'निर्मळ', '।', 'निजजनाखिलमंगळ', '।', 'जन्मजराजलदजाळ', '।', 'प्रभंजन', '॥', '१', '॥', 'जयजय', 'देव', 'प्रबळ', '।', 'विदळितामंगळकुळ', '।', 'निगमागमद्रुमफळ', '।', 'फलप्रद', '॥', '२', '॥', 'जयजय', 'देव', 'सकल', '।', 'विगतविषयवत्सल', '।']\n"
     ]
    }
   ],
   "source": [
    "from cltk.tokenize.sentence import TokenizeSentence\n",
    "marathi_tokenizer = TokenizeSentence('marathi')\n",
    "marathi_tokens = marathi_tokenizer.tokenize(marathi_text)\n",
    "print(marathi_tokens[:50])"
   ]
  },
  {
   "cell_type": "markdown",
   "metadata": {},
   "source": [
    "## Stopword filtering"
   ]
  },
  {
   "cell_type": "markdown",
   "metadata": {},
   "source": [
    "Stopwords list for marathi can be found at `stop` module of cltk."
   ]
  },
  {
   "cell_type": "code",
   "execution_count": 9,
   "metadata": {},
   "outputs": [
    {
     "name": "stdout",
     "output_type": "stream",
     "text": [
      "['न', 'तरी', 'तो', 'हें', 'तें', 'कां', 'आणि', 'जें', 'जे', 'मग']\n"
     ]
    }
   ],
   "source": [
    "from cltk.stop.marathi.stops import STOP_LIST\n",
    "print (STOP_LIST[:10])"
   ]
  },
  {
   "cell_type": "markdown",
   "metadata": {},
   "source": [
    "Let us filter the `marathi_tokens` list for words that are not stop words."
   ]
  },
  {
   "cell_type": "code",
   "execution_count": 10,
   "metadata": {},
   "outputs": [
    {
     "name": "stdout",
     "output_type": "stream",
     "text": [
      "['॥', 'ॐ', 'श्री', 'परमात्मने', 'नमः']\n"
     ]
    }
   ],
   "source": [
    "marathi_tokens_no_stop  = [token for token in marathi_tokens if token not in STOP_LIST]\n",
    "print(marathi_tokens_no_stop[:5])"
   ]
  },
  {
   "cell_type": "code",
   "execution_count": 11,
   "metadata": {},
   "outputs": [
    {
     "name": "stdout",
     "output_type": "stream",
     "text": [
      "33475\n",
      "27835\n"
     ]
    }
   ],
   "source": [
    "print(len(marathi_tokens))\n",
    "print(len(marathi_tokens_no_stop))"
   ]
  },
  {
   "cell_type": "markdown",
   "metadata": {},
   "source": [
    "As one can see, `marathi_tokens` had 33475 tokens whereas `marathi_tokens_no_stop` has 27835"
   ]
  },
  {
   "cell_type": "markdown",
   "metadata": {},
   "source": [
    "## Transliterations"
   ]
  },
  {
   "cell_type": "markdown",
   "metadata": {},
   "source": [
    "We can transliterate marathi scripts to that of other Indic languages. Let us transliterate ` शब्दकोश `to Gujarati:"
   ]
  },
  {
   "cell_type": "code",
   "execution_count": 12,
   "metadata": {},
   "outputs": [
    {
     "data": {
      "text/plain": [
       "' શબ્દકોશ '"
      ]
     },
     "execution_count": 12,
     "metadata": {},
     "output_type": "execute_result"
    }
   ],
   "source": [
    "from cltk.corpus.sanskrit.itrans.unicode_transliterate import UnicodeIndicTransliterator\n",
    "UnicodeIndicTransliterator.transliterate(' शब्दकोश ',\"mr\",\"gu\")"
   ]
  },
  {
   "cell_type": "markdown",
   "metadata": {},
   "source": [
    "We can also romanize the text as shown:"
   ]
  },
  {
   "cell_type": "code",
   "execution_count": 13,
   "metadata": {},
   "outputs": [
    {
     "data": {
      "text/plain": [
       "'tulasii aushhadhii wanaspatii aahe'"
      ]
     },
     "execution_count": 13,
     "metadata": {},
     "output_type": "execute_result"
    }
   ],
   "source": [
    "marathi_text_two = 'तुलसी औषधी वनस्पती आहे'\n",
    "from cltk.corpus.sanskrit.itrans.unicode_transliterate import ItransTransliterator\n",
    "ItransTransliterator.to_itrans(marathi_text_two,'mr')"
   ]
  },
  {
   "cell_type": "markdown",
   "metadata": {},
   "source": [
    "Similarly, we can indicize a text given in its ITRANS-transliteration"
   ]
  },
  {
   "cell_type": "code",
   "execution_count": 14,
   "metadata": {},
   "outputs": [
    {
     "data": {
      "text/plain": [
       "'आपण दररोज एक पुस्तक वाचले पाहिजे।'"
      ]
     },
     "execution_count": 14,
     "metadata": {},
     "output_type": "execute_result"
    }
   ],
   "source": [
    "marathi_text_itrans = 'aapaNa dararoja eka pustaka waachale paahije.'\n",
    "ItransTransliterator.from_itrans(marathi_text_itrans,'mr')"
   ]
  },
  {
   "cell_type": "markdown",
   "metadata": {},
   "source": [
    "## Syllabifier"
   ]
  },
  {
   "cell_type": "markdown",
   "metadata": {},
   "source": [
    "We can use the `indian_syllabifier` to syllabify the Marathi sentences. To do this, we will have to import models as follows. The importing of `sanskrit_models_cltk` might take some time."
   ]
  },
  {
   "cell_type": "code",
   "execution_count": 15,
   "metadata": {
    "scrolled": true
   },
   "outputs": [],
   "source": [
    "phonetics_model_importer = CorpusImporter('sanskrit')\n",
    "phonetics_model_importer.list_corpora\n",
    "phonetics_model_importer.import_corpus('sanskrit_models_cltk') "
   ]
  },
  {
   "cell_type": "markdown",
   "metadata": {},
   "source": [
    "Now we import the syllabifier and syllabify as follows:"
   ]
  },
  {
   "cell_type": "code",
   "execution_count": 16,
   "metadata": {},
   "outputs": [],
   "source": [
    "%%capture\n",
    "from cltk.stem.sanskrit.indian_syllabifier import Syllabifier\n",
    "marathi_syllabifier = Syllabifier('marathi')\n",
    "marathi_syllables = marathi_syllabifier.orthographic_syllabify('इतिहास')"
   ]
  },
  {
   "cell_type": "markdown",
   "metadata": {},
   "source": [
    "The syllables of the word इतिहास will thus be:"
   ]
  },
  {
   "cell_type": "code",
   "execution_count": 17,
   "metadata": {},
   "outputs": [
    {
     "name": "stdout",
     "output_type": "stream",
     "text": [
      "['इ', 'ति', 'हा', 'स']\n"
     ]
    }
   ],
   "source": [
    "print(marathi_syllables)"
   ]
  },
  {
   "cell_type": "markdown",
   "metadata": {},
   "source": [
    "## Marathi Alphabets"
   ]
  },
  {
   "cell_type": "markdown",
   "metadata": {},
   "source": [
    "There are 13 vowels in Marathi, which can be printed out as follows:"
   ]
  },
  {
   "cell_type": "code",
   "execution_count": 18,
   "metadata": {},
   "outputs": [
    {
     "name": "stdout",
     "output_type": "stream",
     "text": [
      "Vowels:  ['अ', 'आ', 'इ', 'ई', 'उ', 'ऊ', 'ऋ', 'ए', 'ऐ', 'ओ', 'औ', 'अॅ', 'ऑ']\n",
      "IAST Representation of vowels:  ['a', 'ā', 'i', 'ī', 'u', 'ū', 'ṛ', 'e', 'ai', 'o', 'au', 'ae', 'ao']\n"
     ]
    }
   ],
   "source": [
    "from cltk.corpus.marathi.alphabet import *\n",
    "print(\"Vowels: \", VOWELS)\n",
    "print(\"IAST Representation of vowels: \",IAST_REPRESENTATION_VOWELS)"
   ]
  },
  {
   "cell_type": "markdown",
   "metadata": {},
   "source": [
    "Also, there are 25 consonnants divided into 5 groups or <i>vargas</i> :"
   ]
  },
  {
   "cell_type": "code",
   "execution_count": 19,
   "metadata": {},
   "outputs": [
    {
     "name": "stdout",
     "output_type": "stream",
     "text": [
      "Velar consonants: ['क', 'ख', 'ग', 'घ', 'ङ']\n",
      "IAST Representation of Velar consonants: ['k', 'kh', 'g', 'gh', 'ṅ']\n",
      "\n",
      "Palatal consonants: ['च', 'छ', 'ज', 'झ', 'ञ']\n",
      "IAST Representation of Palatal consonants: ['c', 'ch', 'j', 'jh', 'ñ']\n",
      "\n",
      "Retroflex consonants: ['ट', 'ठ', 'ड', 'ढ', 'ण']\n",
      "IAST Representation of Retroflex consonants: ['ṭ', 'ṭh', 'ḍ', 'ḍh', 'ṇ']\n",
      "\n",
      "Dental consonants: ['त', 'थ', 'द', 'ध', 'न']\n",
      "IAST Representation of Dental consonants: ['t', 'th', 'd', 'dh', 'n']\n",
      "\n",
      "Labial consonants: ['प', 'फ', 'ब', 'भ', 'म']\n",
      "IAST Representation of Labial consonants: ['p', 'ph', 'b', 'bh', 'm']\n"
     ]
    }
   ],
   "source": [
    "print(\"Velar consonants:\",VELAR_CONSONANTS)\n",
    "print(\"IAST Representation of Velar consonants:\",IAST_VELAR_CONSONANTS)\n",
    "print(\"\\nPalatal consonants:\",PALATAL_CONSONANTS)\n",
    "print(\"IAST Representation of Palatal consonants:\",IAST_PALATAL_CONSONANTS)\n",
    "print(\"\\nRetroflex consonants:\",RETROFLEX_CONSONANTS)\n",
    "print(\"IAST Representation of Retroflex consonants:\",IAST_RETROFLEX_CONSONANTS)\n",
    "print(\"\\nDental consonants:\",DENTAL_CONSONANTS)\n",
    "print(\"IAST Representation of Dental consonants:\",IAST_DENTAL_CONSONANTS)\n",
    "print(\"\\nLabial consonants:\",LABIAL_CONSONANTS)\n",
    "print(\"IAST Representation of Labial consonants:\",IAST_LABIAL_CONSONANTS)"
   ]
  },
  {
   "cell_type": "markdown",
   "metadata": {},
   "source": [
    "There are 4 semi-vowels, 3 sibilants, 1 fricative and 3 additional consonants in Marathi."
   ]
  },
  {
   "cell_type": "code",
   "execution_count": 20,
   "metadata": {},
   "outputs": [
    {
     "name": "stdout",
     "output_type": "stream",
     "text": [
      "Semi-vowels:  ['य', 'र', 'ल', 'व']\n",
      "IAST Representation of Semi-vowels:  ['y', 'r', 'l', 'w']\n",
      "\n",
      "Sibilants ['श', 'ष', 'स']\n",
      "IAST Representation of Sibilants ['ś', 'ṣ', 's']\n",
      "\n",
      "Fricative consonants: ['ह']\n",
      "IAST Representation of Fricative consonants: ['h']\n",
      "\n",
      "Additional consonants: ['ळ', 'क्ष', 'ज्ञ']\n",
      "IAST Representation of Additional consonants: ['La', 'kSha', 'dnya']\n"
     ]
    }
   ],
   "source": [
    "print(\"Semi-vowels: \",SEMI_VOWELS)\n",
    "print(\"IAST Representation of Semi-vowels: \",IAST_SEMI_VOWELS)\n",
    "\n",
    "print(\"\\nSibilants\",SIBILANTS)\n",
    "print(\"IAST Representation of Sibilants\",IAST_SIBILANTS)\n",
    "\n",
    "print(\"\\nFricative consonants:\",FRIACTIVE_CONSONANTS)\n",
    "print(\"IAST Representation of Fricative consonants:\",IAST_FRIACTIVE_CONSONANTS)\n",
    "\n",
    "print(\"\\nAdditional consonants:\",ADDITIONAL_CONSONANTS)\n",
    "print(\"IAST Representation of Additional consonants:\",IAST_ADDITIONAL_CONSONANTS)"
   ]
  },
  {
   "cell_type": "markdown",
   "metadata": {},
   "source": [
    "Following are the digits in the Marathi Script:"
   ]
  },
  {
   "cell_type": "code",
   "execution_count": 21,
   "metadata": {},
   "outputs": [
    {
     "name": "stdout",
     "output_type": "stream",
     "text": [
      "Digits: ['०', '१', '२', '३', '४', '५', '६', '७', '८', '९']\n"
     ]
    }
   ],
   "source": [
    "print(\"Digits:\",DIGITS)"
   ]
  }
 ],
 "metadata": {
  "kernelspec": {
   "display_name": "Python 3",
   "language": "python",
   "name": "python3"
  },
  "language_info": {
   "codemirror_mode": {
    "name": "ipython",
    "version": 3
   },
   "file_extension": ".py",
   "mimetype": "text/x-python",
   "name": "python",
   "nbconvert_exporter": "python",
   "pygments_lexer": "ipython3",
   "version": "3.6.5"
  }
 },
 "nbformat": 4,
 "nbformat_minor": 2
}
