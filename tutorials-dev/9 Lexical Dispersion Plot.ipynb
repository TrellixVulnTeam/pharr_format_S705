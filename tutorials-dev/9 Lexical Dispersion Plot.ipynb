{
 "cells": [
  {
   "cell_type": "markdown",
   "metadata": {},
   "source": [
    "# Creating a Lexical Dispersion Plot\n",
    "\n",
    "Given a piece of text, and a list of words, a lexical dispersion plot locates the occurrence of each of the words in the text."
   ]
  },
  {
   "cell_type": "code",
   "execution_count": 9,
   "metadata": {},
   "outputs": [
    {
     "name": "stdout",
     "output_type": "stream",
     "text": [
      "showing info https://raw.githubusercontent.com/nltk/nltk_data/gh-pages/index.xml\n"
     ]
    },
    {
     "data": {
      "text/plain": [
       "True"
      ]
     },
     "execution_count": 9,
     "metadata": {},
     "output_type": "execute_result"
    }
   ],
   "source": [
    "import nltk\n",
    "import ssl\n",
    "\n",
    "try:\n",
    "    _create_unverified_https_context = ssl._create_unverified_context\n",
    "except AttributeError:\n",
    "    pass\n",
    "else:\n",
    "    ssl._create_default_https_context = _create_unverified_https_context\n",
    "\n",
    "nltk.download()"
   ]
  },
  {
   "cell_type": "code",
   "execution_count": 2,
   "metadata": {},
   "outputs": [
    {
     "name": "stdout",
     "output_type": "stream",
     "text": [
      "Collecting matplotlib\n",
      "  Downloading matplotlib-3.3.2-cp37-cp37m-macosx_10_9_x86_64.whl (8.5 MB)\n",
      "\u001b[K     |████████████████████████████████| 8.5 MB 4.2 MB/s eta 0:00:01\n",
      "\u001b[?25hRequirement already satisfied: certifi>=2020.06.20 in /Users/aleedom/cltk/venv/lib/python3.7/site-packages (from matplotlib) (2020.6.20)\n",
      "Requirement already satisfied: python-dateutil>=2.1 in /Users/aleedom/cltk/venv/lib/python3.7/site-packages (from matplotlib) (2.8.1)\n",
      "Collecting numpy>=1.15\n",
      "  Downloading numpy-1.19.2-cp37-cp37m-macosx_10_9_x86_64.whl (15.3 MB)\n",
      "\u001b[K     |████████████████████████████████| 15.3 MB 41.7 MB/s eta 0:00:01\n",
      "\u001b[?25hRequirement already satisfied: pyparsing!=2.0.4,!=2.1.2,!=2.1.6,>=2.0.3 in /Users/aleedom/cltk/venv/lib/python3.7/site-packages (from matplotlib) (2.4.7)\n",
      "Collecting cycler>=0.10\n",
      "  Using cached cycler-0.10.0-py2.py3-none-any.whl (6.5 kB)\n",
      "Collecting pillow>=6.2.0\n",
      "  Downloading Pillow-7.2.0-cp37-cp37m-macosx_10_10_x86_64.whl (2.2 MB)\n",
      "\u001b[K     |████████████████████████████████| 2.2 MB 34.0 MB/s eta 0:00:01\n",
      "\u001b[?25hCollecting kiwisolver>=1.0.1\n",
      "  Downloading kiwisolver-1.2.0-cp37-cp37m-macosx_10_9_x86_64.whl (60 kB)\n",
      "\u001b[K     |████████████████████████████████| 60 kB 19.7 MB/s eta 0:00:01\n",
      "\u001b[?25hRequirement already satisfied: six>=1.5 in /Users/aleedom/cltk/venv/lib/python3.7/site-packages (from python-dateutil>=2.1->matplotlib) (1.15.0)\n",
      "Installing collected packages: numpy, cycler, pillow, kiwisolver, matplotlib\n",
      "Successfully installed cycler-0.10.0 kiwisolver-1.2.0 matplotlib-3.3.2 numpy-1.19.2 pillow-7.2.0\n"
     ]
    }
   ],
   "source": [
    "# Import modules\n",
    "\n",
    "import cltk\n",
    "from nltk.tokenize import word_tokenize \n",
    "from cltk.tokenize.word import WordTokenizer\n",
    "from cltk.tokenize.sentence import TokenizeSentence\n",
    "import matplotlib.pyplot as plt"
   ]
  },
  {
   "cell_type": "markdown",
   "metadata": {},
   "source": [
    "## Parameters \n",
    "\n",
    "We will define a function by the name of `dispersionPlot` taking three parameters, `text`, `words`, and `lang`:\n",
    "\n",
    "* `text`, a string: the text based on which the lexical distribution plot is to be drawn\n",
    "* `words`, a list of string: a list of words, whose distribution across the text is to be plotted\n",
    "* `lang`, a string: the ISO 639-1 code of the language of the text\n",
    "\n",
    "The function returns void, and prints the plot."
   ]
  },
  {
   "cell_type": "code",
   "execution_count": 10,
   "metadata": {},
   "outputs": [],
   "source": [
    "def dispersionPlot(text, words, lang):\n",
    "    languages = [\"en\",\"bn\",\"hi\",\"la\",\"sa\"]\n",
    "    indianLanguage = {\"bn\":\"bengali\",\"hi\":\"hindi\",\"sa\":\"sanskrit\"}\n",
    "    \"\"\"\n",
    "    en:English\n",
    "    bn:Bengali\n",
    "    hi:Hindi\n",
    "    la:Latin\n",
    "    sa:Sanskrit\n",
    "    \"\"\"\n",
    "    \n",
    "    if lang in languages:\n",
    "        if lang in [\"en\",\"la\"]:\n",
    "            tokens = word_tokenize(text.lower())\n",
    "            for i in range(0,len(words)):\n",
    "                words[i] = words[i].lower()\n",
    "        if lang in indianLanguage:\n",
    "            tokenizer = TokenizeSentence(indianLanguage[lang])\n",
    "            tokens= tokenizer.indian_punctuation_tokenize_regex(text)\n",
    "    \n",
    "    # Locating the matches of the words in the text.    \n",
    "        x_length = len(tokens)\n",
    "        y_length = len(words)\n",
    "        x_list = []\n",
    "        y_list = []\n",
    "        for i in range(0,x_length):\n",
    "            for j in range(0,y_length):\n",
    "                if tokens[i]==words[j]:\n",
    "                    x_list.append(i+1)\n",
    "                    y_list.append(j)\n",
    "    \n",
    "    #Creation of Dispersion Plot with Matplotlib's pyplot.         \n",
    "        plt.plot(x_list, y_list, \"b|\", scalex=.1)\n",
    "        plt.yticks(list(range(len(words))), words, color=\"b\")\n",
    "        plt.ylim(-1, len(words))\n",
    "        plt.xlabel(\"Lexical Distribution\")\n",
    "        plt.show()\n",
    "            \n",
    "    else:\n",
    "        print(\"Language not presently covered by CLTK or wrong language code\")"
   ]
  },
  {
   "cell_type": "markdown",
   "metadata": {},
   "source": [
    "## Explanation \n",
    "\n",
    "### Tokenisation\n",
    "Firstly, we check which language the function is present in. Then we try to sort them accordingly, sending the Indian ones one way, and English and Latin the other. Both these groups have been assigned their own separate tokenizer. We use the CLTK `TokenizeSentence()` for Indian languages and the NLTK `word_tokenize` method for the other two languages.\n",
    "\n",
    "### Locating Matches and Plotting\n",
    "This is a pretty straightforward task where we select matches from the text and store their positions in the text in order to display them on the graph. This is achieved using simple loops. It is followed by basic plotting and manipulating data points to produce the lexical dispersion plot."
   ]
  },
  {
   "cell_type": "code",
   "execution_count": 11,
   "metadata": {},
   "outputs": [
    {
     "data": {
      "image/png": "[encoded data removed]",
      "text/plain": [
       "<Figure size 432x288 with 1 Axes>"
      ]
     },
     "metadata": {
      "needs_background": "light"
     },
     "output_type": "display_data"
    }
   ],
   "source": [
    "# Test the function\n",
    "#if the import of punkt fails, do,\n",
    "#         import nltk\n",
    "#         nltk.download('punkt')\n",
    "\n",
    "text = \"Lorem ipsum dolor sit amet, consectetur adipiscing elit. Cras at maximus dui. Sed mauris ipsum, gravida id velit at, lobortis aliquam magna. Nam feugiat nibh eget cursus rutrum. Fusce eu euismod turpis, in posuere elit. In pellentesque massa sit amet sem posuere, vel viverra justo suscipit. Aenean nibh sem, imperdiet nec sem sit amet, maximus euismod velit. Ut vitae ex mauris. Donec laoreet lorem at diam viverra dapibus. Suspendisse elementum rhoncus commodo. Donec massa purus, dignissim maximus laoreet in, pharetra euismod nulla.Nunc eu libero lacus. Class aptent taciti sociosqu ad litora torquent per conubia nostra, per inceptos himenaeos. Morbi eget tincidunt velit. Curabitur a libero vel felis maximus ultrices. Donec porta fringilla purus eget porttitor. In cursus lobortis sapien, sit amet euismod eros semper quis. Fusce luctus eleifend neque, gravida mollis massa fringilla sit amet. Nunc placerat, purus sit amet maximus sollicitudin, sapien sem suscipit elit, non aliquet nunc nisl in arcu.Quisque eu nisi interdum, pretium elit vel, dignissim est. Ut lobortis vehicula lectus, imperdiet tristique lorem pulvinar at. Phasellus leo justo, tempor at maximus a, vehicula et urna. Nunc blandit eros in dui venenatis placerat. Maecenas vehicula neque orci, at tempor elit vehicula et. Integer elementum, diam nec mattis porttitor, risus nibh vehicula quam, sit amet pellentesque quam ante commodo orci. Etiam sed dignissim tellus. Cras non ultrices velit, eget egestas justo. Ut rutrum condimentum lorem, ut auctor massa dictum eu. Morbi dictum eget eros sed varius. Nunc tristique mollis fermentum. Donec vel odio gravida, fringilla ante a, volutpat dolor. Vestibulum facilisis dictum magna id aliquam. Etiam ex ex, ultricies a dignissim vitae, sollicitudin nec orci. Nam eu augue et libero porttitor maximus volutpat a risus. Suspendisse eget mauris et mi tincidunt suscipit.\"\n",
    "words = [\"Lorem\", \"ipsum\", \"sit\"]\n",
    "dispersionPlot(text, words, lang = \"la\")"
   ]
  },
  {
   "cell_type": "code",
   "execution_count": 21,
   "metadata": {
    "scrolled": true
   },
   "outputs": [
    {
     "name": "stdout",
     "output_type": "stream",
     "text": [
      "Language not presently covered by CLTK or wrong language code\n"
     ]
    }
   ],
   "source": [
    "text = \"Ἀθήναιος μὲν ὁ τῆς βίβλου πατήρ· ποιεῖται δὲ τὸν λόγον πρὸς Τιμοκράτην· Δειπνοσοφιστὴς δὲ ταύτῃ τὸ ὄνομα. Ὑπόκειται δὲ τῷ λόγῳ Λαρήνσιος Ῥωμαῖος, ἀνὴρ τῇ τύχῃ περιφανής, τοὺς κατὰ πᾶσαν παιδείαν ἐμπειροτάτους ἐν αὑτοῦ δαιτυμόνας ποιούμενος· ἐν οἷς οὐκ ἔσθ᾽ οὗτινος τῶν καλλίστων οὐκ ἐμνημόνευσεν. Ἰχθῦς τε γὰρ τῇ βίβλῳ ἐνέθετο καὶ τὰς τούτων χρείας καὶ τὰς τῶν ὀνομάτων ἀναπτύξεις καὶ λαχάνων γένη παντοῖα καὶ ζῴων παντοδαπῶν καὶ ἄνδρας ἱστορίας συγγεγραφότας καὶ ποιητὰς καὶ φιλοσόφους καὶ ὄργανα μουσικὰ καὶ σκωμμάτων εἴδη μυρία καὶ ἐκπωμάτων διαφορὰς καὶ πλούτους βασιλέων διηγήσατο καὶ νηῶν μεγέθη καὶ ὅσα ἄλλα οὐδ᾽ ἂν εὐχερῶς ἀπομνημονεύσαιμι, ἢ ἐπιλίποι μ᾽ ἂν ἡ ἡμέρα κατ᾽ εἶδος διεξερχόμενον. Καί ἐστιν ἡ τοῦ λόγου οἰκονομία μίμημα τῆς τοῦ δείπνου πολυτελείας καὶ ἡ τῆς βίβλου διασκευὴ τῆς ἐν τῷ δείπνῳ παρασκευῆς. Τοιοῦτον ὁ θαυμαστὸς οὗτος τοῦ λόγου οἰκονόμος Ἀθήναιος ἥδιστον λογόδειπνον εἰσηγεῖται κρείττων τε αὐτὸς ἑαυτοῦ γινόμενος, ὥσπερ οἱ Ἀθήνησι ῥήτορες, ὑπὸ τῆς ἐν τῷ λέγειν θερμότητος πρὸς τὰ ἑπόμενα τῆς βίβλου βαθμηδὸν ὑπεράλλεται.\"\n",
    "words = [\"δὲ\", \"καὶ\", \"τῆς\"]\n",
    "dispersionPlot(text, words, \"grc\")"
   ]
  },
  {
   "cell_type": "markdown",
   "metadata": {},
   "source": [
    "Indeed, Ancient Greek is not defined in the above function, or in the [ISO 639-1](https://en.wikipedia.org/wiki/List_of_ISO_639-1_codes) list ([ISO 639-2](https://en.wikipedia.org/wiki/List_of_ISO_639-2_codes) is the standard you're looking for).\n",
    "\n",
    "Fortunately, we can try and use the same tokenizer as for Latin."
   ]
  },
  {
   "cell_type": "code",
   "execution_count": 22,
   "metadata": {},
   "outputs": [
    {
     "data": {
      "image/png": "[encoded data removed]",
      "text/plain": [
       "<Figure size 432x288 with 1 Axes>"
      ]
     },
     "metadata": {
      "needs_background": "light"
     },
     "output_type": "display_data"
    }
   ],
   "source": [
    "dispersionPlot(text, words, \"la\")"
   ]
  },
  {
   "cell_type": "markdown",
   "metadata": {},
   "source": [
    "Or modify the function thus:"
   ]
  },
  {
   "cell_type": "code",
   "execution_count": 23,
   "metadata": {},
   "outputs": [],
   "source": [
    "def dispersionPlot2(text, words, lang):\n",
    "    languages = [\"en\",\"bn\",\"hi\",\"la\",\"sa\",\"grc\"]\n",
    "    indianLanguage = {\"bn\":\"bengali\",\"hi\":\"hindi\",\"sa\":\"sanskrit\"}\n",
    "    \"\"\"\n",
    "    en:English\n",
    "    bn:Bengali\n",
    "    hi:Hindi\n",
    "    la:Latin\n",
    "    sa:Sanskrit\n",
    "    \"\"\"\n",
    "    \n",
    "    if lang in languages:\n",
    "        if lang in [\"en\",\"la\"]:\n",
    "            tokens = word_tokenize(text.lower())\n",
    "            for i in range(0,len(words)):\n",
    "                words[i] = words[i].lower()\n",
    "        if lang in [\"grc\"]:\n",
    "            word_tokenizer = WordTokenizer('greek')\n",
    "            tokens = word_tokenizer.tokenize(text.lower())\n",
    "            for i in range(0,len(words)):\n",
    "                words[i] = words[i].lower()\n",
    "        if lang in indianLanguage:\n",
    "            tokenizer = TokenizeSentence(indianLanguage[lang])\n",
    "            tokens= tokenizer.indian_punctuation_tokenize_regex(text)\n",
    "    \n",
    "    # Locating the matches of the words in the text.    \n",
    "        x_length = len(tokens)\n",
    "        y_length = len(words)\n",
    "        x_list = []\n",
    "        y_list = []\n",
    "        for i in range(0,x_length):\n",
    "            for j in range(0,y_length):\n",
    "                if tokens[i]==words[j]:\n",
    "                    x_list.append(i+1)\n",
    "                    y_list.append(j)\n",
    "    \n",
    "    #Creation of Dispersion Plot with Matplotlib's pyplot.         \n",
    "        plt.plot(x_list, y_list, \"b|\", scalex=.1)\n",
    "        plt.yticks(list(range(len(words))), words, color=\"b\")\n",
    "        plt.ylim(-1, len(words))\n",
    "        plt.xlabel(\"Lexical Distribution\")\n",
    "        plt.show()\n",
    "            \n",
    "    else:\n",
    "        print(\"Language not presently covered by CLTK or wrong language code\")\n"
   ]
  },
  {
   "cell_type": "code",
   "execution_count": 24,
   "metadata": {},
   "outputs": [
    {
     "data": {
      "image/png": "[encoded data removed]",
      "text/plain": [
       "<Figure size 432x288 with 1 Axes>"
      ]
     },
     "metadata": {
      "needs_background": "light"
     },
     "output_type": "display_data"
    }
   ],
   "source": [
    "dispersionPlot2(text, words, \"grc\")"
   ]
  }
 ],
 "metadata": {
  "kernelspec": {
   "display_name": "Python 3",
   "language": "python",
   "name": "python3"
  },
  "language_info": {
   "codemirror_mode": {
    "name": "ipython",
    "version": 3
   },
   "file_extension": ".py",
   "mimetype": "text/x-python",
   "name": "python",
   "nbconvert_exporter": "python",
   "pygments_lexer": "ipython3",
   "version": "3.7.4"
  }
 },
 "nbformat": 4,
 "nbformat_minor": 4
}
